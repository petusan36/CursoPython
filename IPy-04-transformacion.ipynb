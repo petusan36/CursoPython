{
 "cells": [
  {
   "cell_type": "markdown",
   "metadata": {},
   "source": [
    "Transformación de datos\n",
    "===\n",
    "\n",
    "**Juan David Velásquez Henao**  \n",
    "jdvelasq@unal.edu.co   \n",
    "Universidad Nacional de Colombia, Sede Medellín  \n",
    "Facultad de Minas  \n",
    "Medellín, Colombia\n",
    "\n",
    "---\n",
    "\n",
    "Haga click [aquí](https://github.com/jdvelasq/IPy-for-data-science/blob/master/IPy-04-transformacion.ipynb) para acceder a la última versión online\n",
    "\n",
    "Haga click [aquí](http://nbviewer.jupyter.org/github/jdvelasq/IPy-for-data-science/blob/master/IPy-04-transformacion.ipynb) para ver la última versión online en `nbviewer`. \n",
    "\n",
    "---"
   ]
  },
  {
   "cell_type": "markdown",
   "metadata": {},
   "source": [
    "#### Contenido"
   ]
  },
  {
   "cell_type": "markdown",
   "metadata": {},
   "source": [
    "> * [Indexación y selección](#Indexación-y-selección)\n",
    "   * [Indexación por nombres de filas y columnas](#Indexación-por-nombres-de-filas-y-columnas)\n",
    "   * [Indexación numérica](#Indexación-numérica)\n",
    "   * [Indexación booleana](#Indexación-booleana)\n",
    "* [Agrupamiento, agregación y pivote](#Agrupamiento,-agregación-y-pivote)\n",
    "   * [Agrupamiento](#Agrupamiento)\n",
    "   * [Agregación](#Agregación)\n",
    "   * [Pivotes](#Pivotes)\n",
    "* [Transformaciones](#Transformaciones)\n",
    "   * [Stack & unstack](#Stack-&-unstack)\n",
    "   * [Tablas dinámicas](#Tablas-dinámicas)\n",
    "   * [Unión](#Unión)\n",
    "   * [Variables dummy](#Variables-dummy)\n",
    "* [Inserción, borrado, casos duplicados y datos faltantes](#Inserción,-borrado,-casos-duplicados-y-datos-faltantes)\n",
    "   * [Inserción de Columnas](#Inserción-de-columnas)\n",
    "   * [Inserción de filas](#Inserción-de-filas)\n",
    "   * [Casos duplicados y datos faltantes](#Casos-duplicados-y-datos-faltantes)\n",
    "   * [Estadísticos descriptivos](#Estadísticos-descriptivos)\n",
    "   * [Paneles de DataFrames](#Paneles-de-DataFrames)"
   ]
  },
  {
   "cell_type": "markdown",
   "metadata": {},
   "source": [
    "**Bibliografía**.\n",
    "\n",
    "> [pandas 0.18.1 documentation](http://pandas.pydata.org/pandas-docs/stable/index.html)  \n",
    "[10 Minutes to pandas](http://pandas.pydata.org/pandas-docs/stable/10min.html) "
   ]
  },
  {
   "cell_type": "markdown",
   "metadata": {},
   "source": [
    "**Preparación de datos**"
   ]
  },
  {
   "cell_type": "markdown",
   "metadata": {},
   "source": [
    "Muchos de los ejemplos anteriores pueden ser aplicados directamente a las columnas de un dataframe."
   ]
  },
  {
   "cell_type": "code",
   "execution_count": 1,
   "metadata": {},
   "outputs": [],
   "source": [
    "## importa la librería\n",
    "import pandas\n",
    "import numpy as np\n",
    "\n",
    "pandas.set_option('display.notebook_repr_html', False)"
   ]
  },
  {
   "cell_type": "code",
   "execution_count": 2,
   "metadata": {
    "scrolled": false
   },
   "outputs": [
    {
     "data": {
      "text/plain": [
       "       Sepal_Length  Sepal_Width  Petal_Length  Petal_Width\n",
       "count    150.000000   150.000000    150.000000   150.000000\n",
       "mean       5.843333     3.057333      3.758000     1.199333\n",
       "std        0.828066     0.435866      1.765298     0.762238\n",
       "min        4.300000     2.000000      1.000000     0.100000\n",
       "25%        5.100000     2.800000      1.600000     0.300000\n",
       "50%        5.800000     3.000000      4.350000     1.300000\n",
       "75%        6.400000     3.300000      5.100000     1.800000\n",
       "max        7.900000     4.400000      6.900000     2.500000"
      ]
     },
     "execution_count": 2,
     "metadata": {},
     "output_type": "execute_result"
    }
   ],
   "source": [
    "## lee el archivo del disco.\n",
    "x = pandas.read_csv('files/iris.csv',\n",
    "                     sep = ',',\n",
    "                     thousands = None,\n",
    "                     decimal = '.')\n",
    "x.describe()"
   ]
  },
  {
   "cell_type": "markdown",
   "metadata": {},
   "source": [
    "# Indexación y selección"
   ]
  },
  {
   "cell_type": "markdown",
   "metadata": {},
   "source": [
    "[Contenido](#Contenido)"
   ]
  },
  {
   "cell_type": "code",
   "execution_count": 3,
   "metadata": {},
   "outputs": [
    {
     "data": {
      "text/plain": [
       "150"
      ]
     },
     "execution_count": 3,
     "metadata": {},
     "output_type": "execute_result"
    }
   ],
   "source": [
    "## número de filas del dataframe\n",
    "len(x)"
   ]
  },
  {
   "cell_type": "code",
   "execution_count": 4,
   "metadata": {
    "scrolled": true
   },
   "outputs": [
    {
     "data": {
      "text/plain": [
       "5"
      ]
     },
     "execution_count": 4,
     "metadata": {},
     "output_type": "execute_result"
    }
   ],
   "source": [
    "## número de columnas del dataframe\n",
    "len(list(x.axes[1]))"
   ]
  },
  {
   "cell_type": "code",
   "execution_count": 5,
   "metadata": {},
   "outputs": [
    {
     "data": {
      "text/plain": [
       "750"
      ]
     },
     "execution_count": 5,
     "metadata": {},
     "output_type": "execute_result"
    }
   ],
   "source": [
    "## total de datos\n",
    "x.size"
   ]
  },
  {
   "cell_type": "code",
   "execution_count": 6,
   "metadata": {},
   "outputs": [
    {
     "name": "stdout",
     "output_type": "stream",
     "text": [
      "                 0       1       2       3       4       5       6       7    \\\n",
      "Sepal_Length     5.1     4.9     4.7     4.6       5     5.4     4.6       5   \n",
      "Sepal_Width      3.5       3     3.2     3.1     3.6     3.9     3.4     3.4   \n",
      "Petal_Length     1.4     1.4     1.3     1.5     1.4     1.7     1.4     1.5   \n",
      "Petal_Width      0.2     0.2     0.2     0.2     0.2     0.4     0.3     0.2   \n",
      "Species       setosa  setosa  setosa  setosa  setosa  setosa  setosa  setosa   \n",
      "\n",
      "                 8       9      ...            140        141        142  \\\n",
      "Sepal_Length     4.4     4.9    ...            6.7        6.9        5.8   \n",
      "Sepal_Width      2.9     3.1    ...            3.1        3.1        2.7   \n",
      "Petal_Length     1.4     1.5    ...            5.6        5.1        5.1   \n",
      "Petal_Width      0.2     0.1    ...            2.4        2.3        1.9   \n",
      "Species       setosa  setosa    ...      virginica  virginica  virginica   \n",
      "\n",
      "                    143        144        145        146        147  \\\n",
      "Sepal_Length        6.8        6.7        6.7        6.3        6.5   \n",
      "Sepal_Width         3.2        3.3          3        2.5          3   \n",
      "Petal_Length        5.9        5.7        5.2          5        5.2   \n",
      "Petal_Width         2.3        2.5        2.3        1.9          2   \n",
      "Species       virginica  virginica  virginica  virginica  virginica   \n",
      "\n",
      "                    148        149  \n",
      "Sepal_Length        6.2        5.9  \n",
      "Sepal_Width         3.4          3  \n",
      "Petal_Length        5.4        5.1  \n",
      "Petal_Width         2.3        1.8  \n",
      "Species       virginica  virginica  \n",
      "\n",
      "[5 rows x 150 columns]\n"
     ]
    }
   ],
   "source": [
    "## transpuesta\n",
    "print(x.T.head())"
   ]
  },
  {
   "cell_type": "markdown",
   "metadata": {},
   "source": [
    "## Indexación por nombres de filas y columnas"
   ]
  },
  {
   "cell_type": "markdown",
   "metadata": {},
   "source": [
    "[Contenido](#Contenido)"
   ]
  },
  {
   "cell_type": "code",
   "execution_count": 7,
   "metadata": {
    "scrolled": true
   },
   "outputs": [
    {
     "name": "stdout",
     "output_type": "stream",
     "text": [
      "   Sepal_Length  Sepal_Width  Petal_Length  Petal_Width Species\n",
      "0           5.1          3.5           1.4          0.2  setosa\n",
      "1           4.9          3.0           1.4          0.2  setosa\n",
      "2           4.7          3.2           1.3          0.2  setosa\n",
      "3           4.6          3.1           1.5          0.2  setosa\n",
      "4           5.0          3.6           1.4          0.2  setosa\n"
     ]
    }
   ],
   "source": [
    "## parte inicial del dataframe\n",
    "print(x.head())"
   ]
  },
  {
   "cell_type": "code",
   "execution_count": 8,
   "metadata": {},
   "outputs": [
    {
     "name": "stdout",
     "output_type": "stream",
     "text": [
      "   Sepal_Length  Sepal_Width  Petal_Length  Petal_Width Species\n",
      "0           5.1          3.5           1.4          0.2  setosa\n",
      "1           4.9          3.0           1.4          0.2  setosa\n",
      "2           4.7          3.2           1.3          0.2  setosa\n"
     ]
    }
   ],
   "source": [
    "## parte inicial del dataframe\n",
    "print(x.head(3))"
   ]
  },
  {
   "cell_type": "code",
   "execution_count": 9,
   "metadata": {},
   "outputs": [
    {
     "name": "stdout",
     "output_type": "stream",
     "text": [
      "     Sepal_Length  Sepal_Width  Petal_Length  Petal_Width    Species\n",
      "145           6.7          3.0           5.2          2.3  virginica\n",
      "146           6.3          2.5           5.0          1.9  virginica\n",
      "147           6.5          3.0           5.2          2.0  virginica\n",
      "148           6.2          3.4           5.4          2.3  virginica\n",
      "149           5.9          3.0           5.1          1.8  virginica\n"
     ]
    }
   ],
   "source": [
    "## parte final del dataframe\n",
    "print(x.tail())"
   ]
  },
  {
   "cell_type": "code",
   "execution_count": 10,
   "metadata": {},
   "outputs": [
    {
     "name": "stdout",
     "output_type": "stream",
     "text": [
      "     Sepal_Length  Sepal_Width  Petal_Length  Petal_Width    Species\n",
      "147           6.5          3.0           5.2          2.0  virginica\n",
      "148           6.2          3.4           5.4          2.3  virginica\n",
      "149           5.9          3.0           5.1          1.8  virginica\n"
     ]
    }
   ],
   "source": [
    "## parte final del dataframe\n",
    "print(x.tail(3))"
   ]
  },
  {
   "cell_type": "code",
   "execution_count": 11,
   "metadata": {},
   "outputs": [
    {
     "data": {
      "text/plain": [
       "['Sepal_Length', 'Sepal_Width', 'Petal_Length', 'Petal_Width', 'Species']"
      ]
     },
     "execution_count": 11,
     "metadata": {},
     "output_type": "execute_result"
    }
   ],
   "source": [
    "## nombres de las columnas\n",
    "list(x.axes[1])"
   ]
  },
  {
   "cell_type": "code",
   "execution_count": 12,
   "metadata": {},
   "outputs": [
    {
     "data": {
      "text/plain": [
       "Index(['Sepal_Length', 'Sepal_Width', 'Petal_Length', 'Petal_Width',\n",
       "       'Species'],\n",
       "      dtype='object')"
      ]
     },
     "execution_count": 12,
     "metadata": {},
     "output_type": "execute_result"
    }
   ],
   "source": [
    "## nombres de las columnas\n",
    "x.columns"
   ]
  },
  {
   "cell_type": "code",
   "execution_count": 13,
   "metadata": {
    "scrolled": true
   },
   "outputs": [
    {
     "data": {
      "text/plain": [
       "RangeIndex(start=0, stop=150, step=1)"
      ]
     },
     "execution_count": 13,
     "metadata": {},
     "output_type": "execute_result"
    }
   ],
   "source": [
    "## nombres de las filas\n",
    "x.index"
   ]
  },
  {
   "cell_type": "code",
   "execution_count": 14,
   "metadata": {
    "scrolled": false
   },
   "outputs": [
    {
     "name": "stdout",
     "output_type": "stream",
     "text": [
      "[0, 1, 2, 3, 4, 5, 6, 7, 8, 9, 10, 11, 12, 13, 14, 15, 16, 17, 18, 19, 20, 21, 22, 23, 24, 25, 26, 27, 28, 29, 30, 31, 32, 33, 34, 35, 36, 37, 38, 39, 40, 41, 42, 43, 44, 45, 46, 47, 48, 49, 50, 51, 52, 53, 54, 55, 56, 57, 58, 59, 60, 61, 62, 63, 64, 65, 66, 67, 68, 69, 70, 71, 72, 73, 74, 75, 76, 77, 78, 79, 80, 81, 82, 83, 84, 85, 86, 87, 88, 89, 90, 91, 92, 93, 94, 95, 96, 97, 98, 99, 100, 101, 102, 103, 104, 105, 106, 107, 108, 109, 110, 111, 112, 113, 114, 115, 116, 117, 118, 119, 120, 121, 122, 123, 124, 125, 126, 127, 128, 129, 130, 131, 132, 133, 134, 135, 136, 137, 138, 139, 140, 141, 142, 143, 144, 145, 146, 147, 148, 149]\n"
     ]
    }
   ],
   "source": [
    "## nombres de las filas\n",
    "print(list(x.index))"
   ]
  },
  {
   "cell_type": "code",
   "execution_count": 15,
   "metadata": {
    "scrolled": true
   },
   "outputs": [
    {
     "data": {
      "text/plain": [
       "0    setosa\n",
       "1    setosa\n",
       "2    setosa\n",
       "3    setosa\n",
       "4    setosa\n",
       "Name: Species, dtype: object"
      ]
     },
     "execution_count": 15,
     "metadata": {},
     "output_type": "execute_result"
    }
   ],
   "source": [
    "## todas las filas y la columna Species\n",
    "#-R-#  print(head(x[,'Species'], 10))\n",
    "x['Species'].head()"
   ]
  },
  {
   "cell_type": "code",
   "execution_count": 16,
   "metadata": {
    "scrolled": true
   },
   "outputs": [
    {
     "data": {
      "text/plain": [
       "  Species  Sepal_Length\n",
       "0  setosa           5.1\n",
       "1  setosa           4.9\n",
       "2  setosa           4.7\n",
       "3  setosa           4.6\n",
       "4  setosa           5.0"
      ]
     },
     "execution_count": 16,
     "metadata": {},
     "output_type": "execute_result"
    }
   ],
   "source": [
    "## varias columnas\n",
    "x[['Species', 'Sepal_Length']].head()"
   ]
  },
  {
   "cell_type": "code",
   "execution_count": 17,
   "metadata": {},
   "outputs": [
    {
     "data": {
      "text/plain": [
       "0    setosa\n",
       "1    setosa\n",
       "2    setosa\n",
       "3    setosa\n",
       "4    setosa\n",
       "Name: Species, dtype: object"
      ]
     },
     "execution_count": 17,
     "metadata": {},
     "output_type": "execute_result"
    }
   ],
   "source": [
    "## otra forma de obtener una columna\n",
    "x.get('Species').head()"
   ]
  },
  {
   "cell_type": "code",
   "execution_count": 18,
   "metadata": {},
   "outputs": [
    {
     "data": {
      "text/plain": [
       "0    setosa\n",
       "1    setosa\n",
       "2    setosa\n",
       "3    setosa\n",
       "4    setosa\n",
       "Name: Species, dtype: object"
      ]
     },
     "execution_count": 18,
     "metadata": {},
     "output_type": "execute_result"
    }
   ],
   "source": [
    "## acceso con el operador '.'\n",
    "x.Species.head()"
   ]
  },
  {
   "cell_type": "code",
   "execution_count": 19,
   "metadata": {
    "scrolled": false
   },
   "outputs": [
    {
     "data": {
      "text/plain": [
       "  Species\n",
       "0  setosa\n",
       "1  setosa\n",
       "2  setosa\n",
       "3  setosa\n",
       "4  setosa"
      ]
     },
     "execution_count": 19,
     "metadata": {},
     "output_type": "execute_result"
    }
   ],
   "source": [
    "x.loc[:,['Species']].head()"
   ]
  },
  {
   "cell_type": "code",
   "execution_count": 20,
   "metadata": {},
   "outputs": [
    {
     "data": {
      "text/plain": [
       "Sepal_Length       4.7\n",
       "Sepal_Width        3.2\n",
       "Petal_Length       1.3\n",
       "Petal_Width        0.2\n",
       "Species         setosa\n",
       "Name: 2, dtype: object"
      ]
     },
     "execution_count": 20,
     "metadata": {},
     "output_type": "execute_result"
    }
   ],
   "source": [
    "## forma alternativa para acceder a un elemento\n",
    "x.loc[2]"
   ]
  },
  {
   "cell_type": "code",
   "execution_count": 21,
   "metadata": {},
   "outputs": [
    {
     "data": {
      "text/plain": [
       "4.7000000000000002"
      ]
     },
     "execution_count": 21,
     "metadata": {},
     "output_type": "execute_result"
    }
   ],
   "source": [
    "## valor para una fila y columna particular\n",
    "x.ix[2, 'Sepal_Length']"
   ]
  },
  {
   "cell_type": "code",
   "execution_count": 22,
   "metadata": {},
   "outputs": [
    {
     "data": {
      "text/plain": [
       "4.7000000000000002"
      ]
     },
     "execution_count": 22,
     "metadata": {},
     "output_type": "execute_result"
    }
   ],
   "source": [
    "x.loc[2].Sepal_Length"
   ]
  },
  {
   "cell_type": "code",
   "execution_count": 23,
   "metadata": {},
   "outputs": [
    {
     "data": {
      "text/plain": [
       "4.7000000000000002"
      ]
     },
     "execution_count": 23,
     "metadata": {},
     "output_type": "execute_result"
    }
   ],
   "source": [
    "x.loc[2]['Sepal_Length']"
   ]
  },
  {
   "cell_type": "code",
   "execution_count": 24,
   "metadata": {
    "scrolled": true
   },
   "outputs": [
    {
     "data": {
      "text/plain": [
       "Species         setosa\n",
       "Sepal_Length       4.7\n",
       "Name: 2, dtype: object"
      ]
     },
     "execution_count": 24,
     "metadata": {},
     "output_type": "execute_result"
    }
   ],
   "source": [
    "## valor para una fila y columna particular\n",
    "x.loc[2, ['Species', 'Sepal_Length']]"
   ]
  },
  {
   "cell_type": "code",
   "execution_count": 25,
   "metadata": {
    "scrolled": false
   },
   "outputs": [
    {
     "data": {
      "text/plain": [
       "['case_0', 'case_1', 'case_2', 'case_3', 'case_4']"
      ]
     },
     "execution_count": 25,
     "metadata": {},
     "output_type": "execute_result"
    }
   ],
   "source": [
    "## nombres de las filas. los nombres deben ser únicos\n",
    "key = ['case_{}'.format(n) for n in range(150)]\n",
    "key[0:5]"
   ]
  },
  {
   "cell_type": "code",
   "execution_count": 26,
   "metadata": {
    "scrolled": true
   },
   "outputs": [
    {
     "data": {
      "text/plain": [
       "        Sepal_Length  Sepal_Width  Petal_Length  Petal_Width Species\n",
       "case_0           5.1          3.5           1.4          0.2  setosa\n",
       "case_1           4.9          3.0           1.4          0.2  setosa\n",
       "case_2           4.7          3.2           1.3          0.2  setosa\n",
       "case_3           4.6          3.1           1.5          0.2  setosa\n",
       "case_4           5.0          3.6           1.4          0.2  setosa"
      ]
     },
     "execution_count": 26,
     "metadata": {},
     "output_type": "execute_result"
    }
   ],
   "source": [
    "## cambia los nombres de las filas \n",
    "x.index = key\n",
    "x.head()"
   ]
  },
  {
   "cell_type": "code",
   "execution_count": 27,
   "metadata": {},
   "outputs": [
    {
     "data": {
      "text/plain": [
       "Sepal_Length       4.7\n",
       "Sepal_Width        3.2\n",
       "Petal_Length       1.3\n",
       "Petal_Width        0.2\n",
       "Species         setosa\n",
       "Name: case_2, dtype: object"
      ]
     },
     "execution_count": 27,
     "metadata": {},
     "output_type": "execute_result"
    }
   ],
   "source": [
    "## selección por nombre de la fila\n",
    "x.loc['case_2']"
   ]
  },
  {
   "cell_type": "code",
   "execution_count": 28,
   "metadata": {},
   "outputs": [
    {
     "data": {
      "text/plain": [
       "        Sepal_Length  Sepal_Width  Petal_Length  Petal_Width Species\n",
       "case_2           4.7          3.2           1.3          0.2  setosa\n",
       "case_4           5.0          3.6           1.4          0.2  setosa"
      ]
     },
     "execution_count": 28,
     "metadata": {},
     "output_type": "execute_result"
    }
   ],
   "source": [
    "## selección por nombre de la fila\n",
    "x.loc[['case_2', 'case_4']]"
   ]
  },
  {
   "cell_type": "code",
   "execution_count": 29,
   "metadata": {},
   "outputs": [
    {
     "data": {
      "text/plain": [
       "        Sepal_Length\n",
       "case_2           4.7"
      ]
     },
     "execution_count": 29,
     "metadata": {},
     "output_type": "execute_result"
    }
   ],
   "source": [
    "## selección por nombres de fila y columna\n",
    "x.loc[['case_2'], ['Sepal_Length']]"
   ]
  },
  {
   "cell_type": "code",
   "execution_count": 30,
   "metadata": {},
   "outputs": [
    {
     "data": {
      "text/plain": [
       "4.7000000000000002"
      ]
     },
     "execution_count": 30,
     "metadata": {},
     "output_type": "execute_result"
    }
   ],
   "source": [
    "x.loc['case_2', 'Sepal_Length']"
   ]
  },
  {
   "cell_type": "code",
   "execution_count": 31,
   "metadata": {},
   "outputs": [
    {
     "data": {
      "text/plain": [
       "        Sepal_Length  Sepal_Width\n",
       "case_2           4.7          3.2\n",
       "case_4           5.0          3.6"
      ]
     },
     "execution_count": 31,
     "metadata": {},
     "output_type": "execute_result"
    }
   ],
   "source": [
    "## selección por nombres de fila y columna\n",
    "x.loc[['case_2', 'case_4'], ['Sepal_Length', 'Sepal_Width']]"
   ]
  },
  {
   "cell_type": "code",
   "execution_count": 32,
   "metadata": {},
   "outputs": [
    {
     "data": {
      "text/plain": [
       "        Petal_Length  Petal_Width Species\n",
       "case_2           1.3          0.2  setosa\n",
       "case_4           1.4          0.2  setosa"
      ]
     },
     "execution_count": 32,
     "metadata": {},
     "output_type": "execute_result"
    }
   ],
   "source": [
    "## selección por nombre de la fila y número de las columnas\n",
    "x.loc[['case_2', 'case_4']][[2, 3, 4]]"
   ]
  },
  {
   "cell_type": "code",
   "execution_count": 33,
   "metadata": {},
   "outputs": [
    {
     "data": {
      "text/plain": [
       "        Sepal_Length  Sepal_Width\n",
       "case_0           5.1          3.5\n",
       "case_1           4.9          3.0\n",
       "case_2           4.7          3.2"
      ]
     },
     "execution_count": 33,
     "metadata": {},
     "output_type": "execute_result"
    }
   ],
   "source": [
    "## selección por número de fila y nombre de columnas\n",
    "x.ix[0:3, ['Sepal_Length', 'Sepal_Width']]"
   ]
  },
  {
   "cell_type": "code",
   "execution_count": 34,
   "metadata": {},
   "outputs": [
    {
     "data": {
      "text/plain": [
       "    index  Sepal_Length  Sepal_Width  Petal_Length  Petal_Width Species\n",
       "0  case_0           5.1          3.5           1.4          0.2  setosa\n",
       "1  case_1           4.9          3.0           1.4          0.2  setosa\n",
       "2  case_2           4.7          3.2           1.3          0.2  setosa\n",
       "3  case_3           4.6          3.1           1.5          0.2  setosa\n",
       "4  case_4           5.0          3.6           1.4          0.2  setosa"
      ]
     },
     "execution_count": 34,
     "metadata": {},
     "output_type": "execute_result"
    }
   ],
   "source": [
    "## vuelve al indice por defecto\n",
    "## convierte el indice en una columna\n",
    "x = x.reset_index()\n",
    "x.head()"
   ]
  },
  {
   "cell_type": "code",
   "execution_count": 35,
   "metadata": {},
   "outputs": [
    {
     "data": {
      "text/plain": [
       "   Sepal_Length  Sepal_Width  Petal_Length  Petal_Width Species\n",
       "0           5.1          3.5           1.4          0.2  setosa\n",
       "1           4.9          3.0           1.4          0.2  setosa\n",
       "2           4.7          3.2           1.3          0.2  setosa\n",
       "3           4.6          3.1           1.5          0.2  setosa\n",
       "4           5.0          3.6           1.4          0.2  setosa"
      ]
     },
     "execution_count": 35,
     "metadata": {},
     "output_type": "execute_result"
    }
   ],
   "source": [
    "del x['index']\n",
    "x.head()"
   ]
  },
  {
   "cell_type": "markdown",
   "metadata": {},
   "source": [
    "## Indexación numérica"
   ]
  },
  {
   "cell_type": "markdown",
   "metadata": {},
   "source": [
    "[Contenido](#Contenido)"
   ]
  },
  {
   "cell_type": "code",
   "execution_count": 36,
   "metadata": {
    "scrolled": false
   },
   "outputs": [
    {
     "data": {
      "text/plain": [
       "   Sepal_Length  Sepal_Width  Petal_Length\n",
       "0           5.1          3.5           1.4\n",
       "1           4.9          3.0           1.4\n",
       "2           4.7          3.2           1.3\n",
       "3           4.6          3.1           1.5\n",
       "4           5.0          3.6           1.4"
      ]
     },
     "execution_count": 36,
     "metadata": {},
     "output_type": "execute_result"
    }
   ],
   "source": [
    "## selección de las primeras tres columnas\n",
    "x[[0, 1, 2]].head()"
   ]
  },
  {
   "cell_type": "code",
   "execution_count": 37,
   "metadata": {},
   "outputs": [
    {
     "data": {
      "text/plain": [
       "   Sepal_Length  Sepal_Width  Petal_Length\n",
       "0           5.1          3.5           1.4\n",
       "1           4.9          3.0           1.4\n",
       "2           4.7          3.2           1.3\n",
       "3           4.6          3.1           1.5\n",
       "4           5.0          3.6           1.4"
      ]
     },
     "execution_count": 37,
     "metadata": {},
     "output_type": "execute_result"
    }
   ],
   "source": [
    "## selección de las primeras tres columnas\n",
    "x[list(range(0, 3))].head()"
   ]
  },
  {
   "cell_type": "code",
   "execution_count": 38,
   "metadata": {},
   "outputs": [
    {
     "data": {
      "text/plain": [
       "   Petal_Length  Petal_Width Species\n",
       "0           1.4          0.2  setosa\n",
       "1           1.4          0.2  setosa\n",
       "2           1.3          0.2  setosa\n",
       "3           1.5          0.2  setosa\n",
       "4           1.4          0.2  setosa"
      ]
     },
     "execution_count": 38,
     "metadata": {},
     "output_type": "execute_result"
    }
   ],
   "source": [
    "## selección de las últimas tres columnas\n",
    "n = len(list(x.axes[1]))\n",
    "x[list(range(n-3, n))].head()"
   ]
  },
  {
   "cell_type": "code",
   "execution_count": 39,
   "metadata": {},
   "outputs": [
    {
     "data": {
      "text/plain": [
       "   Sepal_Length Species\n",
       "0           5.1  setosa\n",
       "1           4.9  setosa\n",
       "2           4.7  setosa\n",
       "3           4.6  setosa\n",
       "4           5.0  setosa"
      ]
     },
     "execution_count": 39,
     "metadata": {},
     "output_type": "execute_result"
    }
   ],
   "source": [
    "## selección de algunas columnas\n",
    "x[[0,4]].head()"
   ]
  },
  {
   "cell_type": "code",
   "execution_count": 40,
   "metadata": {
    "scrolled": true
   },
   "outputs": [
    {
     "data": {
      "text/plain": [
       "   Sepal_Length  Sepal_Width  Petal_Length  Petal_Width Species\n",
       "0           5.1          3.5           1.4          0.2  setosa\n",
       "1           4.9          3.0           1.4          0.2  setosa\n",
       "2           4.7          3.2           1.3          0.2  setosa"
      ]
     },
     "execution_count": 40,
     "metadata": {},
     "output_type": "execute_result"
    }
   ],
   "source": [
    "## selección de las primeras 3 filas\n",
    "x[:3]"
   ]
  },
  {
   "cell_type": "code",
   "execution_count": 41,
   "metadata": {},
   "outputs": [
    {
     "data": {
      "text/plain": [
       "   Sepal_Length  Sepal_Width  Petal_Length  Petal_Width Species\n",
       "3           4.6          3.1           1.5          0.2  setosa\n",
       "4           5.0          3.6           1.4          0.2  setosa\n",
       "5           5.4          3.9           1.7          0.4  setosa\n",
       "6           4.6          3.4           1.4          0.3  setosa\n",
       "7           5.0          3.4           1.5          0.2  setosa"
      ]
     },
     "execution_count": 41,
     "metadata": {},
     "output_type": "execute_result"
    }
   ],
   "source": [
    "## desde la tercera hasta la última fila\n",
    "x[3:].head()"
   ]
  },
  {
   "cell_type": "code",
   "execution_count": 42,
   "metadata": {
    "scrolled": true
   },
   "outputs": [
    {
     "name": "stdout",
     "output_type": "stream",
     "text": [
      "     Sepal_Length  Sepal_Width  Petal_Length  Petal_Width     Species\n",
      "0             5.1          3.5           1.4          0.2      setosa\n",
      "15            5.7          4.4           1.5          0.4      setosa\n",
      "30            4.8          3.1           1.6          0.2      setosa\n",
      "45            4.8          3.0           1.4          0.3      setosa\n",
      "60            5.0          2.0           3.5          1.0  versicolor\n",
      "75            6.6          3.0           4.4          1.4  versicolor\n",
      "90            5.5          2.6           4.4          1.2  versicolor\n",
      "105           7.6          3.0           6.6          2.1   virginica\n",
      "120           6.9          3.2           5.7          2.3   virginica\n",
      "135           7.7          3.0           6.1          2.3   virginica\n"
     ]
    }
   ],
   "source": [
    "## selección por intervalos\n",
    "print( x[::15] )"
   ]
  },
  {
   "cell_type": "code",
   "execution_count": 43,
   "metadata": {},
   "outputs": [
    {
     "name": "stdout",
     "output_type": "stream",
     "text": [
      "     Sepal_Length  Sepal_Width  Petal_Length  Petal_Width    Species\n",
      "149           5.9          3.0           5.1          1.8  virginica\n",
      "148           6.2          3.4           5.4          2.3  virginica\n",
      "147           6.5          3.0           5.2          2.0  virginica\n",
      "146           6.3          2.5           5.0          1.9  virginica\n",
      "145           6.7          3.0           5.2          2.3  virginica\n"
     ]
    }
   ],
   "source": [
    "## orden inverso\n",
    "print( x[::-1].head() )"
   ]
  },
  {
   "cell_type": "code",
   "execution_count": 44,
   "metadata": {
    "scrolled": true
   },
   "outputs": [
    {
     "data": {
      "text/plain": [
       "     Sepal_Length  Sepal_Width  Petal_Length  Petal_Width    Species\n",
       "144           6.7          3.3           5.7          2.5  virginica\n",
       "145           6.7          3.0           5.2          2.3  virginica\n",
       "146           6.3          2.5           5.0          1.9  virginica\n",
       "147           6.5          3.0           5.2          2.0  virginica\n",
       "148           6.2          3.4           5.4          2.3  virginica"
      ]
     },
     "execution_count": 44,
     "metadata": {},
     "output_type": "execute_result"
    }
   ],
   "source": [
    "## todas las filas excepto la última\n",
    "x[:-1].tail()"
   ]
  },
  {
   "cell_type": "code",
   "execution_count": 45,
   "metadata": {},
   "outputs": [
    {
     "data": {
      "text/plain": [
       "Sepal_Length       4.9\n",
       "Sepal_Width          3\n",
       "Petal_Length       1.4\n",
       "Petal_Width        0.2\n",
       "Species         setosa\n",
       "Name: 1, dtype: object"
      ]
     },
     "execution_count": 45,
     "metadata": {},
     "output_type": "execute_result"
    }
   ],
   "source": [
    "## valores para una fila particular\n",
    "x.loc[1]"
   ]
  },
  {
   "cell_type": "code",
   "execution_count": 46,
   "metadata": {},
   "outputs": [
    {
     "data": {
      "text/plain": [
       "Sepal_Length       4.7\n",
       "Sepal_Width        3.2\n",
       "Petal_Length       1.3\n",
       "Petal_Width        0.2\n",
       "Species         setosa\n",
       "Name: 2, dtype: object"
      ]
     },
     "execution_count": 46,
     "metadata": {},
     "output_type": "execute_result"
    }
   ],
   "source": [
    "x.iloc[2]"
   ]
  },
  {
   "cell_type": "code",
   "execution_count": 47,
   "metadata": {},
   "outputs": [
    {
     "data": {
      "text/plain": [
       "0.20000000000000001"
      ]
     },
     "execution_count": 47,
     "metadata": {},
     "output_type": "execute_result"
    }
   ],
   "source": [
    "x.iloc[2, 3]"
   ]
  },
  {
   "cell_type": "code",
   "execution_count": 48,
   "metadata": {},
   "outputs": [
    {
     "data": {
      "text/plain": [
       "   Sepal_Length  Sepal_Width  Petal_Length  Petal_Width Species\n",
       "2           4.7          3.2           1.3          0.2  setosa"
      ]
     },
     "execution_count": 48,
     "metadata": {},
     "output_type": "execute_result"
    }
   ],
   "source": [
    "## valores para una fila particular\n",
    "x.loc[[2]]"
   ]
  },
  {
   "cell_type": "code",
   "execution_count": 49,
   "metadata": {
    "scrolled": true
   },
   "outputs": [
    {
     "data": {
      "text/plain": [
       "   Sepal_Length  Sepal_Width  Petal_Length  Petal_Width Species\n",
       "1           4.9          3.0           1.4          0.2  setosa\n",
       "3           4.6          3.1           1.5          0.2  setosa\n",
       "5           5.4          3.9           1.7          0.4  setosa"
      ]
     },
     "execution_count": 49,
     "metadata": {},
     "output_type": "execute_result"
    }
   ],
   "source": [
    "## indices como vector\n",
    "x.iloc[[1, 3, 5]]"
   ]
  },
  {
   "cell_type": "code",
   "execution_count": 50,
   "metadata": {},
   "outputs": [
    {
     "data": {
      "text/plain": [
       "   Sepal_Length Species\n",
       "1           4.9  setosa\n",
       "3           4.6  setosa\n",
       "5           5.4  setosa"
      ]
     },
     "execution_count": 50,
     "metadata": {},
     "output_type": "execute_result"
    }
   ],
   "source": [
    "## indices como vector\n",
    "x.iloc[[1, 3, 5],[0, 4]]"
   ]
  },
  {
   "cell_type": "code",
   "execution_count": 51,
   "metadata": {},
   "outputs": [
    {
     "data": {
      "text/plain": [
       "5.0999999999999996"
      ]
     },
     "execution_count": 51,
     "metadata": {},
     "output_type": "execute_result"
    }
   ],
   "source": [
    "## acceso rapido a un elemento\n",
    "x.at[0, 'Sepal_Length']"
   ]
  },
  {
   "cell_type": "markdown",
   "metadata": {},
   "source": [
    "## Indexación booleana"
   ]
  },
  {
   "cell_type": "markdown",
   "metadata": {},
   "source": [
    "[Contenido](#Contenido)"
   ]
  },
  {
   "cell_type": "code",
   "execution_count": 52,
   "metadata": {},
   "outputs": [
    {
     "data": {
      "text/plain": [
       "0    False\n",
       "1    False\n",
       "2    False\n",
       "3    False\n",
       "4    False\n",
       "Name: Species, dtype: bool"
      ]
     },
     "execution_count": 52,
     "metadata": {},
     "output_type": "execute_result"
    }
   ],
   "source": [
    "## selección condicional\n",
    "(x['Species'] == 'virginica').head()"
   ]
  },
  {
   "cell_type": "code",
   "execution_count": 53,
   "metadata": {
    "scrolled": true
   },
   "outputs": [
    {
     "data": {
      "text/plain": [
       "     Sepal_Length  Sepal_Width  Petal_Length  Petal_Width    Species\n",
       "100           6.3          3.3           6.0          2.5  virginica\n",
       "101           5.8          2.7           5.1          1.9  virginica\n",
       "102           7.1          3.0           5.9          2.1  virginica\n",
       "103           6.3          2.9           5.6          1.8  virginica\n",
       "104           6.5          3.0           5.8          2.2  virginica"
      ]
     },
     "execution_count": 53,
     "metadata": {},
     "output_type": "execute_result"
    }
   ],
   "source": [
    "## selección condicional\n",
    "x.loc[x['Species'] == 'virginica'].head()"
   ]
  },
  {
   "cell_type": "code",
   "execution_count": 54,
   "metadata": {},
   "outputs": [
    {
     "data": {
      "text/plain": [
       "0    False\n",
       "1    False\n",
       "2    False\n",
       "3    False\n",
       "4    False\n",
       "Name: Species, dtype: bool"
      ]
     },
     "execution_count": 54,
     "metadata": {},
     "output_type": "execute_result"
    }
   ],
   "source": [
    "## metodo `isin()`\n",
    "w = x['Species'].isin(['virginica'])\n",
    "w.head()"
   ]
  },
  {
   "cell_type": "code",
   "execution_count": 55,
   "metadata": {},
   "outputs": [
    {
     "data": {
      "text/plain": [
       "     Sepal_Length  Sepal_Width  Petal_Length  Petal_Width    Species\n",
       "100           6.3          3.3           6.0          2.5  virginica\n",
       "101           5.8          2.7           5.1          1.9  virginica\n",
       "102           7.1          3.0           5.9          2.1  virginica\n",
       "103           6.3          2.9           5.6          1.8  virginica\n",
       "104           6.5          3.0           5.8          2.2  virginica"
      ]
     },
     "execution_count": 55,
     "metadata": {},
     "output_type": "execute_result"
    }
   ],
   "source": [
    "x[w].head()"
   ]
  },
  {
   "cell_type": "code",
   "execution_count": 56,
   "metadata": {},
   "outputs": [
    {
     "data": {
      "text/plain": [
       "    Sepal_Length  Sepal_Width  Petal_Length  Petal_Width     Species\n",
       "50           7.0          3.2           4.7          1.4  versicolor\n",
       "51           6.4          3.2           4.5          1.5  versicolor\n",
       "52           6.9          3.1           4.9          1.5  versicolor\n",
       "53           5.5          2.3           4.0          1.3  versicolor\n",
       "54           6.5          2.8           4.6          1.5  versicolor"
      ]
     },
     "execution_count": 56,
     "metadata": {},
     "output_type": "execute_result"
    }
   ],
   "source": [
    "## selección condicional\n",
    "x.loc[x['Petal_Length'] > 3.2].head()"
   ]
  },
  {
   "cell_type": "code",
   "execution_count": 57,
   "metadata": {
    "scrolled": true
   },
   "outputs": [
    {
     "data": {
      "text/plain": [
       "virginica     50\n",
       "versicolor    50\n",
       "setosa        50\n",
       "Name: Species, dtype: int64"
      ]
     },
     "execution_count": 57,
     "metadata": {},
     "output_type": "execute_result"
    }
   ],
   "source": [
    "## conteo de casos\n",
    "x['Species'].value_counts()"
   ]
  },
  {
   "cell_type": "markdown",
   "metadata": {},
   "source": [
    "# Agrupamiento, agregación y pivote"
   ]
  },
  {
   "cell_type": "markdown",
   "metadata": {},
   "source": [
    "[Contenido](#Contenido)"
   ]
  },
  {
   "cell_type": "markdown",
   "metadata": {},
   "source": [
    "**Preparación de datos.**"
   ]
  },
  {
   "cell_type": "code",
   "execution_count": 58,
   "metadata": {},
   "outputs": [],
   "source": [
    "## importa la librería\n",
    "import pandas\n",
    "import numpy as np\n",
    "\n",
    "pandas.set_option('display.notebook_repr_html', False)"
   ]
  },
  {
   "cell_type": "code",
   "execution_count": 59,
   "metadata": {
    "scrolled": true
   },
   "outputs": [],
   "source": [
    "## lee el archivo del disco.\n",
    "x = pandas.read_csv('files/iris.csv',\n",
    "                     sep = ',',\n",
    "                     thousands = None,\n",
    "                     decimal = '.')"
   ]
  },
  {
   "cell_type": "markdown",
   "metadata": {},
   "source": [
    "## Agrupamiento"
   ]
  },
  {
   "cell_type": "markdown",
   "metadata": {},
   "source": [
    "[Contenido](#Contenido)"
   ]
  },
  {
   "cell_type": "code",
   "execution_count": 60,
   "metadata": {},
   "outputs": [
    {
     "data": {
      "text/plain": [
       "  Species  Sepal_Width  Sepal_Length  Petal_Width  Petal_Length\n",
       "0  setosa          3.5           5.1          0.2           1.4\n",
       "1  setosa          3.0           4.9          0.2           1.4\n",
       "2  setosa          3.2           4.7          0.2           1.3\n",
       "3  setosa          3.1           4.6          0.2           1.5\n",
       "4  setosa          3.6           5.0          0.2           1.4"
      ]
     },
     "execution_count": 60,
     "metadata": {},
     "output_type": "execute_result"
    }
   ],
   "source": [
    "## ordenacion por un eje\n",
    "x.sort_index(1, ascending = False).head()"
   ]
  },
  {
   "cell_type": "code",
   "execution_count": 61,
   "metadata": {},
   "outputs": [
    {
     "data": {
      "text/plain": [
       "     Sepal_Length  Sepal_Width  Petal_Length  Petal_Width     Species\n",
       "60            5.0          2.0           3.5          1.0  versicolor\n",
       "62            6.0          2.2           4.0          1.0  versicolor\n",
       "119           6.0          2.2           5.0          1.5   virginica\n",
       "68            6.2          2.2           4.5          1.5  versicolor\n",
       "41            4.5          2.3           1.3          0.3      setosa\n",
       "93            5.0          2.3           3.3          1.0  versicolor\n",
       "53            5.5          2.3           4.0          1.3  versicolor\n",
       "87            6.3          2.3           4.4          1.3  versicolor\n",
       "57            4.9          2.4           3.3          1.0  versicolor\n",
       "80            5.5          2.4           3.8          1.1  versicolor"
      ]
     },
     "execution_count": 61,
     "metadata": {},
     "output_type": "execute_result"
    }
   ],
   "source": [
    "## ordena por varias columnas\n",
    "## devuelve los indices de las filas\n",
    "## ordena primero por Sepal.Width y luego por Sepal.Length\n",
    "x.sort_values(by = ['Sepal_Width', 'Sepal_Length']).head(10)"
   ]
  },
  {
   "cell_type": "code",
   "execution_count": 62,
   "metadata": {},
   "outputs": [
    {
     "data": {
      "text/plain": [
       "     Sepal_Length  Sepal_Width  Petal_Length  Petal_Width    Species\n",
       "100           6.3          3.3           6.0          2.5  virginica\n",
       "101           5.8          2.7           5.1          1.9  virginica\n",
       "102           7.1          3.0           5.9          2.1  virginica\n",
       "103           6.3          2.9           5.6          1.8  virginica\n",
       "104           6.5          3.0           5.8          2.2  virginica"
      ]
     },
     "execution_count": 62,
     "metadata": {},
     "output_type": "execute_result"
    }
   ],
   "source": [
    "## selecciona un subconjunto de los datos.\n",
    "x[x['Species'] == 'virginica'].head()"
   ]
  },
  {
   "cell_type": "code",
   "execution_count": 63,
   "metadata": {
    "scrolled": true
   },
   "outputs": [
    {
     "data": {
      "text/plain": [
       "dict_keys(['setosa', 'virginica', 'versicolor'])"
      ]
     },
     "execution_count": 63,
     "metadata": {},
     "output_type": "execute_result"
    }
   ],
   "source": [
    "## partición por los valores de la columna `Species`\n",
    "y = x.groupby('Species')\n",
    "y.groups.keys()"
   ]
  },
  {
   "cell_type": "code",
   "execution_count": 64,
   "metadata": {},
   "outputs": [
    {
     "data": {
      "text/plain": [
       "3"
      ]
     },
     "execution_count": 64,
     "metadata": {},
     "output_type": "execute_result"
    }
   ],
   "source": [
    "## cantidad de grupos\n",
    "len(y.groups)"
   ]
  },
  {
   "cell_type": "code",
   "execution_count": 65,
   "metadata": {},
   "outputs": [
    {
     "data": {
      "text/plain": [
       "Species\n",
       "setosa        50\n",
       "versicolor    50\n",
       "virginica     50\n",
       "dtype: int64"
      ]
     },
     "execution_count": 65,
     "metadata": {},
     "output_type": "execute_result"
    }
   ],
   "source": [
    "## cantidad de grupos\n",
    "y.size()"
   ]
  },
  {
   "cell_type": "code",
   "execution_count": 66,
   "metadata": {},
   "outputs": [
    {
     "data": {
      "text/plain": [
       "   Sepal_Length  Sepal_Width  Petal_Length  Petal_Width Species\n",
       "0           5.1          3.5           1.4          0.2  setosa\n",
       "1           4.9          3.0           1.4          0.2  setosa\n",
       "2           4.7          3.2           1.3          0.2  setosa\n",
       "3           4.6          3.1           1.5          0.2  setosa\n",
       "4           5.0          3.6           1.4          0.2  setosa"
      ]
     },
     "execution_count": 66,
     "metadata": {},
     "output_type": "execute_result"
    }
   ],
   "source": [
    "## elementos de un subgrupo\n",
    "x.loc[y.groups['setosa']].head()"
   ]
  },
  {
   "cell_type": "code",
   "execution_count": 67,
   "metadata": {
    "scrolled": true
   },
   "outputs": [
    {
     "data": {
      "text/plain": [
       "     Sepal_Length  Sepal_Width  Petal_Length  Petal_Width    Species\n",
       "100           6.3          3.3           6.0          2.5  virginica\n",
       "101           5.8          2.7           5.1          1.9  virginica\n",
       "102           7.1          3.0           5.9          2.1  virginica\n",
       "103           6.3          2.9           5.6          1.8  virginica\n",
       "104           6.5          3.0           5.8          2.2  virginica"
      ]
     },
     "execution_count": 67,
     "metadata": {},
     "output_type": "execute_result"
    }
   ],
   "source": [
    "## elementos de otro subgrupo\n",
    "x.loc[y.groups['virginica']].head()"
   ]
  },
  {
   "cell_type": "markdown",
   "metadata": {},
   "source": [
    "## Agregación"
   ]
  },
  {
   "cell_type": "markdown",
   "metadata": {},
   "source": [
    "[Contenido](#Contenido)"
   ]
  },
  {
   "cell_type": "code",
   "execution_count": 68,
   "metadata": {
    "scrolled": true
   },
   "outputs": [
    {
     "data": {
      "text/plain": [
       "            Sepal_Length  Sepal_Width  Petal_Length  Petal_Width\n",
       "Species                                                         \n",
       "setosa             250.3        171.4          73.1         12.3\n",
       "versicolor         296.8        138.5         213.0         66.3\n",
       "virginica          329.4        148.7         277.6        101.3"
      ]
     },
     "execution_count": 68,
     "metadata": {},
     "output_type": "execute_result"
    }
   ],
   "source": [
    "## funciones que pueden ser aplicadas a un DataFrame:\n",
    "##\n",
    "##    abs        all       any       clip    clip_lower  clip_upper\n",
    "##    corr       corrwith  count     cov     cummax      cummin\n",
    "##    cumprod    cumsum    describe  diff    eval        kurt\n",
    "##    mad        max       mean      median  min         mode\n",
    "##    ct_change  prod      quantile  rank    round       sem\n",
    "##    skew  sum  std       var\n",
    "##\n",
    "## se genera un nuevo DataFrame\n",
    "x.groupby('Species').sum()"
   ]
  },
  {
   "cell_type": "code",
   "execution_count": 69,
   "metadata": {},
   "outputs": [
    {
     "data": {
      "text/plain": [
       "Species\n",
       "setosa        250.3\n",
       "versicolor    296.8\n",
       "virginica     329.4\n",
       "Name: Sepal_Length, dtype: float64"
      ]
     },
     "execution_count": 69,
     "metadata": {},
     "output_type": "execute_result"
    }
   ],
   "source": [
    "(x.groupby('Species').sum())[\"Sepal_Length\"]"
   ]
  },
  {
   "cell_type": "code",
   "execution_count": 70,
   "metadata": {
    "scrolled": false
   },
   "outputs": [
    {
     "data": {
      "text/plain": [
       "virginica     50\n",
       "versicolor    50\n",
       "setosa        50\n",
       "Name: Species, dtype: int64"
      ]
     },
     "execution_count": 70,
     "metadata": {},
     "output_type": "execute_result"
    }
   ],
   "source": [
    "## unión\n",
    "z = pandas.concat( [x.iloc[y.groups['setosa']],\n",
    "                    x.iloc[y.groups['virginica']],\n",
    "                    x.iloc[y.groups['versicolor']]])\n",
    "\n",
    "z['Species'].value_counts()"
   ]
  },
  {
   "cell_type": "code",
   "execution_count": 71,
   "metadata": {},
   "outputs": [
    {
     "data": {
      "text/plain": [
       "virginica     50\n",
       "versicolor    50\n",
       "setosa        50\n",
       "Name: Species, dtype: int64"
      ]
     },
     "execution_count": 71,
     "metadata": {},
     "output_type": "execute_result"
    }
   ],
   "source": [
    "## conteo de casos.\n",
    "## número de casos por `Species`\n",
    "x['Species'].value_counts()"
   ]
  },
  {
   "cell_type": "code",
   "execution_count": 72,
   "metadata": {},
   "outputs": [
    {
     "data": {
      "text/plain": [
       "5.0    10\n",
       "5.1     9\n",
       "6.3     9\n",
       "5.7     8\n",
       "6.7     8\n",
       "5.8     7\n",
       "6.4     7\n",
       "5.5     7\n",
       "4.9     6\n",
       "5.4     6\n",
       "5.6     6\n",
       "6.0     6\n",
       "6.1     6\n",
       "6.5     5\n",
       "4.8     5\n",
       "7.7     4\n",
       "4.6     4\n",
       "6.9     4\n",
       "5.2     4\n",
       "6.2     4\n",
       "7.2     3\n",
       "6.8     3\n",
       "4.4     3\n",
       "5.9     3\n",
       "4.7     2\n",
       "6.6     2\n",
       "7.1     1\n",
       "7.6     1\n",
       "7.3     1\n",
       "4.5     1\n",
       "5.3     1\n",
       "7.9     1\n",
       "7.0     1\n",
       "7.4     1\n",
       "4.3     1\n",
       "Name: Sepal_Length, dtype: int64"
      ]
     },
     "execution_count": 72,
     "metadata": {},
     "output_type": "execute_result"
    }
   ],
   "source": [
    "## conteo de casos por `Sepal.Length`\n",
    "x['Sepal_Length'].value_counts()"
   ]
  },
  {
   "cell_type": "code",
   "execution_count": 73,
   "metadata": {
    "scrolled": false
   },
   "outputs": [
    {
     "data": {
      "text/plain": [
       "Sepal_Length    5.843333\n",
       "Sepal_Width     3.057333\n",
       "dtype: float64"
      ]
     },
     "execution_count": 73,
     "metadata": {},
     "output_type": "execute_result"
    }
   ],
   "source": [
    "## aplicación de una funcion a columnas especificas \n",
    "## de un data.frame\n",
    "import numpy as np\n",
    "x[['Sepal_Length', 'Sepal_Width']].apply(np.mean)"
   ]
  },
  {
   "cell_type": "code",
   "execution_count": 74,
   "metadata": {
    "scrolled": false
   },
   "outputs": [
    {
     "data": {
      "text/plain": [
       "Species\n",
       "setosa        5.006\n",
       "versicolor    5.936\n",
       "virginica     6.588\n",
       "Name: Sepal_Length, dtype: float64"
      ]
     },
     "execution_count": 74,
     "metadata": {},
     "output_type": "execute_result"
    }
   ],
   "source": [
    "## aplica la función a la columna especificada por grupos\n",
    "(x.groupby('Species').mean())[\"Sepal_Length\"]"
   ]
  },
  {
   "cell_type": "code",
   "execution_count": 75,
   "metadata": {
    "scrolled": true
   },
   "outputs": [
    {
     "data": {
      "text/plain": [
       "            Sepal_Length  Sepal_Width  Petal_Length  Petal_Width\n",
       "Species                                                         \n",
       "setosa             5.006        3.428         1.462        0.246\n",
       "versicolor         5.936        2.770         4.260        1.326\n",
       "virginica          6.588        2.974         5.552        2.026"
      ]
     },
     "execution_count": 75,
     "metadata": {},
     "output_type": "execute_result"
    }
   ],
   "source": [
    "## aplica la función a la columna especificada por grupos\n",
    "(x.groupby('Species').mean())[[\"Sepal_Length\", \n",
    "                               \"Sepal_Width\",\n",
    "                               \"Petal_Length\",\n",
    "                               \"Petal_Width\"]]"
   ]
  },
  {
   "cell_type": "markdown",
   "metadata": {},
   "source": [
    "## Pivotes"
   ]
  },
  {
   "cell_type": "markdown",
   "metadata": {},
   "source": [
    "[Contenido](#Contenido)"
   ]
  },
  {
   "cell_type": "code",
   "execution_count": 76,
   "metadata": {},
   "outputs": [
    {
     "data": {
      "text/plain": [
       "   Sepal_Length  Sepal_Width  Petal_Length  Petal_Width Species  key\n",
       "0           5.1          3.5           1.4          0.2  setosa    0\n",
       "1           4.9          3.0           1.4          0.2  setosa    1\n",
       "2           4.7          3.2           1.3          0.2  setosa    2\n",
       "3           4.6          3.1           1.5          0.2  setosa    3\n",
       "4           5.0          3.6           1.4          0.2  setosa    4"
      ]
     },
     "execution_count": 76,
     "metadata": {},
     "output_type": "execute_result"
    }
   ],
   "source": [
    "## agrega una clave para identificar cada caso\n",
    "x['key'] = list(range(150))\n",
    "x.head()"
   ]
  },
  {
   "cell_type": "code",
   "execution_count": 77,
   "metadata": {
    "collapsed": true
   },
   "outputs": [],
   "source": [
    "z = pandas.melt(x,                            # DataFrame\n",
    "                id_vars = ['key', 'Species'], # columnas que no se apilan\n",
    "                var_name = 'Variables',       # nombre de la columna que contiene las columnas apiladas \n",
    "                value_name = 'Valores')       # nombre de la columna que contiene los valores\n",
    "\n",
    "\n"
   ]
  },
  {
   "cell_type": "code",
   "execution_count": 78,
   "metadata": {},
   "outputs": [
    {
     "data": {
      "text/plain": [
       "   key Species     Variables  Valores\n",
       "0    0  setosa  Sepal_Length      5.1\n",
       "1    1  setosa  Sepal_Length      4.9\n",
       "2    2  setosa  Sepal_Length      4.7\n",
       "3    3  setosa  Sepal_Length      4.6\n",
       "4    4  setosa  Sepal_Length      5.0"
      ]
     },
     "execution_count": 78,
     "metadata": {},
     "output_type": "execute_result"
    }
   ],
   "source": [
    "z.head()"
   ]
  },
  {
   "cell_type": "code",
   "execution_count": 79,
   "metadata": {
    "collapsed": true
   },
   "outputs": [],
   "source": [
    "del x['key']"
   ]
  },
  {
   "cell_type": "markdown",
   "metadata": {},
   "source": [
    "# Transformaciones"
   ]
  },
  {
   "cell_type": "markdown",
   "metadata": {},
   "source": [
    "[Contenido](#Contenido)"
   ]
  },
  {
   "cell_type": "markdown",
   "metadata": {},
   "source": [
    "**Preparación de datos.**"
   ]
  },
  {
   "cell_type": "code",
   "execution_count": 80,
   "metadata": {},
   "outputs": [],
   "source": [
    "## importa la librería\n",
    "import pandas\n",
    "import numpy as np\n",
    "\n",
    "pandas.set_option('display.notebook_repr_html', False)"
   ]
  },
  {
   "cell_type": "code",
   "execution_count": 81,
   "metadata": {
    "scrolled": true
   },
   "outputs": [],
   "source": [
    "## lee el archivo del disco.\n",
    "x = pandas.read_csv('files/iris.csv',\n",
    "                     sep = ',',\n",
    "                     thousands = None,\n",
    "                     decimal = '.')"
   ]
  },
  {
   "cell_type": "markdown",
   "metadata": {},
   "source": [
    "## Stack & unstack"
   ]
  },
  {
   "cell_type": "markdown",
   "metadata": {},
   "source": [
    "[Contenido](#Contenido)"
   ]
  },
  {
   "cell_type": "code",
   "execution_count": 82,
   "metadata": {
    "scrolled": false
   },
   "outputs": [
    {
     "data": {
      "text/plain": [
       "0  Sepal_Length       5.1\n",
       "   Sepal_Width        3.5\n",
       "   Petal_Length       1.4\n",
       "   Petal_Width        0.2\n",
       "   Species         setosa\n",
       "1  Sepal_Length       4.9\n",
       "   Sepal_Width          3\n",
       "   Petal_Length       1.4\n",
       "   Petal_Width        0.2\n",
       "   Species         setosa\n",
       "2  Sepal_Length       4.7\n",
       "   Sepal_Width        3.2\n",
       "   Petal_Length       1.3\n",
       "   Petal_Width        0.2\n",
       "   Species         setosa\n",
       "3  Sepal_Length       4.6\n",
       "   Sepal_Width        3.1\n",
       "   Petal_Length       1.5\n",
       "   Petal_Width        0.2\n",
       "   Species         setosa\n",
       "dtype: object"
      ]
     },
     "execution_count": 82,
     "metadata": {},
     "output_type": "execute_result"
    }
   ],
   "source": [
    "x.stack().head(20)"
   ]
  },
  {
   "cell_type": "code",
   "execution_count": 83,
   "metadata": {},
   "outputs": [
    {
     "data": {
      "text/plain": [
       "  Sepal_Length Sepal_Width Petal_Length Petal_Width Species\n",
       "0          5.1         3.5          1.4         0.2  setosa\n",
       "1          4.9           3          1.4         0.2  setosa\n",
       "2          4.7         3.2          1.3         0.2  setosa\n",
       "3          4.6         3.1          1.5         0.2  setosa"
      ]
     },
     "execution_count": 83,
     "metadata": {},
     "output_type": "execute_result"
    }
   ],
   "source": [
    "(x.stack()).unstack().head(4)"
   ]
  },
  {
   "cell_type": "markdown",
   "metadata": {},
   "source": [
    "## Tablas dinámicas"
   ]
  },
  {
   "cell_type": "markdown",
   "metadata": {},
   "source": [
    "[Contenido](#Contenido)"
   ]
  },
  {
   "cell_type": "code",
   "execution_count": 84,
   "metadata": {},
   "outputs": [
    {
     "name": "stdout",
     "output_type": "stream",
     "text": [
      "  key1 key2  values1  values2\n",
      "0    a    A        1        7\n",
      "1    a    B        2        8\n",
      "2    b    A        3        9\n",
      "3    b    B        4       10\n",
      "4    c    A        5       11\n",
      "5    c    B        6       12\n"
     ]
    }
   ],
   "source": [
    "m = pandas.DataFrame( {'key1'    : ['a', 'a', 'b', 'b', 'c', 'c'],\n",
    "                       'key2'    : ['A', 'B', 'A', 'B', 'A', 'B'],\n",
    "                       'values1' : [ 1,   2,   3,   4,   5,   6 ],\n",
    "                       'values2' : [ 7,   8,   9,  10,  11,  12]})\n",
    "print(m)"
   ]
  },
  {
   "cell_type": "code",
   "execution_count": 85,
   "metadata": {},
   "outputs": [
    {
     "name": "stdout",
     "output_type": "stream",
     "text": [
      "           values1  values2\n",
      "key1 key2                  \n",
      "a    A           1        7\n",
      "     B           2        8\n",
      "b    A           3        9\n",
      "     B           4       10\n",
      "c    A           5       11\n",
      "     B           6       12\n"
     ]
    }
   ],
   "source": [
    "z = pandas.pivot_table(m, \n",
    "                       index = ['key1', 'key2'],\n",
    "                       values = ['values1', 'values2'])\n",
    "\n",
    "print(z)"
   ]
  },
  {
   "cell_type": "code",
   "execution_count": 86,
   "metadata": {
    "scrolled": true
   },
   "outputs": [
    {
     "name": "stdout",
     "output_type": "stream",
     "text": [
      "           values1  values2\n",
      "key2 key1                  \n",
      "A    a           1        7\n",
      "     b           3        9\n",
      "     c           5       11\n",
      "B    a           2        8\n",
      "     b           4       10\n",
      "     c           6       12\n"
     ]
    }
   ],
   "source": [
    "z = pandas.pivot_table(m, \n",
    "                       index = ['key2', 'key1'],\n",
    "                       values = ['values1', 'values2'])\n",
    "\n",
    "print(z)"
   ]
  },
  {
   "cell_type": "markdown",
   "metadata": {},
   "source": [
    "## Unión"
   ]
  },
  {
   "cell_type": "markdown",
   "metadata": {},
   "source": [
    "[Contenido](#Contenido)"
   ]
  },
  {
   "cell_type": "code",
   "execution_count": 87,
   "metadata": {},
   "outputs": [
    {
     "data": {
      "text/plain": [
       "   x  y   w\n",
       "0  1  6  10\n",
       "1  1  6  60\n",
       "2  2  7  20\n",
       "3  2  7  70\n",
       "4  3  8  30\n",
       "5  3  8  80\n",
       "6  4  9  40\n",
       "7  4  9  90"
      ]
     },
     "execution_count": 87,
     "metadata": {},
     "output_type": "execute_result"
    }
   ],
   "source": [
    "## no es una unión estrictamente.\n",
    "## solo funciona cuando un dataframe tiene un número de\n",
    "## filas múltiplo del otro.\n",
    "d1 = pandas.DataFrame({ 'x' : list(range(1,5)),\n",
    "                        'y' : list(range(6,10))})\n",
    "\n",
    "d2 = pandas.DataFrame({ 'x' : [ 1,  2,  3,  4,  5,  1,  2,  3,  4,   5],\n",
    "                        'w' : [10, 20, 30, 40, 50, 60, 70, 80, 90, 100]})\n",
    "\n",
    "pandas.merge(d1, d2)\n"
   ]
  },
  {
   "cell_type": "markdown",
   "metadata": {},
   "source": [
    "## Variables dummy"
   ]
  },
  {
   "cell_type": "markdown",
   "metadata": {},
   "source": [
    "[Contenido](#Contenido)"
   ]
  },
  {
   "cell_type": "code",
   "execution_count": 88,
   "metadata": {
    "scrolled": false
   },
   "outputs": [
    {
     "data": {
      "text/plain": [
       "     setosa  versicolor  virginica\n",
       "0       1.0         0.0        0.0\n",
       "1       1.0         0.0        0.0\n",
       "2       1.0         0.0        0.0\n",
       "3       1.0         0.0        0.0\n",
       "4       1.0         0.0        0.0\n",
       "5       1.0         0.0        0.0\n",
       "6       1.0         0.0        0.0\n",
       "7       1.0         0.0        0.0\n",
       "8       1.0         0.0        0.0\n",
       "9       1.0         0.0        0.0\n",
       "10      1.0         0.0        0.0\n",
       "11      1.0         0.0        0.0\n",
       "12      1.0         0.0        0.0\n",
       "13      1.0         0.0        0.0\n",
       "14      1.0         0.0        0.0\n",
       "15      1.0         0.0        0.0\n",
       "16      1.0         0.0        0.0\n",
       "17      1.0         0.0        0.0\n",
       "18      1.0         0.0        0.0\n",
       "19      1.0         0.0        0.0\n",
       "20      1.0         0.0        0.0\n",
       "21      1.0         0.0        0.0\n",
       "22      1.0         0.0        0.0\n",
       "23      1.0         0.0        0.0\n",
       "24      1.0         0.0        0.0\n",
       "25      1.0         0.0        0.0\n",
       "26      1.0         0.0        0.0\n",
       "27      1.0         0.0        0.0\n",
       "28      1.0         0.0        0.0\n",
       "29      1.0         0.0        0.0\n",
       "..      ...         ...        ...\n",
       "120     0.0         0.0        1.0\n",
       "121     0.0         0.0        1.0\n",
       "122     0.0         0.0        1.0\n",
       "123     0.0         0.0        1.0\n",
       "124     0.0         0.0        1.0\n",
       "125     0.0         0.0        1.0\n",
       "126     0.0         0.0        1.0\n",
       "127     0.0         0.0        1.0\n",
       "128     0.0         0.0        1.0\n",
       "129     0.0         0.0        1.0\n",
       "130     0.0         0.0        1.0\n",
       "131     0.0         0.0        1.0\n",
       "132     0.0         0.0        1.0\n",
       "133     0.0         0.0        1.0\n",
       "134     0.0         0.0        1.0\n",
       "135     0.0         0.0        1.0\n",
       "136     0.0         0.0        1.0\n",
       "137     0.0         0.0        1.0\n",
       "138     0.0         0.0        1.0\n",
       "139     0.0         0.0        1.0\n",
       "140     0.0         0.0        1.0\n",
       "141     0.0         0.0        1.0\n",
       "142     0.0         0.0        1.0\n",
       "143     0.0         0.0        1.0\n",
       "144     0.0         0.0        1.0\n",
       "145     0.0         0.0        1.0\n",
       "146     0.0         0.0        1.0\n",
       "147     0.0         0.0        1.0\n",
       "148     0.0         0.0        1.0\n",
       "149     0.0         0.0        1.0\n",
       "\n",
       "[150 rows x 3 columns]"
      ]
     },
     "execution_count": 88,
     "metadata": {},
     "output_type": "execute_result"
    }
   ],
   "source": [
    "## genera variables dummies para variables categóricas.\n",
    "pandas.get_dummies(x.Species)"
   ]
  },
  {
   "cell_type": "code",
   "execution_count": null,
   "metadata": {
    "collapsed": true
   },
   "outputs": [],
   "source": []
  },
  {
   "cell_type": "markdown",
   "metadata": {},
   "source": [
    "# Inserción, borrado, casos duplicados y datos faltantes"
   ]
  },
  {
   "cell_type": "markdown",
   "metadata": {},
   "source": [
    "[Contenido](#Contenido)"
   ]
  },
  {
   "cell_type": "markdown",
   "metadata": {},
   "source": [
    "**Preparación de datos**"
   ]
  },
  {
   "cell_type": "code",
   "execution_count": 89,
   "metadata": {},
   "outputs": [],
   "source": [
    "## importa la librería\n",
    "import pandas\n",
    "import numpy as np\n",
    "\n",
    "pandas.set_option('display.notebook_repr_html', False)"
   ]
  },
  {
   "cell_type": "code",
   "execution_count": 90,
   "metadata": {
    "scrolled": true
   },
   "outputs": [],
   "source": [
    "## lee el archivo del disco.\n",
    "x = pandas.read_csv('files/iris.csv',\n",
    "                     sep = ',',\n",
    "                     thousands = None,\n",
    "                     decimal = '.')"
   ]
  },
  {
   "cell_type": "markdown",
   "metadata": {},
   "source": [
    "## Inserción de columnas"
   ]
  },
  {
   "cell_type": "markdown",
   "metadata": {},
   "source": [
    "[Contenido](#Contenido)"
   ]
  },
  {
   "cell_type": "code",
   "execution_count": 91,
   "metadata": {
    "scrolled": true
   },
   "outputs": [
    {
     "data": {
      "text/plain": [
       "   Sepal_Length  Sepal_Width  Petal_Length  Petal_Width Species  n\n",
       "0           5.1          3.5           1.4          0.2  setosa  1\n",
       "1           4.9          3.0           1.4          0.2  setosa  1\n",
       "2           4.7          3.2           1.3          0.2  setosa  1\n",
       "3           4.6          3.1           1.5          0.2  setosa  1\n",
       "4           5.0          3.6           1.4          0.2  setosa  1"
      ]
     },
     "execution_count": 91,
     "metadata": {},
     "output_type": "execute_result"
    }
   ],
   "source": [
    "## creación de una nueva columna\n",
    "x['n'] = 1 \n",
    "x.head()"
   ]
  },
  {
   "cell_type": "code",
   "execution_count": 92,
   "metadata": {},
   "outputs": [
    {
     "data": {
      "text/plain": [
       "   Sepal_Length  Sepal_Width  Petal_Length  Petal_Width Species   n\n",
       "0           5.1          3.5           1.4          0.2  setosa  10\n",
       "1           4.9          3.0           1.4          0.2  setosa   1\n",
       "2           4.7          3.2           1.3          0.2  setosa   1\n",
       "3           4.6          3.1           1.5          0.2  setosa   1\n",
       "4           5.0          3.6           1.4          0.2  setosa   1"
      ]
     },
     "execution_count": 92,
     "metadata": {},
     "output_type": "execute_result"
    }
   ],
   "source": [
    "## modificación de un valor particular\n",
    "x.iat[0,5] = 10\n",
    "x.head()"
   ]
  },
  {
   "cell_type": "code",
   "execution_count": 93,
   "metadata": {
    "scrolled": true
   },
   "outputs": [
    {
     "data": {
      "text/plain": [
       "   Sepal_Length  Sepal_Width  Petal_Length  Petal_Width Species  n\n",
       "0           5.1          3.5           1.4          0.2  setosa  0\n",
       "1           4.9          3.0           1.4          0.2  setosa  1\n",
       "2           4.7          3.2           1.3          0.2  setosa  2\n",
       "3           4.6          3.1           1.5          0.2  setosa  3\n",
       "4           5.0          3.6           1.4          0.2  setosa  4"
      ]
     },
     "execution_count": 93,
     "metadata": {},
     "output_type": "execute_result"
    }
   ],
   "source": [
    "## modificación de una columna\n",
    "x['n'] = list(range(150))\n",
    "x.head()"
   ]
  },
  {
   "cell_type": "code",
   "execution_count": 94,
   "metadata": {
    "scrolled": true
   },
   "outputs": [
    {
     "data": {
      "text/plain": [
       "   Sepal_Length  Sepal_Width  Petal_Length  Petal_Width Species\n",
       "0           5.1          3.5           1.4          0.2  setosa\n",
       "1           4.9          3.0           1.4          0.2  setosa\n",
       "2           4.7          3.2           1.3          0.2  setosa\n",
       "3           4.6          3.1           1.5          0.2  setosa\n",
       "4           5.0          3.6           1.4          0.2  setosa"
      ]
     },
     "execution_count": 94,
     "metadata": {},
     "output_type": "execute_result"
    }
   ],
   "source": [
    "## borrado de la columna\n",
    "del x['n']\n",
    "x.head()"
   ]
  },
  {
   "cell_type": "code",
   "execution_count": 95,
   "metadata": {
    "scrolled": true
   },
   "outputs": [
    {
     "data": {
      "text/plain": [
       "   Sepal_Length  Sepal_Width logical_value  Petal_Length  Petal_Width Species\n",
       "0           5.1          3.5          True           1.4          0.2  setosa\n",
       "1           4.9          3.0          True           1.4          0.2  setosa\n",
       "2           4.7          3.2          True           1.3          0.2  setosa\n",
       "3           4.6          3.1          True           1.5          0.2  setosa\n",
       "4           5.0          3.6          True           1.4          0.2  setosa"
      ]
     },
     "execution_count": 95,
     "metadata": {},
     "output_type": "execute_result"
    }
   ],
   "source": [
    "## los DataFrames son diccionarios y pueden manipularse como tal\n",
    "## se indica en que posicion se inserta la columna con valores \n",
    "## lógicos\n",
    "x.insert(2, 'logical_value', x['Sepal_Length'] > 4)\n",
    "x.head()"
   ]
  },
  {
   "cell_type": "code",
   "execution_count": 96,
   "metadata": {
    "scrolled": true
   },
   "outputs": [
    {
     "data": {
      "text/plain": [
       "   Sepal_Length  Sepal_Width  Petal_Length  Petal_Width Species\n",
       "0           5.1          3.5           1.4          0.2  setosa\n",
       "1           4.9          3.0           1.4          0.2  setosa\n",
       "2           4.7          3.2           1.3          0.2  setosa\n",
       "3           4.6          3.1           1.5          0.2  setosa\n",
       "4           5.0          3.6           1.4          0.2  setosa"
      ]
     },
     "execution_count": 96,
     "metadata": {},
     "output_type": "execute_result"
    }
   ],
   "source": [
    "del x['logical_value']\n",
    "x.head()"
   ]
  },
  {
   "cell_type": "code",
   "execution_count": 97,
   "metadata": {},
   "outputs": [
    {
     "name": "stdout",
     "output_type": "stream",
     "text": [
      "   colA  colB\n",
      "0     1     3\n",
      "1     2     4\n",
      "\n",
      "   colB  colC\n",
      "0     5     7\n",
      "1     6     8\n",
      "\n",
      "   colA  colB  colC\n",
      "0   NaN     8   NaN\n",
      "1   NaN    10   NaN\n"
     ]
    }
   ],
   "source": [
    "## alineación\n",
    "## suma las columnas colB\n",
    "a = pandas.DataFrame({'colA': [1, 2],\n",
    "                      'colB': [3, 4]})\n",
    "\n",
    "b = pandas.DataFrame({'colB': [5, 6],\n",
    "                      'colC': [7, 8]})\n",
    "\n",
    "print(a)\n",
    "print('')\n",
    "print(b)\n",
    "print('')\n",
    "print(a + b)"
   ]
  },
  {
   "cell_type": "code",
   "execution_count": 98,
   "metadata": {},
   "outputs": [
    {
     "data": {
      "text/plain": [
       "       colA      colB\n",
       "0  1.000000  1.732051\n",
       "1  1.414214  2.000000"
      ]
     },
     "execution_count": 98,
     "metadata": {},
     "output_type": "execute_result"
    }
   ],
   "source": [
    "## se pueden aplicar todas las operaciones matemáticas \n",
    "## existentes en numpy\n",
    "np.sqrt(a)"
   ]
  },
  {
   "cell_type": "markdown",
   "metadata": {},
   "source": [
    "## Inserción de filas"
   ]
  },
  {
   "cell_type": "markdown",
   "metadata": {},
   "source": [
    "[Contenido](#Contenido)"
   ]
  },
  {
   "cell_type": "code",
   "execution_count": 99,
   "metadata": {
    "scrolled": true
   },
   "outputs": [
    {
     "data": {
      "text/plain": [
       "     Petal_Length  Petal_Width  Sepal_Length  Sepal_Width    Species\n",
       "146           5.0          1.9           6.3          2.5  virginica\n",
       "147           5.2          2.0           6.5          3.0  virginica\n",
       "148           5.4          2.3           6.2          3.4  virginica\n",
       "149           5.1          1.8           5.9          3.0  virginica\n",
       "150           1.0          1.0           1.0          1.0     setosa"
      ]
     },
     "execution_count": 99,
     "metadata": {},
     "output_type": "execute_result"
    }
   ],
   "source": [
    "## adición de una fila (al final)\n",
    "u = pandas.DataFrame({'Sepal_Length' : [1], \n",
    "                      'Sepal_Width' : [1], \n",
    "                      'Petal_Length' : [1], \n",
    "                      'Petal_Width' : [1], \n",
    "                      'Species' : ['setosa']})\n",
    "\n",
    "x.append(u, ignore_index = True).tail()"
   ]
  },
  {
   "cell_type": "markdown",
   "metadata": {},
   "source": [
    "## Casos duplicados y datos faltantes"
   ]
  },
  {
   "cell_type": "markdown",
   "metadata": {},
   "source": [
    "[Contenido](#Contenido)"
   ]
  },
  {
   "cell_type": "code",
   "execution_count": 100,
   "metadata": {},
   "outputs": [
    {
     "data": {
      "text/plain": [
       "array([120, 134,  50,  97,  32, 125,  11,  39,  15, 133,  93,  99,  14,\n",
       "         5,   6, 142,   2,  54,  25,  49])"
      ]
     },
     "execution_count": 100,
     "metadata": {},
     "output_type": "execute_result"
    }
   ],
   "source": [
    "## se crea un vector aleatorio de indices\n",
    "u = np.random.choice(range(150), \n",
    "                     size=20, \n",
    "                     replace=False)\n",
    "u"
   ]
  },
  {
   "cell_type": "code",
   "execution_count": 101,
   "metadata": {},
   "outputs": [
    {
     "data": {
      "text/plain": [
       "     Sepal_Length  Sepal_Width  Petal_Length  Petal_Width     Species\n",
       "120           6.9          3.2           5.7          2.3   virginica\n",
       "134           6.1          2.6           5.6          1.4   virginica\n",
       "50            7.0          3.2           4.7          1.4  versicolor\n",
       "97            6.2          2.9           4.3          1.3  versicolor\n",
       "32            5.2          4.1           1.5          0.1      setosa"
      ]
     },
     "execution_count": 101,
     "metadata": {},
     "output_type": "execute_result"
    }
   ],
   "source": [
    "## submuestra de data.frame original `x`\n",
    "y = x.loc[u].copy()\n",
    "y.head()"
   ]
  },
  {
   "cell_type": "code",
   "execution_count": 102,
   "metadata": {},
   "outputs": [
    {
     "data": {
      "text/plain": [
       "    Sepal_Length  Sepal_Width  Petal_Length  Petal_Width     Species\n",
       "0            6.9          3.2           5.7          2.3   virginica\n",
       "1            6.1          2.6           5.6          1.4   virginica\n",
       "2            7.0          3.2           4.7          1.4  versicolor\n",
       "3            6.2          2.9           4.3          1.3  versicolor\n",
       "4            5.2          4.1           1.5          0.1      setosa\n",
       "5            7.2          3.2           6.0          1.8   virginica\n",
       "6            4.8          3.4           1.6          0.2      setosa\n",
       "7            5.1          3.4           1.5          0.2      setosa\n",
       "8            5.7          4.4           1.5          0.4      setosa\n",
       "9            6.3          2.8           5.1          1.5   virginica\n",
       "10           5.0          2.3           3.3          1.0  versicolor\n",
       "11           5.7          2.8           4.1          1.3  versicolor\n",
       "12           5.8          4.0           1.2          0.2      setosa\n",
       "13           5.4          3.9           1.7          0.4      setosa\n",
       "14           4.6          3.4           1.4          0.3      setosa\n",
       "15           5.8          2.7           5.1          1.9   virginica\n",
       "16           4.7          3.2           1.3          0.2      setosa\n",
       "17           6.5          2.8           4.6          1.5  versicolor\n",
       "18           5.0          3.0           1.6          0.2      setosa\n",
       "19           5.0          3.3           1.4          0.2      setosa"
      ]
     },
     "execution_count": 102,
     "metadata": {},
     "output_type": "execute_result"
    }
   ],
   "source": [
    "## cambia los nombres de las filas \n",
    "y.index = list(range(20))\n",
    "y"
   ]
  },
  {
   "cell_type": "code",
   "execution_count": 103,
   "metadata": {},
   "outputs": [
    {
     "data": {
      "text/plain": [
       "array([ 2, 16, 18,  8, 10, 19, 15,  5, 11, 14])"
      ]
     },
     "execution_count": 103,
     "metadata": {},
     "output_type": "execute_result"
    }
   ],
   "source": [
    "## de la submuestra `y` se hacen varios registros incompletos\n",
    "## cambiando varios valores en la columna `Sepal.Length` por NA\n",
    "u = np.random.choice(range(20), size=10, replace=False)\n",
    "u"
   ]
  },
  {
   "cell_type": "code",
   "execution_count": 104,
   "metadata": {},
   "outputs": [
    {
     "data": {
      "text/plain": [
       "    Sepal_Length  Sepal_Width  Petal_Length  Petal_Width     Species\n",
       "2            7.0          3.2           4.7          1.4  versicolor\n",
       "16           4.7          3.2           1.3          0.2      setosa\n",
       "18           5.0          3.0           1.6          0.2      setosa\n",
       "8            5.7          4.4           1.5          0.4      setosa\n",
       "10           5.0          2.3           3.3          1.0  versicolor\n",
       "19           5.0          3.3           1.4          0.2      setosa\n",
       "15           5.8          2.7           5.1          1.9   virginica\n",
       "5            7.2          3.2           6.0          1.8   virginica\n",
       "11           5.7          2.8           4.1          1.3  versicolor\n",
       "14           4.6          3.4           1.4          0.3      setosa"
      ]
     },
     "execution_count": 104,
     "metadata": {},
     "output_type": "execute_result"
    }
   ],
   "source": [
    "y.iloc[u]"
   ]
  },
  {
   "cell_type": "code",
   "execution_count": 105,
   "metadata": {},
   "outputs": [
    {
     "data": {
      "text/plain": [
       "    Sepal_Length  Sepal_Width  Petal_Length  Petal_Width     Species\n",
       "0            6.9          3.2           5.7          2.3   virginica\n",
       "1            6.1          2.6           5.6          1.4   virginica\n",
       "2            NaN          3.2           4.7          1.4  versicolor\n",
       "3            6.2          2.9           4.3          1.3  versicolor\n",
       "4            5.2          4.1           1.5          0.1      setosa\n",
       "5            NaN          3.2           6.0          1.8   virginica\n",
       "6            4.8          3.4           1.6          0.2      setosa\n",
       "7            5.1          3.4           1.5          0.2      setosa\n",
       "8            NaN          4.4           1.5          0.4      setosa\n",
       "9            6.3          2.8           5.1          1.5   virginica\n",
       "10           NaN          2.3           3.3          1.0  versicolor\n",
       "11           NaN          2.8           4.1          1.3  versicolor\n",
       "12           5.8          4.0           1.2          0.2      setosa\n",
       "13           5.4          3.9           1.7          0.4      setosa\n",
       "14           NaN          3.4           1.4          0.3      setosa\n",
       "15           NaN          2.7           5.1          1.9   virginica\n",
       "16           NaN          3.2           1.3          0.2      setosa\n",
       "17           6.5          2.8           4.6          1.5  versicolor\n",
       "18           NaN          3.0           1.6          0.2      setosa\n",
       "19           NaN          3.3           1.4          0.2      setosa"
      ]
     },
     "execution_count": 105,
     "metadata": {},
     "output_type": "execute_result"
    }
   ],
   "source": [
    "## casos con datos faltantes \n",
    "y.loc[u, 'Sepal_Length'] = np.nan\n",
    "y"
   ]
  },
  {
   "cell_type": "code",
   "execution_count": 106,
   "metadata": {
    "scrolled": false
   },
   "outputs": [
    {
     "data": {
      "text/plain": [
       "     Sepal_Length  Sepal_Width  Petal_Length  Petal_Width     Species\n",
       "145           6.7          3.0           5.2          2.3   virginica\n",
       "146           6.3          2.5           5.0          1.9   virginica\n",
       "147           6.5          3.0           5.2          2.0   virginica\n",
       "148           6.2          3.4           5.4          2.3   virginica\n",
       "149           5.9          3.0           5.1          1.8   virginica\n",
       "150           6.9          3.2           5.7          2.3   virginica\n",
       "151           6.1          2.6           5.6          1.4   virginica\n",
       "152           NaN          3.2           4.7          1.4  versicolor\n",
       "153           6.2          2.9           4.3          1.3  versicolor\n",
       "154           5.2          4.1           1.5          0.1      setosa\n",
       "155           NaN          3.2           6.0          1.8   virginica\n",
       "156           4.8          3.4           1.6          0.2      setosa\n",
       "157           5.1          3.4           1.5          0.2      setosa\n",
       "158           NaN          4.4           1.5          0.4      setosa\n",
       "159           6.3          2.8           5.1          1.5   virginica\n",
       "160           NaN          2.3           3.3          1.0  versicolor\n",
       "161           NaN          2.8           4.1          1.3  versicolor\n",
       "162           5.8          4.0           1.2          0.2      setosa\n",
       "163           5.4          3.9           1.7          0.4      setosa\n",
       "164           NaN          3.4           1.4          0.3      setosa\n",
       "165           NaN          2.7           5.1          1.9   virginica\n",
       "166           NaN          3.2           1.3          0.2      setosa\n",
       "167           6.5          2.8           4.6          1.5  versicolor\n",
       "168           NaN          3.0           1.6          0.2      setosa\n",
       "169           NaN          3.3           1.4          0.2      setosa"
      ]
     },
     "execution_count": 106,
     "metadata": {},
     "output_type": "execute_result"
    }
   ],
   "source": [
    "## apilado de dataframes \n",
    "## los casos 151 a 170 contienen casos duplicados o\n",
    "## casos con datos faltantes\n",
    "w = pandas.concat([x, y])\n",
    "w.index = list(range(170))\n",
    "w.tail(25)"
   ]
  },
  {
   "cell_type": "code",
   "execution_count": 107,
   "metadata": {},
   "outputs": [
    {
     "data": {
      "text/plain": [
       "     Sepal_Length  Sepal_Width  Petal_Length  Petal_Width     Species\n",
       "142           5.8          2.7           5.1          1.9   virginica\n",
       "150           6.9          3.2           5.7          2.3   virginica\n",
       "151           6.1          2.6           5.6          1.4   virginica\n",
       "153           6.2          2.9           4.3          1.3  versicolor\n",
       "154           5.2          4.1           1.5          0.1      setosa\n",
       "156           4.8          3.4           1.6          0.2      setosa\n",
       "157           5.1          3.4           1.5          0.2      setosa\n",
       "159           6.3          2.8           5.1          1.5   virginica\n",
       "162           5.8          4.0           1.2          0.2      setosa\n",
       "163           5.4          3.9           1.7          0.4      setosa\n",
       "167           6.5          2.8           4.6          1.5  versicolor"
      ]
     },
     "execution_count": 107,
     "metadata": {},
     "output_type": "execute_result"
    }
   ],
   "source": [
    "## casos duplicados\n",
    "## note que el caso 142 aparece duplicado\n",
    "w[w.duplicated()]"
   ]
  },
  {
   "cell_type": "code",
   "execution_count": 108,
   "metadata": {
    "scrolled": false
   },
   "outputs": [
    {
     "data": {
      "text/plain": [
       "     Sepal_Length  Sepal_Width  Petal_Length  Petal_Width     Species\n",
       "139           6.9          3.1           5.4          2.1   virginica\n",
       "140           6.7          3.1           5.6          2.4   virginica\n",
       "141           6.9          3.1           5.1          2.3   virginica\n",
       "143           6.8          3.2           5.9          2.3   virginica\n",
       "144           6.7          3.3           5.7          2.5   virginica\n",
       "145           6.7          3.0           5.2          2.3   virginica\n",
       "146           6.3          2.5           5.0          1.9   virginica\n",
       "147           6.5          3.0           5.2          2.0   virginica\n",
       "148           6.2          3.4           5.4          2.3   virginica\n",
       "149           5.9          3.0           5.1          1.8   virginica\n",
       "152           NaN          3.2           4.7          1.4  versicolor\n",
       "155           NaN          3.2           6.0          1.8   virginica\n",
       "158           NaN          4.4           1.5          0.4      setosa\n",
       "160           NaN          2.3           3.3          1.0  versicolor\n",
       "161           NaN          2.8           4.1          1.3  versicolor\n",
       "164           NaN          3.4           1.4          0.3      setosa\n",
       "165           NaN          2.7           5.1          1.9   virginica\n",
       "166           NaN          3.2           1.3          0.2      setosa\n",
       "168           NaN          3.0           1.6          0.2      setosa\n",
       "169           NaN          3.3           1.4          0.2      setosa"
      ]
     },
     "execution_count": 108,
     "metadata": {},
     "output_type": "execute_result"
    }
   ],
   "source": [
    "## casos únicos o no duplicados \n",
    "## incluye los casos con valores NA como únicos\n",
    "## note que se eliminaron varios casos entre el 151 y el 170\n",
    "w.drop_duplicates().tail(20)"
   ]
  },
  {
   "cell_type": "code",
   "execution_count": 109,
   "metadata": {},
   "outputs": [
    {
     "data": {
      "text/plain": [
       "160     True\n",
       "161     True\n",
       "162    False\n",
       "163    False\n",
       "164     True\n",
       "165     True\n",
       "166     True\n",
       "167    False\n",
       "168     True\n",
       "169     True\n",
       "Name: Sepal_Length, dtype: bool"
      ]
     },
     "execution_count": 109,
     "metadata": {},
     "output_type": "execute_result"
    }
   ],
   "source": [
    "## casos nulos\n",
    "w['Sepal_Length'].isnull().tail(10)"
   ]
  },
  {
   "cell_type": "code",
   "execution_count": 110,
   "metadata": {},
   "outputs": [
    {
     "data": {
      "text/plain": [
       "     Sepal_Length  Sepal_Width  Petal_Length  Petal_Width     Species\n",
       "152           NaN          3.2           4.7          1.4  versicolor\n",
       "155           NaN          3.2           6.0          1.8   virginica\n",
       "158           NaN          4.4           1.5          0.4      setosa\n",
       "160           NaN          2.3           3.3          1.0  versicolor\n",
       "161           NaN          2.8           4.1          1.3  versicolor\n",
       "164           NaN          3.4           1.4          0.3      setosa\n",
       "165           NaN          2.7           5.1          1.9   virginica\n",
       "166           NaN          3.2           1.3          0.2      setosa\n",
       "168           NaN          3.0           1.6          0.2      setosa\n",
       "169           NaN          3.3           1.4          0.2      setosa"
      ]
     },
     "execution_count": 110,
     "metadata": {},
     "output_type": "execute_result"
    }
   ],
   "source": [
    "## hay que usar operadore lógicos para considerar más columnas\n",
    "w[w['Sepal_Length'].isnull()]"
   ]
  },
  {
   "cell_type": "code",
   "execution_count": 111,
   "metadata": {},
   "outputs": [
    {
     "data": {
      "text/plain": [
       "     Sepal_Length  Sepal_Width  Petal_Length  Petal_Width     Species\n",
       "140           6.7          3.1           5.6          2.4   virginica\n",
       "141           6.9          3.1           5.1          2.3   virginica\n",
       "142           5.8          2.7           5.1          1.9   virginica\n",
       "143           6.8          3.2           5.9          2.3   virginica\n",
       "144           6.7          3.3           5.7          2.5   virginica\n",
       "145           6.7          3.0           5.2          2.3   virginica\n",
       "146           6.3          2.5           5.0          1.9   virginica\n",
       "147           6.5          3.0           5.2          2.0   virginica\n",
       "148           6.2          3.4           5.4          2.3   virginica\n",
       "149           5.9          3.0           5.1          1.8   virginica\n",
       "150           6.9          3.2           5.7          2.3   virginica\n",
       "151           6.1          2.6           5.6          1.4   virginica\n",
       "153           6.2          2.9           4.3          1.3  versicolor\n",
       "154           5.2          4.1           1.5          0.1      setosa\n",
       "156           4.8          3.4           1.6          0.2      setosa\n",
       "157           5.1          3.4           1.5          0.2      setosa\n",
       "159           6.3          2.8           5.1          1.5   virginica\n",
       "162           5.8          4.0           1.2          0.2      setosa\n",
       "163           5.4          3.9           1.7          0.4      setosa\n",
       "167           6.5          2.8           4.6          1.5  versicolor"
      ]
     },
     "execution_count": 111,
     "metadata": {},
     "output_type": "execute_result"
    }
   ],
   "source": [
    "## casos completos (sin faltantes)\n",
    "w.dropna().tail(20)"
   ]
  },
  {
   "cell_type": "markdown",
   "metadata": {},
   "source": [
    "## Estadísticos descriptivos"
   ]
  },
  {
   "cell_type": "markdown",
   "metadata": {},
   "source": [
    "[Contenido](#Contenido)"
   ]
  },
  {
   "cell_type": "code",
   "execution_count": 112,
   "metadata": {},
   "outputs": [
    {
     "name": "stdout",
     "output_type": "stream",
     "text": [
      "       Sepal_Length  Sepal_Width  Petal_Length  Petal_Width\n",
      "count    150.000000   150.000000    150.000000   150.000000\n",
      "mean       5.843333     3.057333      3.758000     1.199333\n",
      "std        0.828066     0.435866      1.765298     0.762238\n",
      "min        4.300000     2.000000      1.000000     0.100000\n",
      "25%        5.100000     2.800000      1.600000     0.300000\n",
      "50%        5.800000     3.000000      4.350000     1.300000\n",
      "75%        6.400000     3.300000      5.100000     1.800000\n",
      "max        7.900000     4.400000      6.900000     2.500000\n"
     ]
    }
   ],
   "source": [
    "## resumen de estadísticos descriptivos\n",
    "print(x.describe())"
   ]
  },
  {
   "cell_type": "code",
   "execution_count": 113,
   "metadata": {
    "scrolled": true
   },
   "outputs": [
    {
     "data": {
      "text/plain": [
       "Sepal_Length    5.843333\n",
       "Sepal_Width     3.057333\n",
       "Petal_Length    3.758000\n",
       "Petal_Width     1.199333\n",
       "dtype: float64"
      ]
     },
     "execution_count": 113,
     "metadata": {},
     "output_type": "execute_result"
    }
   ],
   "source": [
    "x.mean()"
   ]
  },
  {
   "cell_type": "code",
   "execution_count": 114,
   "metadata": {
    "scrolled": true
   },
   "outputs": [
    {
     "data": {
      "text/plain": [
       "0    2.550\n",
       "1    2.375\n",
       "2    2.350\n",
       "3    2.350\n",
       "4    2.550\n",
       "dtype: float64"
      ]
     },
     "execution_count": 114,
     "metadata": {},
     "output_type": "execute_result"
    }
   ],
   "source": [
    "x.mean(1).head()"
   ]
  },
  {
   "cell_type": "markdown",
   "metadata": {},
   "source": [
    "## Paneles de DataFrames"
   ]
  },
  {
   "cell_type": "markdown",
   "metadata": {},
   "source": [
    "[Contenido](#Contenido)"
   ]
  },
  {
   "cell_type": "code",
   "execution_count": 115,
   "metadata": {
    "collapsed": true
   },
   "outputs": [],
   "source": [
    "## se crean los DataFrames\n",
    "df1 = pandas.DataFrame({'colA': [1, 2],\n",
    "                        'colB': [3, 4]})\n",
    "\n",
    "df2 = pandas.DataFrame({'colB': [5, 6],\n",
    "                      '  colC': [7, 8]})\n",
    "\n",
    "df3 = pandas.DataFrame({'colC': [9, 0],\n",
    "                      '  colD': [1, 2]})"
   ]
  },
  {
   "cell_type": "code",
   "execution_count": 116,
   "metadata": {},
   "outputs": [
    {
     "name": "stdout",
     "output_type": "stream",
     "text": [
      "{'df2':      colC  colB\n",
      "0       7     5\n",
      "1       8     6, 'df3':      colD  colC\n",
      "0       1     9\n",
      "1       2     0, 'df1':    colA  colB\n",
      "0     1     3\n",
      "1     2     4}\n"
     ]
    }
   ],
   "source": [
    "## creación del panel como un diccionario\n",
    "pdPanel = { 'df1': df1,\n",
    "            'df2': df2,\n",
    "            'df3': df3}\n",
    "print(pdPanel)"
   ]
  },
  {
   "cell_type": "markdown",
   "metadata": {},
   "source": [
    "---"
   ]
  },
  {
   "cell_type": "markdown",
   "metadata": {},
   "source": [
    "[Contenido](#Contenido)"
   ]
  },
  {
   "cell_type": "markdown",
   "metadata": {},
   "source": [
    "---"
   ]
  },
  {
   "cell_type": "markdown",
   "metadata": {},
   "source": [
    "Transformación de datos\n",
    "===\n",
    "\n",
    "**Juan David Velásquez Henao**  \n",
    "jdvelasq@unal.edu.co   \n",
    "Universidad Nacional de Colombia, Sede Medellín  \n",
    "Facultad de Minas  \n",
    "Medellín, Colombia\n",
    "\n",
    "---\n",
    "\n",
    "Haga click [aquí](https://github.com/jdvelasq/IPy-for-data-science/blob/master/IPy-04-transformacion.ipynb) para acceder a la última versión online\n",
    "\n",
    "Haga click [aquí](http://nbviewer.jupyter.org/github/jdvelasq/IPy-for-data-science/blob/master/IPy-04-transformacion.ipynb) para ver la última versión online en `nbviewer`. \n",
    "\n",
    "---"
   ]
  }
 ],
 "metadata": {
  "anaconda-cloud": {},
  "kernelspec": {
   "display_name": "Python 3",
   "language": "python",
   "name": "python3"
  },
  "language_info": {
   "codemirror_mode": {
    "name": "ipython",
    "version": 3
   },
   "file_extension": ".py",
   "mimetype": "text/x-python",
   "name": "python",
   "nbconvert_exporter": "python",
   "pygments_lexer": "ipython3",
   "version": "3.6.1"
  }
 },
 "nbformat": 4,
 "nbformat_minor": 1
}
