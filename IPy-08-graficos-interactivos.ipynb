{
 "cells": [
  {
   "cell_type": "markdown",
   "metadata": {},
   "source": [
    "Gráficos Interactivos\n",
    "===\n",
    "\n",
    "**Juan David Velásquez Henao**  \n",
    "jdvelasq@unal.edu.co   \n",
    "Universidad Nacional de Colombia, Sede Medellín  \n",
    "Facultad de Minas  \n",
    "Medellín, Colombia\n",
    "\n",
    "---\n",
    "\n",
    "Haga click [aquí](https://github.com/jdvelasq/IPy-for-data-science/blob/master/IPy-08-graficos-interactivos.ipynb) para acceder a la última versión online\n",
    "\n",
    "Haga click [aquí](http://nbviewer.jupyter.org/github/jdvelasq/IPy-for-data-science/blob/master/IPy-08-graficos-interactivos.ipynb) para ver la última versión online en `nbviewer`. \n",
    "\n",
    "---"
   ]
  },
  {
   "cell_type": "markdown",
   "metadata": {},
   "source": [
    "#### Contenido"
   ]
  },
  {
   "cell_type": "markdown",
   "metadata": {},
   "source": [
    "> "
   ]
  },
  {
   "cell_type": "markdown",
   "metadata": {},
   "source": [
    "# Plot.ly"
   ]
  },
  {
   "cell_type": "markdown",
   "metadata": {},
   "source": [
    "[Contenido](#Contenido)"
   ]
  },
  {
   "cell_type": "markdown",
   "metadata": {},
   "source": [
    "> [plotly](https://plot.ly)  "
   ]
  },
  {
   "cell_type": "markdown",
   "metadata": {},
   "source": [
    "`plotly`  es una plataforma web colaborativa para la visualización y el análisis de datos.\n",
    "\n",
    "\n",
    "Para poder instalar la librería debe ejecutar el siguiente comando:"
   ]
  },
  {
   "cell_type": "code",
   "execution_count": 2,
   "metadata": {},
   "outputs": [
    {
     "name": "stdout",
     "output_type": "stream",
     "text": [
      "Requirement already satisfied: plotly in /Users/jdvelasq/anaconda/lib/python3.6/site-packages\n",
      "Requirement already satisfied: six in /Users/jdvelasq/anaconda/lib/python3.6/site-packages (from plotly)\n",
      "Requirement already satisfied: pytz in /Users/jdvelasq/anaconda/lib/python3.6/site-packages (from plotly)\n",
      "Requirement already satisfied: nbformat>=4.2 in /Users/jdvelasq/anaconda/lib/python3.6/site-packages (from plotly)\n",
      "Requirement already satisfied: decorator>=4.0.6 in /Users/jdvelasq/anaconda/lib/python3.6/site-packages (from plotly)\n",
      "Requirement already satisfied: requests in /Users/jdvelasq/anaconda/lib/python3.6/site-packages (from plotly)\n"
     ]
    }
   ],
   "source": [
    "%%sh\n",
    "pip install plotly"
   ]
  },
  {
   "cell_type": "markdown",
   "metadata": {},
   "source": [
    "El sitio web ofrece ejemplos y material sobre el uso de la librería.\n",
    "\n",
    "Ejecute el siguiente ejemplo para verificar que la librería funciona correctamente."
   ]
  },
  {
   "cell_type": "code",
   "execution_count": 3,
   "metadata": {},
   "outputs": [
    {
     "data": {
      "text/plain": [
       "'2.0.14'"
      ]
     },
     "execution_count": 3,
     "metadata": {},
     "output_type": "execute_result"
    }
   ],
   "source": [
    "# importa la librería\n",
    "import plotly\n",
    "plotly.__version__  # imprime la versión instalada de plotly "
   ]
  },
  {
   "cell_type": "code",
   "execution_count": 4,
   "metadata": {
    "collapsed": true
   },
   "outputs": [],
   "source": [
    "# importa las librerias para graficación\n",
    "import plotly.plotly as py  \n",
    "import plotly.tools as tls"
   ]
  },
  {
   "cell_type": "markdown",
   "metadata": {},
   "source": [
    "Para poder usar plotly, es necesario crear una cuenta gratuita en plot.ly. Una vez creada la cuenta, se debe obtener el api_key personal.\n",
    "\n",
    "En el siguiente paso, se procede al loggin en plotly."
   ]
  },
  {
   "cell_type": "code",
   "execution_count": 5,
   "metadata": {
    "collapsed": true
   },
   "outputs": [],
   "source": [
    "# py.sign_in('your_username','your_api_key')\n",
    "py.sign_in('jdvelasq','lal1fddnot')"
   ]
  },
  {
   "cell_type": "code",
   "execution_count": 6,
   "metadata": {},
   "outputs": [],
   "source": [
    "# se generan datos para producir la gráfica.\n",
    "x1 = [1, 2, 3, 5, 6]\n",
    "y1 = [1, 4.5, 7, 24, 38]\n",
    "trace1 = dict(x=x1, y=y1)\n",
    "data = [trace1]"
   ]
  },
  {
   "cell_type": "code",
   "execution_count": 7,
   "metadata": {},
   "outputs": [
    {
     "data": {
      "text/plain": [
       "'https://plot.ly/~jdvelasq/2'"
      ]
     },
     "execution_count": 7,
     "metadata": {},
     "output_type": "execute_result"
    }
   ],
   "source": [
    "# Se hace el gráfico.\n",
    "py.plot(data, filename='myplot')"
   ]
  },
  {
   "cell_type": "markdown",
   "metadata": {},
   "source": [
    "El último comando genera la visualización de los datos en el sitio web de plotly. En el navegador de internet debe aparecer una pestaña como la siguiente:\n",
    "\n",
    "<img src=\"images/plotly_user.png\" width=\"750\" >"
   ]
  },
  {
   "cell_type": "markdown",
   "metadata": {
    "collapsed": true
   },
   "source": [
    "---\n",
    "# Bokeh"
   ]
  },
  {
   "cell_type": "markdown",
   "metadata": {},
   "source": [
    "[Contenido](#Contenido)"
   ]
  },
  {
   "cell_type": "markdown",
   "metadata": {},
   "source": [
    "Bokeh es una librería para graficación desarrollada por [Continuum Analytics](https://www.continuum.io). El tutorial de Bokeh puede consultarse en el sitio oficial de la herramienta, cuyo vínculo está suministrado en la bibiografía.\n",
    "\n",
    "\n",
    "En este tutorial se presenta un gráfico en Bokeh que tiene como fin probar que la librería está correctamente instalada."
   ]
  },
  {
   "cell_type": "code",
   "execution_count": 8,
   "metadata": {
    "collapsed": true
   },
   "outputs": [],
   "source": [
    "# El primer paso consiste en importar las librerias en Jupyter.\n",
    "import numpy as np\n",
    "from bokeh.plotting import figure, output_file, show\n",
    "from bokeh.io import output_notebook"
   ]
  },
  {
   "cell_type": "code",
   "execution_count": 9,
   "metadata": {},
   "outputs": [
    {
     "data": {
      "text/html": [
       "\n",
       "    <div class=\"bk-root\">\n",
       "        <a href=\"http://bokeh.pydata.org\" target=\"_blank\" class=\"bk-logo bk-logo-small bk-logo-notebook\"></a>\n",
       "        <span id=\"0f56cd0b-f71c-43f2-9c5c-34cf20009ee9\">Loading BokehJS ...</span>\n",
       "    </div>"
      ]
     },
     "metadata": {},
     "output_type": "display_data"
    },
    {
     "data": {
      "application/javascript": [
       "\n",
       "(function(global) {\n",
       "  function now() {\n",
       "    return new Date();\n",
       "  }\n",
       "\n",
       "  var force = true;\n",
       "\n",
       "  if (typeof (window._bokeh_onload_callbacks) === \"undefined\" || force === true) {\n",
       "    window._bokeh_onload_callbacks = [];\n",
       "    window._bokeh_is_loading = undefined;\n",
       "  }\n",
       "\n",
       "\n",
       "  \n",
       "  if (typeof (window._bokeh_timeout) === \"undefined\" || force === true) {\n",
       "    window._bokeh_timeout = Date.now() + 5000;\n",
       "    window._bokeh_failed_load = false;\n",
       "  }\n",
       "\n",
       "  var NB_LOAD_WARNING = {'data': {'text/html':\n",
       "     \"<div style='background-color: #fdd'>\\n\"+\n",
       "     \"<p>\\n\"+\n",
       "     \"BokehJS does not appear to have successfully loaded. If loading BokehJS from CDN, this \\n\"+\n",
       "     \"may be due to a slow or bad network connection. Possible fixes:\\n\"+\n",
       "     \"</p>\\n\"+\n",
       "     \"<ul>\\n\"+\n",
       "     \"<li>re-rerun `output_notebook()` to attempt to load from CDN again, or</li>\\n\"+\n",
       "     \"<li>use INLINE resources instead, as so:</li>\\n\"+\n",
       "     \"</ul>\\n\"+\n",
       "     \"<code>\\n\"+\n",
       "     \"from bokeh.resources import INLINE\\n\"+\n",
       "     \"output_notebook(resources=INLINE)\\n\"+\n",
       "     \"</code>\\n\"+\n",
       "     \"</div>\"}};\n",
       "\n",
       "  function display_loaded() {\n",
       "    if (window.Bokeh !== undefined) {\n",
       "      var el = document.getElementById(\"0f56cd0b-f71c-43f2-9c5c-34cf20009ee9\");\n",
       "      el.textContent = \"BokehJS \" + Bokeh.version + \" successfully loaded.\";\n",
       "    } else if (Date.now() < window._bokeh_timeout) {\n",
       "      setTimeout(display_loaded, 100)\n",
       "    }\n",
       "  }\n",
       "\n",
       "  function run_callbacks() {\n",
       "    window._bokeh_onload_callbacks.forEach(function(callback) { callback() });\n",
       "    delete window._bokeh_onload_callbacks\n",
       "    console.info(\"Bokeh: all callbacks have finished\");\n",
       "  }\n",
       "\n",
       "  function load_libs(js_urls, callback) {\n",
       "    window._bokeh_onload_callbacks.push(callback);\n",
       "    if (window._bokeh_is_loading > 0) {\n",
       "      console.log(\"Bokeh: BokehJS is being loaded, scheduling callback at\", now());\n",
       "      return null;\n",
       "    }\n",
       "    if (js_urls == null || js_urls.length === 0) {\n",
       "      run_callbacks();\n",
       "      return null;\n",
       "    }\n",
       "    console.log(\"Bokeh: BokehJS not loaded, scheduling load and callback at\", now());\n",
       "    window._bokeh_is_loading = js_urls.length;\n",
       "    for (var i = 0; i < js_urls.length; i++) {\n",
       "      var url = js_urls[i];\n",
       "      var s = document.createElement('script');\n",
       "      s.src = url;\n",
       "      s.async = false;\n",
       "      s.onreadystatechange = s.onload = function() {\n",
       "        window._bokeh_is_loading--;\n",
       "        if (window._bokeh_is_loading === 0) {\n",
       "          console.log(\"Bokeh: all BokehJS libraries loaded\");\n",
       "          run_callbacks()\n",
       "        }\n",
       "      };\n",
       "      s.onerror = function() {\n",
       "        console.warn(\"failed to load library \" + url);\n",
       "      };\n",
       "      console.log(\"Bokeh: injecting script tag for BokehJS library: \", url);\n",
       "      document.getElementsByTagName(\"head\")[0].appendChild(s);\n",
       "    }\n",
       "  };var element = document.getElementById(\"0f56cd0b-f71c-43f2-9c5c-34cf20009ee9\");\n",
       "  if (element == null) {\n",
       "    console.log(\"Bokeh: ERROR: autoload.js configured with elementid '0f56cd0b-f71c-43f2-9c5c-34cf20009ee9' but no matching script tag was found. \")\n",
       "    return false;\n",
       "  }\n",
       "\n",
       "  var js_urls = [\"https://cdn.pydata.org/bokeh/release/bokeh-0.12.5.min.js\", \"https://cdn.pydata.org/bokeh/release/bokeh-widgets-0.12.5.min.js\"];\n",
       "\n",
       "  var inline_js = [\n",
       "    function(Bokeh) {\n",
       "      Bokeh.set_log_level(\"info\");\n",
       "    },\n",
       "    \n",
       "    function(Bokeh) {\n",
       "      \n",
       "    },\n",
       "    \n",
       "    function(Bokeh) {\n",
       "      \n",
       "      document.getElementById(\"0f56cd0b-f71c-43f2-9c5c-34cf20009ee9\").textContent = \"BokehJS is loading...\";\n",
       "    },\n",
       "    function(Bokeh) {\n",
       "      console.log(\"Bokeh: injecting CSS: https://cdn.pydata.org/bokeh/release/bokeh-0.12.5.min.css\");\n",
       "      Bokeh.embed.inject_css(\"https://cdn.pydata.org/bokeh/release/bokeh-0.12.5.min.css\");\n",
       "      console.log(\"Bokeh: injecting CSS: https://cdn.pydata.org/bokeh/release/bokeh-widgets-0.12.5.min.css\");\n",
       "      Bokeh.embed.inject_css(\"https://cdn.pydata.org/bokeh/release/bokeh-widgets-0.12.5.min.css\");\n",
       "    }\n",
       "  ];\n",
       "\n",
       "  function run_inline_js() {\n",
       "    \n",
       "    if ((window.Bokeh !== undefined) || (force === true)) {\n",
       "      for (var i = 0; i < inline_js.length; i++) {\n",
       "        inline_js[i](window.Bokeh);\n",
       "      }if (force === true) {\n",
       "        display_loaded();\n",
       "      }} else if (Date.now() < window._bokeh_timeout) {\n",
       "      setTimeout(run_inline_js, 100);\n",
       "    } else if (!window._bokeh_failed_load) {\n",
       "      console.log(\"Bokeh: BokehJS failed to load within specified timeout.\");\n",
       "      window._bokeh_failed_load = true;\n",
       "    } else if (force !== true) {\n",
       "      var cell = $(document.getElementById(\"0f56cd0b-f71c-43f2-9c5c-34cf20009ee9\")).parents('.cell').data().cell;\n",
       "      cell.output_area.append_execute_result(NB_LOAD_WARNING)\n",
       "    }\n",
       "\n",
       "  }\n",
       "\n",
       "  if (window._bokeh_is_loading === 0) {\n",
       "    console.log(\"Bokeh: BokehJS loaded, going straight to plotting\");\n",
       "    run_inline_js();\n",
       "  } else {\n",
       "    load_libs(js_urls, function() {\n",
       "      console.log(\"Bokeh: BokehJS plotting callback run at\", now());\n",
       "      run_inline_js();\n",
       "    });\n",
       "  }\n",
       "}(this));"
      ]
     },
     "metadata": {},
     "output_type": "display_data"
    }
   ],
   "source": [
    "output_notebook()"
   ]
  },
  {
   "cell_type": "code",
   "execution_count": 10,
   "metadata": {
    "collapsed": true
   },
   "outputs": [],
   "source": [
    "# se generan puntos aleatorios\n",
    "N = 4000\n",
    "x = np.random.random(size=N) * 100\n",
    "y = np.random.random(size=N) * 100\n",
    "radii = np.random.random(size=N) * 1.5\n",
    "colors = [\n",
    "    \"#%02x%02x%02x\" % (int(r), int(g), 150) for r, g in zip(50+2*x, 30+2*y)\n",
    "]"
   ]
  },
  {
   "cell_type": "code",
   "execution_count": 11,
   "metadata": {
    "scrolled": false
   },
   "outputs": [
    {
     "data": {
      "text/html": [
       "\n",
       "\n",
       "    <div class=\"bk-root\">\n",
       "        <div class=\"bk-plotdiv\" id=\"10ce9b70-fcfa-44ed-a011-9f2eba195ca7\"></div>\n",
       "    </div>\n",
       "<script type=\"text/javascript\">\n",
       "  \n",
       "  (function(global) {\n",
       "    function now() {\n",
       "      return new Date();\n",
       "    }\n",
       "  \n",
       "    var force = false;\n",
       "  \n",
       "    if (typeof (window._bokeh_onload_callbacks) === \"undefined\" || force === true) {\n",
       "      window._bokeh_onload_callbacks = [];\n",
       "      window._bokeh_is_loading = undefined;\n",
       "    }\n",
       "  \n",
       "  \n",
       "    \n",
       "    if (typeof (window._bokeh_timeout) === \"undefined\" || force === true) {\n",
       "      window._bokeh_timeout = Date.now() + 0;\n",
       "      window._bokeh_failed_load = false;\n",
       "    }\n",
       "  \n",
       "    var NB_LOAD_WARNING = {'data': {'text/html':\n",
       "       \"<div style='background-color: #fdd'>\\n\"+\n",
       "       \"<p>\\n\"+\n",
       "       \"BokehJS does not appear to have successfully loaded. If loading BokehJS from CDN, this \\n\"+\n",
       "       \"may be due to a slow or bad network connection. Possible fixes:\\n\"+\n",
       "       \"</p>\\n\"+\n",
       "       \"<ul>\\n\"+\n",
       "       \"<li>re-rerun `output_notebook()` to attempt to load from CDN again, or</li>\\n\"+\n",
       "       \"<li>use INLINE resources instead, as so:</li>\\n\"+\n",
       "       \"</ul>\\n\"+\n",
       "       \"<code>\\n\"+\n",
       "       \"from bokeh.resources import INLINE\\n\"+\n",
       "       \"output_notebook(resources=INLINE)\\n\"+\n",
       "       \"</code>\\n\"+\n",
       "       \"</div>\"}};\n",
       "  \n",
       "    function display_loaded() {\n",
       "      if (window.Bokeh !== undefined) {\n",
       "        var el = document.getElementById(\"10ce9b70-fcfa-44ed-a011-9f2eba195ca7\");\n",
       "        el.textContent = \"BokehJS \" + Bokeh.version + \" successfully loaded.\";\n",
       "      } else if (Date.now() < window._bokeh_timeout) {\n",
       "        setTimeout(display_loaded, 100)\n",
       "      }\n",
       "    }\n",
       "  \n",
       "    function run_callbacks() {\n",
       "      window._bokeh_onload_callbacks.forEach(function(callback) { callback() });\n",
       "      delete window._bokeh_onload_callbacks\n",
       "      console.info(\"Bokeh: all callbacks have finished\");\n",
       "    }\n",
       "  \n",
       "    function load_libs(js_urls, callback) {\n",
       "      window._bokeh_onload_callbacks.push(callback);\n",
       "      if (window._bokeh_is_loading > 0) {\n",
       "        console.log(\"Bokeh: BokehJS is being loaded, scheduling callback at\", now());\n",
       "        return null;\n",
       "      }\n",
       "      if (js_urls == null || js_urls.length === 0) {\n",
       "        run_callbacks();\n",
       "        return null;\n",
       "      }\n",
       "      console.log(\"Bokeh: BokehJS not loaded, scheduling load and callback at\", now());\n",
       "      window._bokeh_is_loading = js_urls.length;\n",
       "      for (var i = 0; i < js_urls.length; i++) {\n",
       "        var url = js_urls[i];\n",
       "        var s = document.createElement('script');\n",
       "        s.src = url;\n",
       "        s.async = false;\n",
       "        s.onreadystatechange = s.onload = function() {\n",
       "          window._bokeh_is_loading--;\n",
       "          if (window._bokeh_is_loading === 0) {\n",
       "            console.log(\"Bokeh: all BokehJS libraries loaded\");\n",
       "            run_callbacks()\n",
       "          }\n",
       "        };\n",
       "        s.onerror = function() {\n",
       "          console.warn(\"failed to load library \" + url);\n",
       "        };\n",
       "        console.log(\"Bokeh: injecting script tag for BokehJS library: \", url);\n",
       "        document.getElementsByTagName(\"head\")[0].appendChild(s);\n",
       "      }\n",
       "    };var element = document.getElementById(\"10ce9b70-fcfa-44ed-a011-9f2eba195ca7\");\n",
       "    if (element == null) {\n",
       "      console.log(\"Bokeh: ERROR: autoload.js configured with elementid '10ce9b70-fcfa-44ed-a011-9f2eba195ca7' but no matching script tag was found. \")\n",
       "      return false;\n",
       "    }\n",
       "  \n",
       "    var js_urls = [];\n",
       "  \n",
       "    var inline_js = [\n",
       "      function(Bokeh) {\n",
       "        (function() {\n",
       "          var fn = function() {\n",
       "            var docs_json = {\"c8e9afb5-4a34-49a8-8838-0c79ca3f83ea\":{\"roots\":{\"references\":[{\"attributes\":{},\"id\":\"89959883-93b3-47aa-a1dd-ff663e1c7877\",\"type\":\"BasicTickFormatter\"},{\"attributes\":{\"overlay\":{\"id\":\"14a1186c-44b4-4290-8492-47a1472824a8\",\"type\":\"BoxAnnotation\"},\"plot\":{\"id\":\"704ca8e1-fc50-49af-8531-5dbda09a1e8c\",\"subtype\":\"Figure\",\"type\":\"Plot\"}},\"id\":\"c7383935-3725-4c29-b8e1-e5e7315be8eb\",\"type\":\"BoxZoomTool\"},{\"attributes\":{\"dimension\":1,\"plot\":{\"id\":\"704ca8e1-fc50-49af-8531-5dbda09a1e8c\",\"subtype\":\"Figure\",\"type\":\"Plot\"},\"ticker\":{\"id\":\"1fe7cfea-9aed-4dcb-b947-9d93e91ca4d8\",\"type\":\"BasicTicker\"}},\"id\":\"1bfe93e9-e687-4e97-81fb-fffb3a02e2de\",\"type\":\"Grid\"},{\"attributes\":{\"plot\":{\"id\":\"704ca8e1-fc50-49af-8531-5dbda09a1e8c\",\"subtype\":\"Figure\",\"type\":\"Plot\"},\"ticker\":{\"id\":\"95f32c8e-92c6-4b76-8e4f-cdcbebbeac31\",\"type\":\"BasicTicker\"}},\"id\":\"f06d0069-cb15-4821-adf3-b736b2f09d7d\",\"type\":\"Grid\"},{\"attributes\":{\"plot\":{\"id\":\"704ca8e1-fc50-49af-8531-5dbda09a1e8c\",\"subtype\":\"Figure\",\"type\":\"Plot\"}},\"id\":\"5fdac8bf-bf96-4ef5-9d86-d9c3d4d49b2a\",\"type\":\"SaveTool\"},{\"attributes\":{},\"id\":\"1fe7cfea-9aed-4dcb-b947-9d93e91ca4d8\",\"type\":\"BasicTicker\"},{\"attributes\":{\"formatter\":{\"id\":\"89959883-93b3-47aa-a1dd-ff663e1c7877\",\"type\":\"BasicTickFormatter\"},\"plot\":{\"id\":\"704ca8e1-fc50-49af-8531-5dbda09a1e8c\",\"subtype\":\"Figure\",\"type\":\"Plot\"},\"ticker\":{\"id\":\"1fe7cfea-9aed-4dcb-b947-9d93e91ca4d8\",\"type\":\"BasicTicker\"}},\"id\":\"384d2658-c584-4804-a279-f2a34a3d0b13\",\"type\":\"LinearAxis\"},{\"attributes\":{\"plot\":{\"id\":\"704ca8e1-fc50-49af-8531-5dbda09a1e8c\",\"subtype\":\"Figure\",\"type\":\"Plot\"}},\"id\":\"c8a9f6e2-6248-46bc-9a87-2134d143ce7a\",\"type\":\"PanTool\"},{\"attributes\":{},\"id\":\"482ade9b-2975-4582-90a8-869d823942f8\",\"type\":\"BasicTickFormatter\"},{\"attributes\":{\"plot\":{\"id\":\"704ca8e1-fc50-49af-8531-5dbda09a1e8c\",\"subtype\":\"Figure\",\"type\":\"Plot\"}},\"id\":\"e4bdf602-eed8-469b-a821-85e660f65525\",\"type\":\"ResetTool\"},{\"attributes\":{\"data_source\":{\"id\":\"2db3a8e2-5cf3-4790-8071-876dd78ff1a9\",\"type\":\"ColumnDataSource\"},\"glyph\":{\"id\":\"4b8f4b7a-e3f9-4369-bb1f-e5818ce1f96e\",\"type\":\"Circle\"},\"hover_glyph\":null,\"muted_glyph\":null,\"nonselection_glyph\":{\"id\":\"a617a93a-5298-4818-b28a-748585de8447\",\"type\":\"Circle\"},\"selection_glyph\":null},\"id\":\"d78cf363-ace3-48ad-a255-7680c8dc186d\",\"type\":\"GlyphRenderer\"},{\"attributes\":{\"plot\":{\"id\":\"704ca8e1-fc50-49af-8531-5dbda09a1e8c\",\"subtype\":\"Figure\",\"type\":\"Plot\"}},\"id\":\"8fbb0d4b-cb93-40ad-8a22-e3281f5d3fed\",\"type\":\"WheelZoomTool\"},{\"attributes\":{\"fill_alpha\":{\"value\":0.1},\"fill_color\":{\"value\":\"#1f77b4\"},\"line_alpha\":{\"value\":0.1},\"line_color\":{\"value\":\"#1f77b4\"},\"radius\":{\"field\":\"radius\",\"units\":\"data\"},\"x\":{\"field\":\"x\"},\"y\":{\"field\":\"y\"}},\"id\":\"a617a93a-5298-4818-b28a-748585de8447\",\"type\":\"Circle\"},{\"attributes\":{\"formatter\":{\"id\":\"482ade9b-2975-4582-90a8-869d823942f8\",\"type\":\"BasicTickFormatter\"},\"plot\":{\"id\":\"704ca8e1-fc50-49af-8531-5dbda09a1e8c\",\"subtype\":\"Figure\",\"type\":\"Plot\"},\"ticker\":{\"id\":\"95f32c8e-92c6-4b76-8e4f-cdcbebbeac31\",\"type\":\"BasicTicker\"}},\"id\":\"28b8ba47-5bc0-43d1-ac42-6883d7112b65\",\"type\":\"LinearAxis\"},{\"attributes\":{\"callback\":null,\"end\":100},\"id\":\"5b2ef3ce-9a70-478a-ab56-baef70cc15f3\",\"type\":\"Range1d\"},{\"attributes\":{\"plot\":null,\"text\":\"\"},\"id\":\"1ef1ce43-0a1a-4147-ae95-06e72c790205\",\"type\":\"Title\"},{\"attributes\":{\"below\":[{\"id\":\"28b8ba47-5bc0-43d1-ac42-6883d7112b65\",\"type\":\"LinearAxis\"}],\"left\":[{\"id\":\"384d2658-c584-4804-a279-f2a34a3d0b13\",\"type\":\"LinearAxis\"}],\"renderers\":[{\"id\":\"28b8ba47-5bc0-43d1-ac42-6883d7112b65\",\"type\":\"LinearAxis\"},{\"id\":\"f06d0069-cb15-4821-adf3-b736b2f09d7d\",\"type\":\"Grid\"},{\"id\":\"384d2658-c584-4804-a279-f2a34a3d0b13\",\"type\":\"LinearAxis\"},{\"id\":\"1bfe93e9-e687-4e97-81fb-fffb3a02e2de\",\"type\":\"Grid\"},{\"id\":\"14a1186c-44b4-4290-8492-47a1472824a8\",\"type\":\"BoxAnnotation\"},{\"id\":\"d78cf363-ace3-48ad-a255-7680c8dc186d\",\"type\":\"GlyphRenderer\"}],\"title\":{\"id\":\"1ef1ce43-0a1a-4147-ae95-06e72c790205\",\"type\":\"Title\"},\"tool_events\":{\"id\":\"a4de97e1-fca6-4fe2-8bb2-77308b213184\",\"type\":\"ToolEvents\"},\"toolbar\":{\"id\":\"e7df8607-6817-4d42-8af1-455aa445fc75\",\"type\":\"Toolbar\"},\"x_range\":{\"id\":\"4445343f-0eaa-4e48-98f4-ea01a4f09585\",\"type\":\"Range1d\"},\"y_range\":{\"id\":\"5b2ef3ce-9a70-478a-ab56-baef70cc15f3\",\"type\":\"Range1d\"}},\"id\":\"704ca8e1-fc50-49af-8531-5dbda09a1e8c\",\"subtype\":\"Figure\",\"type\":\"Plot\"},{\"attributes\":{\"callback\":null,\"column_names\":[\"radius\",\"x\",\"y\",\"fill_color\"],\"data\":{\"fill_color\":[\"#dcb596\",\"#587796\",\"#b79996\",\"#814c96\",\"#bd9996\",\"#5fd396\",\"#4c6b96\",\"#663a96\",\"#c38296\",\"#cad596\",\"#ee7a96\",\"#4a4196\",\"#8b1f96\",\"#3cb296\",\"#7e7896\",\"#3b3c96\",\"#52ca96\",\"#369a96\",\"#7faf96\",\"#959096\",\"#62c896\",\"#544096\",\"#f4c296\",\"#ecb396\",\"#c07196\",\"#ac8296\",\"#f49496\",\"#d86396\",\"#f2a596\",\"#4d4e96\",\"#786496\",\"#7cb796\",\"#37c296\",\"#4b6e96\",\"#8a5996\",\"#b44f96\",\"#615c96\",\"#652996\",\"#cbd296\",\"#8d3e96\",\"#ab6896\",\"#eb8196\",\"#f49596\",\"#344296\",\"#e67c96\",\"#cf8196\",\"#f7b696\",\"#d84896\",\"#72c096\",\"#a6e196\",\"#b49996\",\"#8b7b96\",\"#569296\",\"#b0b296\",\"#e4a796\",\"#daaa96\",\"#383296\",\"#4cce96\",\"#667896\",\"#36e596\",\"#b8ab96\",\"#966096\",\"#5edc96\",\"#614c96\",\"#dc2d96\",\"#4e6a96\",\"#638e96\",\"#bbb396\",\"#6ba396\",\"#8a2d96\",\"#ad3396\",\"#6d7a96\",\"#9f8696\",\"#c66f96\",\"#6b9d96\",\"#853a96\",\"#b34996\",\"#349c96\",\"#3b7696\",\"#4b6a96\",\"#5b7c96\",\"#4cdf96\",\"#c77a96\",\"#6bd696\",\"#4e9c96\",\"#c88696\",\"#cc7596\",\"#508a96\",\"#a38496\",\"#e1a196\",\"#917196\",\"#846d96\",\"#f7d596\",\"#d17696\",\"#3e6796\",\"#e9d696\",\"#88a696\",\"#64a696\",\"#327096\",\"#8d7e96\",\"#ccc496\",\"#696296\",\"#367196\",\"#5ae396\",\"#3d3396\",\"#b88a96\",\"#775d96\",\"#5fbc96\",\"#f49e96\",\"#d95096\",\"#cea596\",\"#eddc96\",\"#376096\",\"#5e5796\",\"#f3c996\",\"#46cf96\",\"#50c596\",\"#bb3f96\",\"#53c796\",\"#4a7d96\",\"#818f96\",\"#92a196\",\"#54d296\",\"#3a7b96\",\"#d05796\",\"#93d696\",\"#483796\",\"#398f96\",\"#cbc096\",\"#57d296\",\"#e95d96\",\"#764096\",\"#a52196\",\"#e97696\",\"#c5b296\",\"#a19896\",\"#818096\",\"#9dac96\",\"#e72796\",\"#479796\",\"#6b3996\",\"#d11f96\",\"#a64e96\",\"#a3d396\",\"#8b2e96\",\"#eacb96\",\"#729196\",\"#a8d196\",\"#373696\",\"#e02396\",\"#ea5a96\",\"#b82b96\",\"#d33096\",\"#9f7d96\",\"#a64096\",\"#b18996\",\"#b46c96\",\"#9f8996\",\"#a2a296\",\"#763e96\",\"#b55a96\",\"#613596\",\"#634b96\",\"#e0d396\",\"#c64c96\",\"#e54996\",\"#703496\",\"#475296\",\"#e9d596\",\"#755196\",\"#595096\",\"#916f96\",\"#597f96\",\"#6b4c96\",\"#a47596\",\"#e8a696\",\"#742496\",\"#b99496\",\"#653696\",\"#7ed996\",\"#5e6b96\",\"#bd5296\",\"#49b296\",\"#5e4596\",\"#489f96\",\"#b9a496\",\"#cc9296\",\"#bbae96\",\"#ee6796\",\"#b27e96\",\"#6e9f96\",\"#4eb596\",\"#90af96\",\"#ca9596\",\"#b72d96\",\"#b36e96\",\"#4f8f96\",\"#6aac96\",\"#d05d96\",\"#786696\",\"#4a8696\",\"#f35996\",\"#4a2096\",\"#8f8096\",\"#5fa796\",\"#f03c96\",\"#539d96\",\"#432696\",\"#a9c696\",\"#5c4e96\",\"#ca8c96\",\"#ad5996\",\"#419896\",\"#b49e96\",\"#559696\",\"#508796\",\"#ce2e96\",\"#f6e496\",\"#674d96\",\"#924796\",\"#3b4596\",\"#5ca196\",\"#c75e96\",\"#73b696\",\"#4b6c96\",\"#e88f96\",\"#946196\",\"#87bc96\",\"#6d1e96\",\"#cb4596\",\"#c2e496\",\"#9bdc96\",\"#4c8c96\",\"#e06096\",\"#bfa096\",\"#f87696\",\"#593696\",\"#bb9096\",\"#378a96\",\"#6d9196\",\"#c51f96\",\"#d8d696\",\"#678a96\",\"#c84096\",\"#ab2096\",\"#d7e096\",\"#ef7096\",\"#624d96\",\"#b08a96\",\"#d96196\",\"#3abd96\",\"#5f9496\",\"#826096\",\"#849d96\",\"#966c96\",\"#877a96\",\"#965896\",\"#45d796\",\"#764896\",\"#bed996\",\"#952896\",\"#ba4296\",\"#80d296\",\"#696396\",\"#643796\",\"#ea7a96\",\"#ad8996\",\"#f9ac96\",\"#5db996\",\"#dd6996\",\"#794796\",\"#aa3496\",\"#828296\",\"#b6e296\",\"#50ba96\",\"#5f2196\",\"#c2d696\",\"#425896\",\"#e05d96\",\"#bee296\",\"#e94396\",\"#e2e096\",\"#693f96\",\"#392f96\",\"#b5cc96\",\"#6ea496\",\"#66ad96\",\"#726f96\",\"#3ec296\",\"#43c596\",\"#ea3496\",\"#d95196\",\"#3ec696\",\"#466d96\",\"#32b496\",\"#9abc96\",\"#b0de96\",\"#d56396\",\"#978d96\",\"#434a96\",\"#629696\",\"#82d396\",\"#cf5596\",\"#ea5096\",\"#88b896\",\"#849896\",\"#5bbe96\",\"#5c8896\",\"#946c96\",\"#e44996\",\"#e32a96\",\"#412096\",\"#7eaa96\",\"#744b96\",\"#403b96\",\"#a35e96\",\"#89a796\",\"#8f9796\",\"#e35f96\",\"#395796\",\"#aa8a96\",\"#bcbe96\",\"#ec2696\",\"#e94496\",\"#674896\",\"#f5d396\",\"#7f3f96\",\"#d6d496\",\"#a24e96\",\"#36cc96\",\"#74ba96\",\"#c97496\",\"#8bac96\",\"#3d5d96\",\"#d13b96\",\"#c1ad96\",\"#d81f96\",\"#a48896\",\"#a82096\",\"#aa3696\",\"#8dce96\",\"#a73d96\",\"#cc7196\",\"#a6a296\",\"#9c2896\",\"#76d496\",\"#dca296\",\"#6f8e96\",\"#f68d96\",\"#f24e96\",\"#b85696\",\"#4a7196\",\"#e06496\",\"#bfaa96\",\"#3ea896\",\"#634596\",\"#763196\",\"#ec4896\",\"#968196\",\"#3b4b96\",\"#c3b696\",\"#51c396\",\"#d09696\",\"#b43296\",\"#bc6a96\",\"#41cd96\",\"#58a796\",\"#5d5096\",\"#c39e96\",\"#393c96\",\"#c94c96\",\"#dae596\",\"#b3bc96\",\"#bf2796\",\"#55ac96\",\"#736996\",\"#7e4f96\",\"#5d6096\",\"#335596\",\"#d49396\",\"#8dc996\",\"#324896\",\"#7a2d96\",\"#85c296\",\"#ced096\",\"#365c96\",\"#763f96\",\"#e28496\",\"#d29f96\",\"#562996\",\"#e6c796\",\"#a89596\",\"#942d96\",\"#d34c96\",\"#4ba896\",\"#dfc896\",\"#6cda96\",\"#772696\",\"#36a696\",\"#b28f96\",\"#e57296\",\"#755d96\",\"#e5c896\",\"#a8cc96\",\"#935496\",\"#eb5d96\",\"#574796\",\"#503396\",\"#ecb796\",\"#662696\",\"#53e396\",\"#e4d296\",\"#e5b196\",\"#a2a696\",\"#db6d96\",\"#de9896\",\"#c79c96\",\"#b24696\",\"#d0ac96\",\"#5be596\",\"#7e3296\",\"#4b7396\",\"#599b96\",\"#cc6596\",\"#e27796\",\"#5b3896\",\"#a2b196\",\"#34b696\",\"#545c96\",\"#9f2196\",\"#9b2c96\",\"#4a5296\",\"#9f2d96\",\"#d78696\",\"#8b1f96\",\"#631f96\",\"#c3e596\",\"#863496\",\"#763996\",\"#973896\",\"#e53896\",\"#eb5e96\",\"#3b9096\",\"#e0c096\",\"#cebe96\",\"#833896\",\"#b58096\",\"#f2bd96\",\"#417296\",\"#72ab96\",\"#a27096\",\"#86b996\",\"#6d5396\",\"#d04c96\",\"#595296\",\"#9f6996\",\"#83e596\",\"#a7b496\",\"#5f5096\",\"#674796\",\"#e47f96\",\"#a42e96\",\"#d18b96\",\"#975996\",\"#b9bf96\",\"#4fd996\",\"#d03896\",\"#4e3d96\",\"#68a796\",\"#df5096\",\"#d95d96\",\"#b26196\",\"#bd3296\",\"#5f5e96\",\"#dd5c96\",\"#486a96\",\"#94c096\",\"#764796\",\"#52a396\",\"#405d96\",\"#d1d596\",\"#bd2d96\",\"#395d96\",\"#42a196\",\"#609796\",\"#4c3596\",\"#e5d496\",\"#795096\",\"#7cae96\",\"#ed8a96\",\"#cb3c96\",\"#accc96\",\"#3fa496\",\"#ba6f96\",\"#a36996\",\"#829596\",\"#63e496\",\"#f33d96\",\"#745396\",\"#d84196\",\"#cfb596\",\"#9e3b96\",\"#494896\",\"#d4c296\",\"#916f96\",\"#a7b096\",\"#edc396\",\"#8bc196\",\"#b82696\",\"#558696\",\"#c65596\",\"#837496\",\"#cfa196\",\"#93d196\",\"#b94696\",\"#dd2f96\",\"#555d96\",\"#e42396\",\"#947596\",\"#f93296\",\"#3f5196\",\"#d38396\",\"#e2a196\",\"#4b5196\",\"#723296\",\"#7f2f96\",\"#e57e96\",\"#cc2896\",\"#96a596\",\"#6f2696\",\"#d38296\",\"#ca9f96\",\"#498596\",\"#6e6696\",\"#89b796\",\"#78bc96\",\"#eab196\",\"#ee8f96\",\"#7fa096\",\"#ed3a96\",\"#5d2596\",\"#bbd196\",\"#4c7596\",\"#62ca96\",\"#996296\",\"#912d96\",\"#f73796\",\"#a9c496\",\"#dea796\",\"#3e2e96\",\"#9a9c96\",\"#cb1e96\",\"#7add96\",\"#5fa096\",\"#dd5896\",\"#ec4a96\",\"#6c2e96\",\"#8b1f96\",\"#a0a796\",\"#a3cc96\",\"#cd7796\",\"#bccd96\",\"#c55796\",\"#d0c896\",\"#d25196\",\"#da4996\",\"#956096\",\"#364c96\",\"#ae4496\",\"#b18196\",\"#e9a296\",\"#cfd296\",\"#a44a96\",\"#558296\",\"#ccb896\",\"#c49e96\",\"#c11f96\",\"#d23896\",\"#d8a096\",\"#eccf96\",\"#4e5a96\",\"#e1a096\",\"#7a9396\",\"#cfca96\",\"#71a696\",\"#dbb996\",\"#554e96\",\"#da4796\",\"#f68b96\",\"#83b396\",\"#b28196\",\"#e88696\",\"#99c296\",\"#e16396\",\"#a4ca96\",\"#a25896\",\"#ba5596\",\"#bebf96\",\"#886f96\",\"#393396\",\"#8fca96\",\"#b53096\",\"#363f96\",\"#e93896\",\"#beb396\",\"#786b96\",\"#8bb196\",\"#afd596\",\"#c42396\",\"#ea4f96\",\"#567e96\",\"#e3b696\",\"#507196\",\"#757b96\",\"#4c5d96\",\"#e67296\",\"#7e8d96\",\"#328096\",\"#d22b96\",\"#891e96\",\"#714696\",\"#94a196\",\"#5c9696\",\"#c85196\",\"#dd8396\",\"#93de96\",\"#adad96\",\"#5e2596\",\"#f8b296\",\"#ead696\",\"#3e8c96\",\"#eba896\",\"#ead396\",\"#f09896\",\"#edb496\",\"#5d3a96\",\"#886796\",\"#579896\",\"#f04696\",\"#c63696\",\"#ad5696\",\"#d29d96\",\"#8ec296\",\"#e2d296\",\"#b2de96\",\"#493996\",\"#58c096\",\"#e7e296\",\"#c3c896\",\"#b96696\",\"#a96b96\",\"#434896\",\"#d97e96\",\"#c63096\",\"#8a7996\",\"#ab6f96\",\"#aadb96\",\"#55d196\",\"#c15996\",\"#b37d96\",\"#f84996\",\"#b35d96\",\"#936e96\",\"#a5d196\",\"#ad2296\",\"#ea9096\",\"#95e596\",\"#46b996\",\"#5c6996\",\"#704696\",\"#f2b296\",\"#f99796\",\"#664a96\",\"#3e4396\",\"#62e096\",\"#34e196\",\"#415396\",\"#777a96\",\"#c93296\",\"#98b496\",\"#995496\",\"#368796\",\"#ed2f96\",\"#507496\",\"#d4db96\",\"#82aa96\",\"#f39196\",\"#4b8996\",\"#b24996\",\"#629d96\",\"#848496\",\"#8d5f96\",\"#ce7b96\",\"#8c6596\",\"#c5d396\",\"#882e96\",\"#587a96\",\"#758e96\",\"#5c3996\",\"#99ca96\",\"#568296\",\"#73ad96\",\"#8daa96\",\"#ddde96\",\"#486196\",\"#baad96\",\"#8bd496\",\"#9a7796\",\"#d14596\",\"#c3ba96\",\"#32be96\",\"#4d5f96\",\"#869f96\",\"#9e7d96\",\"#a17d96\",\"#9f5a96\",\"#7d8796\",\"#e13596\",\"#865696\",\"#d87596\",\"#d97996\",\"#f28f96\",\"#e07496\",\"#77b096\",\"#5e4196\",\"#c92a96\",\"#a3c896\",\"#46b296\",\"#6ac296\",\"#8db296\",\"#cb9596\",\"#7e2596\",\"#8a2d96\",\"#ef5b96\",\"#697e96\",\"#a3dd96\",\"#be2596\",\"#797a96\",\"#9b2c96\",\"#dc9596\",\"#ef4f96\",\"#6f5c96\",\"#9f7896\",\"#f94d96\",\"#bf3896\",\"#af7896\",\"#7bd896\",\"#378396\",\"#e49096\",\"#52bb96\",\"#616296\",\"#f97096\",\"#67b796\",\"#f5bb96\",\"#f09796\",\"#7a8c96\",\"#d24a96\",\"#b86596\",\"#b58f96\",\"#468896\",\"#abb096\",\"#e89e96\",\"#de3896\",\"#32ae96\",\"#91a496\",\"#7e4496\",\"#be7696\",\"#5bc496\",\"#e1a096\",\"#f0ca96\",\"#59e496\",\"#6e6b96\",\"#cd9196\",\"#aa7f96\",\"#c64296\",\"#447b96\",\"#9be396\",\"#f64496\",\"#802596\",\"#9d7596\",\"#524d96\",\"#c7bb96\",\"#974196\",\"#409996\",\"#e1e496\",\"#55b996\",\"#c5ca96\",\"#335196\",\"#e87b96\",\"#69c596\",\"#d5b596\",\"#548b96\",\"#3bd496\",\"#9cc896\",\"#db9696\",\"#60cb96\",\"#526a96\",\"#39a596\",\"#bd9f96\",\"#6f7096\",\"#7eab96\",\"#e4da96\",\"#6b6d96\",\"#4c2596\",\"#9b9d96\",\"#3ea596\",\"#c48996\",\"#5fe196\",\"#9bb796\",\"#d05096\",\"#d39a96\",\"#552896\",\"#5d1f96\",\"#919c96\",\"#627796\",\"#afaa96\",\"#36d396\",\"#f65a96\",\"#567696\",\"#cadb96\",\"#41c396\",\"#7a7c96\",\"#f12396\",\"#d7cc96\",\"#d85596\",\"#823d96\",\"#363996\",\"#f88b96\",\"#418e96\",\"#f2b096\",\"#e88d96\",\"#6d8196\",\"#95b996\",\"#a79e96\",\"#8e8b96\",\"#b1a496\",\"#733496\",\"#ef3896\",\"#3fbb96\",\"#501f96\",\"#a76696\",\"#3de396\",\"#8f8796\",\"#575c96\",\"#9eb596\",\"#d2a696\",\"#74a296\",\"#cab296\",\"#7fcf96\",\"#42ba96\",\"#4d8196\",\"#548696\",\"#7a9996\",\"#b05396\",\"#677a96\",\"#67cc96\",\"#d87d96\",\"#b0ad96\",\"#402d96\",\"#976896\",\"#41be96\",\"#ec4b96\",\"#cbd796\",\"#c93496\",\"#dba496\",\"#685996\",\"#3bbd96\",\"#475696\",\"#612896\",\"#8c8396\",\"#a99196\",\"#e49596\",\"#9a7a96\",\"#83a996\",\"#da4096\",\"#e53196\",\"#9f8696\",\"#3e9296\",\"#987996\",\"#396796\",\"#39e096\",\"#a06296\",\"#937d96\",\"#f7ad96\",\"#856f96\",\"#a24796\",\"#765b96\",\"#4ab196\",\"#c95596\",\"#e95596\",\"#cf2596\",\"#a5be96\",\"#7a4b96\",\"#67c296\",\"#868896\",\"#898f96\",\"#bcc796\",\"#7e6696\",\"#a16c96\",\"#5fce96\",\"#c57496\",\"#6c7696\",\"#a9d996\",\"#898196\",\"#d1d496\",\"#b42f96\",\"#7cc996\",\"#d9a896\",\"#503b96\",\"#7edb96\",\"#482d96\",\"#5f4b96\",\"#5d3396\",\"#e75e96\",\"#97b396\",\"#ab5596\",\"#e29696\",\"#3c7d96\",\"#4b6296\",\"#a62396\",\"#917b96\",\"#4f2596\",\"#827296\",\"#8b9496\",\"#992f96\",\"#e47696\",\"#eb9b96\",\"#3b9196\",\"#de7c96\",\"#74b196\",\"#f14996\",\"#502596\",\"#4d4e96\",\"#7d3a96\",\"#749396\",\"#766196\",\"#907b96\",\"#a1ba96\",\"#7a2c96\",\"#d65e96\",\"#9ca296\",\"#396296\",\"#d6b996\",\"#ed5996\",\"#c84596\",\"#56af96\",\"#c9c496\",\"#654596\",\"#f06596\",\"#6e8c96\",\"#376b96\",\"#3fda96\",\"#a19196\",\"#dbe096\",\"#368196\",\"#b63e96\",\"#e3d796\",\"#57c996\",\"#c92e96\",\"#e67c96\",\"#783196\",\"#c32196\",\"#95d396\",\"#954996\",\"#ca2f96\",\"#752396\",\"#dbda96\",\"#ce7096\",\"#4a6996\",\"#778b96\",\"#a72096\",\"#a36396\",\"#40cf96\",\"#5c6796\",\"#424296\",\"#3ddc96\",\"#f2c996\",\"#b83696\",\"#725196\",\"#b43596\",\"#c58d96\",\"#ab9796\",\"#e3b296\",\"#be5b96\",\"#afbb96\",\"#519a96\",\"#784996\",\"#53b296\",\"#806196\",\"#526896\",\"#a63896\",\"#eb4d96\",\"#b3c296\",\"#9d3296\",\"#a0d196\",\"#c3c596\",\"#f5d396\",\"#a7b096\",\"#97a196\",\"#544396\",\"#c9b396\",\"#606496\",\"#f75f96\",\"#a56996\",\"#80d996\",\"#bbcc96\",\"#ec2b96\",\"#4d3296\",\"#448c96\",\"#e63596\",\"#b58d96\",\"#aa1f96\",\"#3ca196\",\"#b67f96\",\"#e5a196\",\"#edce96\",\"#649a96\",\"#a7c796\",\"#a2b396\",\"#83d996\",\"#845296\",\"#7f7996\",\"#404596\",\"#6c3796\",\"#d3c996\",\"#eb6e96\",\"#844d96\",\"#9c9996\",\"#e12996\",\"#35ad96\",\"#713f96\",\"#856196\",\"#6d6596\",\"#efbc96\",\"#426196\",\"#938796\",\"#7c3596\",\"#a66896\",\"#913996\",\"#aac696\",\"#42ae96\",\"#8f5c96\",\"#af5496\",\"#6acf96\",\"#9dbd96\",\"#892396\",\"#4f7e96\",\"#443296\",\"#95a696\",\"#9d9096\",\"#f5d096\",\"#7b7696\",\"#4d4196\",\"#4b2896\",\"#8a4596\",\"#4d3396\",\"#549696\",\"#9c3696\",\"#6fb596\",\"#bd4f96\",\"#a7dd96\",\"#82bb96\",\"#b36396\",\"#5b7596\",\"#8ad896\",\"#544f96\",\"#f29996\",\"#c6a696\",\"#d65196\",\"#7e8796\",\"#887196\",\"#d16f96\",\"#c44e96\",\"#904296\",\"#acbb96\",\"#426e96\",\"#45bb96\",\"#d97596\",\"#37df96\",\"#3ad596\",\"#e0dc96\",\"#994996\",\"#c4aa96\",\"#822996\",\"#e2ba96\",\"#3b2996\",\"#d5cf96\",\"#336796\",\"#b68596\",\"#e3ac96\",\"#f59696\",\"#6bdc96\",\"#68c296\",\"#c2ac96\",\"#728996\",\"#643496\",\"#c8ae96\",\"#365896\",\"#c9ae96\",\"#3aab96\",\"#aedc96\",\"#444096\",\"#cc4596\",\"#9f2996\",\"#c99696\",\"#b6d496\",\"#8be596\",\"#d45f96\",\"#864e96\",\"#b5e396\",\"#499696\",\"#ed9e96\",\"#c58f96\",\"#ac2696\",\"#aa6c96\",\"#79b996\",\"#589696\",\"#afe196\",\"#407896\",\"#c76f96\",\"#985d96\",\"#a87196\",\"#f2da96\",\"#361f96\",\"#e15b96\",\"#e6cc96\",\"#9b8996\",\"#77cf96\",\"#9e2496\",\"#8d9796\",\"#84a596\",\"#7e2196\",\"#e03a96\",\"#d64396\",\"#b46496\",\"#5d2096\",\"#b06096\",\"#bbde96\",\"#f39f96\",\"#52a596\",\"#758896\",\"#6b4e96\",\"#f6c696\",\"#f2d496\",\"#3b5796\",\"#ec7296\",\"#5ac496\",\"#c35c96\",\"#754696\",\"#738e96\",\"#c0b796\",\"#e32e96\",\"#789496\",\"#ed4296\",\"#e53796\",\"#938396\",\"#4b8d96\",\"#8e5b96\",\"#49d996\",\"#67b096\",\"#dfcd96\",\"#6bca96\",\"#4abf96\",\"#f69696\",\"#8c8796\",\"#47d796\",\"#e8a096\",\"#415596\",\"#afe196\",\"#d82596\",\"#cda996\",\"#8a3696\",\"#806e96\",\"#948396\",\"#e51f96\",\"#3b7f96\",\"#a2ac96\",\"#37a996\",\"#f5e496\",\"#a3c096\",\"#646c96\",\"#a2cd96\",\"#d97496\",\"#f7d096\",\"#9f7996\",\"#577796\",\"#f79e96\",\"#6d2b96\",\"#3a6896\",\"#4e6b96\",\"#643e96\",\"#d5d196\",\"#f06096\",\"#9a7696\",\"#4e5996\",\"#44c396\",\"#c69096\",\"#8fb196\",\"#946796\",\"#ec2796\",\"#f03d96\",\"#497796\",\"#6d9296\",\"#e48a96\",\"#3acf96\",\"#589096\",\"#abcd96\",\"#91bc96\",\"#6b5996\",\"#86cd96\",\"#c98996\",\"#4b4096\",\"#7a8696\",\"#924c96\",\"#cbaf96\",\"#a62096\",\"#b8a196\",\"#a5b996\",\"#852c96\",\"#623196\",\"#bbc696\",\"#ab9a96\",\"#e69c96\",\"#e0d496\",\"#738b96\",\"#afe096\",\"#4e9396\",\"#864296\",\"#b1cf96\",\"#54c196\",\"#359296\",\"#563896\",\"#996e96\",\"#6cd296\",\"#754196\",\"#c2b596\",\"#7d3396\",\"#d0cc96\",\"#a74996\",\"#812296\",\"#a23796\",\"#f55e96\",\"#e8d096\",\"#6d2796\",\"#724596\",\"#77a396\",\"#576196\",\"#d9da96\",\"#cddf96\",\"#d0a896\",\"#8a9196\",\"#f72596\",\"#9e4096\",\"#3b6296\",\"#ee2a96\",\"#5f4396\",\"#949996\",\"#5ad396\",\"#91a696\",\"#e0cd96\",\"#706d96\",\"#c02796\",\"#8d9c96\",\"#de8b96\",\"#953896\",\"#5b8396\",\"#8f5c96\",\"#ca8596\",\"#445d96\",\"#f1d996\",\"#eba996\",\"#e18796\",\"#f29296\",\"#cad496\",\"#d62496\",\"#d7c696\",\"#f2db96\",\"#b76f96\",\"#95cd96\",\"#b4ab96\",\"#deb996\",\"#5a5b96\",\"#5b4b96\",\"#8ca596\",\"#553896\",\"#a19a96\",\"#822d96\",\"#f77c96\",\"#63d096\",\"#9dd396\",\"#688596\",\"#aad596\",\"#b45296\",\"#6fb696\",\"#789c96\",\"#f16d96\",\"#99a496\",\"#dba096\",\"#7b2696\",\"#db8a96\",\"#746496\",\"#65a296\",\"#b56296\",\"#856796\",\"#5db996\",\"#bf8896\",\"#9a7396\",\"#5b7396\",\"#aca696\",\"#b7c496\",\"#507f96\",\"#de2396\",\"#e08a96\",\"#89d896\",\"#6ec596\",\"#50c196\",\"#d45896\",\"#bbb596\",\"#6c9996\",\"#3d2496\",\"#ca8296\",\"#8e7f96\",\"#712d96\",\"#8f4f96\",\"#de9c96\",\"#c1b396\",\"#696596\",\"#ea4896\",\"#f3d496\",\"#5e6a96\",\"#cecb96\",\"#bd6996\",\"#ae4596\",\"#f0d596\",\"#e6dc96\",\"#362896\",\"#997b96\",\"#648d96\",\"#a89296\",\"#613096\",\"#89cf96\",\"#6c5b96\",\"#ebda96\",\"#467a96\",\"#f55a96\",\"#d02d96\",\"#9d3996\",\"#8e4896\",\"#e09896\",\"#8d4096\",\"#84ac96\",\"#a17b96\",\"#949896\",\"#ca3096\",\"#539096\",\"#659f96\",\"#e27096\",\"#d27a96\",\"#804296\",\"#3b6c96\",\"#ef2b96\",\"#a9de96\",\"#f9b696\",\"#468596\",\"#ac9296\",\"#52e296\",\"#5b7f96\",\"#869896\",\"#3d7a96\",\"#d86696\",\"#f1c496\",\"#f98896\",\"#7fde96\",\"#b14d96\",\"#dd6296\",\"#557796\",\"#966896\",\"#49a896\",\"#ad7896\",\"#adce96\",\"#567496\",\"#343696\",\"#d4c096\",\"#6a5d96\",\"#c59196\",\"#d99d96\",\"#d97896\",\"#68b696\",\"#9da496\",\"#4dc296\",\"#cc6596\",\"#7b9996\",\"#ea9296\",\"#c99396\",\"#67b696\",\"#42c796\",\"#569a96\",\"#aac996\",\"#899d96\",\"#602a96\",\"#d0ab96\",\"#c15c96\",\"#9c2c96\",\"#8d7a96\",\"#c9d796\",\"#854096\",\"#a34896\",\"#f54996\",\"#a9c596\",\"#ac4a96\",\"#334c96\",\"#ee6496\",\"#8e3296\",\"#b77496\",\"#40ab96\",\"#d85996\",\"#7d2996\",\"#b8b096\",\"#e63d96\",\"#359c96\",\"#5a3096\",\"#e89196\",\"#dc6c96\",\"#e88f96\",\"#b5e096\",\"#3a2696\",\"#b6a496\",\"#4d7796\",\"#e9e496\",\"#862c96\",\"#814c96\",\"#9f7896\",\"#516496\",\"#46de96\",\"#455996\",\"#c07a96\",\"#758d96\",\"#756e96\",\"#50a096\",\"#a8e496\",\"#878996\",\"#97d996\",\"#44bf96\",\"#384196\",\"#556796\",\"#f42596\",\"#da9f96\",\"#646296\",\"#b5bb96\",\"#afad96\",\"#4fa096\",\"#6f2d96\",\"#396796\",\"#ccd096\",\"#433496\",\"#66d696\",\"#9ebc96\",\"#a9e396\",\"#676d96\",\"#6cc196\",\"#5ed196\",\"#e8c296\",\"#865996\",\"#439d96\",\"#3d2596\",\"#d33596\",\"#a77c96\",\"#acc596\",\"#5bd496\",\"#d72296\",\"#caa696\",\"#3dce96\",\"#576b96\",\"#752296\",\"#df4796\",\"#adba96\",\"#77a996\",\"#b19496\",\"#c1a196\",\"#5f7f96\",\"#679096\",\"#3fa096\",\"#579496\",\"#f05996\",\"#5a8d96\",\"#603696\",\"#ee9196\",\"#a37796\",\"#a83b96\",\"#7d7196\",\"#94cb96\",\"#a1c396\",\"#98e196\",\"#f56096\",\"#3f7f96\",\"#469d96\",\"#843196\",\"#9fe596\",\"#c16396\",\"#6ab596\",\"#c79b96\",\"#eaa696\",\"#aa7a96\",\"#87c296\",\"#a73196\",\"#d78096\",\"#9ec996\",\"#95d696\",\"#8c7e96\",\"#dc3b96\",\"#a4da96\",\"#37c696\",\"#c92096\",\"#3a8796\",\"#613396\",\"#516f96\",\"#6c9496\",\"#a57e96\",\"#e09796\",\"#78ce96\",\"#8e9a96\",\"#69bf96\",\"#8bb296\",\"#46a796\",\"#4b7c96\",\"#574396\",\"#9f6c96\",\"#afca96\",\"#765596\",\"#5fa596\",\"#68a296\",\"#738a96\",\"#f5c396\",\"#691f96\",\"#721f96\",\"#c39096\",\"#583296\",\"#4ed196\",\"#d37e96\",\"#8e8d96\",\"#e52d96\",\"#bf4396\",\"#8ac196\",\"#e84796\",\"#85c096\",\"#89dc96\",\"#df2a96\",\"#6b2796\",\"#802596\",\"#572596\",\"#623a96\",\"#e06b96\",\"#ec4096\",\"#4b1e96\",\"#659996\",\"#3d6196\",\"#899e96\",\"#d63d96\",\"#c82096\",\"#7c3396\",\"#a08c96\",\"#ad1f96\",\"#c8b996\",\"#a57196\",\"#70a196\",\"#35e196\",\"#763b96\",\"#3fe196\",\"#3a2b96\",\"#f1c896\",\"#af2696\",\"#d88796\",\"#75d296\",\"#914996\",\"#e2a296\",\"#a3bf96\",\"#4ebf96\",\"#ab6596\",\"#397b96\",\"#d76d96\",\"#61b096\",\"#648196\",\"#393896\",\"#bb7c96\",\"#cd3796\",\"#f85c96\",\"#394696\",\"#5e6596\",\"#66a696\",\"#f36b96\",\"#ce7a96\",\"#efa596\",\"#e1c896\",\"#b06896\",\"#656296\",\"#3fcf96\",\"#d15b96\",\"#553496\",\"#ca6296\",\"#ae8596\",\"#5c7496\",\"#858696\",\"#c4de96\",\"#eed996\",\"#74bc96\",\"#95a896\",\"#50cf96\",\"#b76396\",\"#b71e96\",\"#b1a296\",\"#832196\",\"#763596\",\"#5e9396\",\"#cb2396\",\"#bf5196\",\"#3b9796\",\"#486f96\",\"#acbd96\",\"#eb5e96\",\"#ee3896\",\"#c68496\",\"#796c96\",\"#d8bc96\",\"#5d2b96\",\"#3d7d96\",\"#d27496\",\"#3ca096\",\"#d48c96\",\"#624a96\",\"#8e6a96\",\"#7b8596\",\"#563196\",\"#d58996\",\"#39ce96\",\"#75aa96\",\"#71d596\",\"#ed3b96\",\"#e3a196\",\"#546996\",\"#c73996\",\"#c9b996\",\"#8ec196\",\"#623496\",\"#d04d96\",\"#4ca596\",\"#5d7596\",\"#9c9a96\",\"#6f9796\",\"#334796\",\"#f1ca96\",\"#6bba96\",\"#803696\",\"#58e196\",\"#9a3396\",\"#555096\",\"#741f96\",\"#6bdb96\",\"#c27e96\",\"#394696\",\"#476596\",\"#ad2996\",\"#38ac96\",\"#6de096\",\"#45d096\",\"#ea6396\",\"#35e196\",\"#36c396\",\"#a7bc96\",\"#544f96\",\"#bb4096\",\"#c1a896\",\"#d8ab96\",\"#b37e96\",\"#705296\",\"#b52a96\",\"#98cd96\",\"#36b096\",\"#8c5896\",\"#9dc396\",\"#7c3996\",\"#dc7c96\",\"#62e596\",\"#a08e96\",\"#e2a696\",\"#a6b496\",\"#496896\",\"#e93096\",\"#b54996\",\"#cb5f96\",\"#f92c96\",\"#98a296\",\"#f5e196\",\"#4fd296\",\"#f82296\",\"#83c696\",\"#946396\",\"#cd6d96\",\"#3b7496\",\"#98b196\",\"#577996\",\"#382696\",\"#d8d596\",\"#ae4296\",\"#b48e96\",\"#b56d96\",\"#4bdc96\",\"#747896\",\"#592296\",\"#b77496\",\"#8a7096\",\"#397f96\",\"#377596\",\"#de9b96\",\"#688796\",\"#e76a96\",\"#8d5e96\",\"#7cd196\",\"#43c396\",\"#994296\",\"#996296\",\"#42dc96\",\"#6e8896\",\"#ce2096\",\"#58ca96\",\"#979596\",\"#b0b196\",\"#a1aa96\",\"#b84496\",\"#7f3c96\",\"#c76896\",\"#e53c96\",\"#3fdc96\",\"#92ca96\",\"#36e096\",\"#9bc396\",\"#8e1e96\",\"#5a5b96\",\"#354c96\",\"#d5cd96\",\"#be5196\",\"#d7a496\",\"#6c5696\",\"#39cd96\",\"#6d9696\",\"#893d96\",\"#33ac96\",\"#453896\",\"#8f4596\",\"#ad2096\",\"#377596\",\"#6fb796\",\"#77e396\",\"#559e96\",\"#76a396\",\"#b14096\",\"#574396\",\"#e7e496\",\"#6a3896\",\"#f32396\",\"#a7ae96\",\"#6f8c96\",\"#498896\",\"#ce6396\",\"#d58096\",\"#b47796\",\"#371f96\",\"#d0d796\",\"#939596\",\"#cb3896\",\"#646b96\",\"#6ce296\",\"#a18696\",\"#98b596\",\"#458696\",\"#b35c96\",\"#5c3996\",\"#687d96\",\"#87d496\",\"#e86396\",\"#56bc96\",\"#f2c096\",\"#7bb096\",\"#bfc996\",\"#3bcc96\",\"#614596\",\"#d61f96\",\"#979f96\",\"#bb9496\",\"#b54c96\",\"#3ab496\",\"#91a196\",\"#389096\",\"#453a96\",\"#912196\",\"#df9696\",\"#724896\",\"#c88996\",\"#bd2a96\",\"#97b796\",\"#ba5596\",\"#343896\",\"#e27896\",\"#803b96\",\"#6ca296\",\"#af4796\",\"#a42d96\",\"#66d996\",\"#6cc496\",\"#86d196\",\"#b2b596\",\"#43b696\",\"#852096\",\"#d2e596\",\"#ecdb96\",\"#a02196\",\"#763796\",\"#d07496\",\"#37d196\",\"#a6c196\",\"#54a996\",\"#407296\",\"#cb3796\",\"#562596\",\"#cfb296\",\"#76d396\",\"#c57e96\",\"#79aa96\",\"#cd4096\",\"#e38796\",\"#d0a196\",\"#7ecb96\",\"#845e96\",\"#5c5e96\",\"#a68396\",\"#efa996\",\"#e9c596\",\"#9f7b96\",\"#c83596\",\"#eb4396\",\"#879996\",\"#f2d596\",\"#aa3796\",\"#862b96\",\"#e8ae96\",\"#e46996\",\"#367b96\",\"#e6c396\",\"#755296\",\"#5f2396\",\"#863f96\",\"#afdb96\",\"#4e5696\",\"#f32a96\",\"#b1a296\",\"#c0a096\",\"#e9ca96\",\"#a2a796\",\"#b0df96\",\"#654896\",\"#438596\",\"#796b96\",\"#87ba96\",\"#d3d696\",\"#3ebf96\",\"#678996\",\"#a65e96\",\"#5a8f96\",\"#787c96\",\"#ce8396\",\"#ae9d96\",\"#e02396\",\"#702896\",\"#f5b996\",\"#932296\",\"#a15696\",\"#dd5c96\",\"#7fb696\",\"#454796\",\"#f15196\",\"#603b96\",\"#e35596\",\"#6baf96\",\"#b02b96\",\"#4f9a96\",\"#5c2e96\",\"#49b796\",\"#89a096\",\"#e0b996\",\"#589d96\",\"#eebc96\",\"#94a396\",\"#54cd96\",\"#74dc96\",\"#d15496\",\"#66be96\",\"#87c896\",\"#ee4d96\",\"#4a6b96\",\"#45a496\",\"#f17c96\",\"#46ce96\",\"#5d8396\",\"#54b196\",\"#ead896\",\"#779c96\",\"#cabc96\",\"#f56696\",\"#443696\",\"#526a96\",\"#c4e596\",\"#a1b196\",\"#514996\",\"#e16696\",\"#3d6196\",\"#944e96\",\"#cbcd96\",\"#c69096\",\"#402c96\",\"#9c9696\",\"#3e5996\",\"#374996\",\"#c0bc96\",\"#398e96\",\"#b68f96\",\"#47ad96\",\"#38cd96\",\"#ea7196\",\"#cea196\",\"#589796\",\"#719496\",\"#6fa196\",\"#bb9d96\",\"#812796\",\"#9c5096\",\"#824296\",\"#f18a96\",\"#53d196\",\"#c83596\",\"#bf3d96\",\"#e13196\",\"#427c96\",\"#51d096\",\"#df9696\",\"#3b8096\",\"#36ca96\",\"#dd1e96\",\"#82dd96\",\"#efd696\",\"#ddcb96\",\"#517196\",\"#86c596\",\"#7ed996\",\"#67c096\",\"#675396\",\"#986096\",\"#6ebd96\",\"#644b96\",\"#9cbf96\",\"#4c8296\",\"#5e2096\",\"#858896\",\"#c79f96\",\"#f09f96\",\"#7e9496\",\"#e42f96\",\"#6bc496\",\"#e98696\",\"#515f96\",\"#df7c96\",\"#db2c96\",\"#a57a96\",\"#4b3896\",\"#ac8296\",\"#dabb96\",\"#f7c096\",\"#df3396\",\"#aa4196\",\"#cc7c96\",\"#32ad96\",\"#b0de96\",\"#c58296\",\"#3fc496\",\"#4f7a96\",\"#665196\",\"#9cb696\",\"#d6b796\",\"#b8be96\",\"#617796\",\"#3e3a96\",\"#9bdc96\",\"#b3c596\",\"#9bb496\",\"#3a5796\",\"#9dd696\",\"#392296\",\"#c33c96\",\"#634d96\",\"#a47296\",\"#ec5296\",\"#eec196\",\"#7c4996\",\"#f4db96\",\"#622996\",\"#428596\",\"#c95c96\",\"#472596\",\"#c9a096\",\"#eab696\",\"#a26e96\",\"#9ddc96\",\"#e67196\",\"#3a9596\",\"#456996\",\"#ad3c96\",\"#e0bd96\",\"#f04b96\",\"#766696\",\"#b76796\",\"#ddca96\",\"#c9dc96\",\"#be2696\",\"#bfcd96\",\"#396e96\",\"#9b7596\",\"#d06796\",\"#6d7596\",\"#399d96\",\"#add196\",\"#4b6d96\",\"#77c496\",\"#7cd396\",\"#cf2796\",\"#39cd96\",\"#3ab296\",\"#8d4c96\",\"#763c96\",\"#872e96\",\"#cfb896\",\"#a8c796\",\"#e46e96\",\"#989b96\",\"#5a7296\",\"#77aa96\",\"#45d096\",\"#e83296\",\"#d63296\",\"#f37e96\",\"#a34d96\",\"#581e96\",\"#758796\",\"#915b96\",\"#c33496\",\"#482396\",\"#5e8296\",\"#4ccf96\",\"#392396\",\"#ce5a96\",\"#5f8c96\",\"#b57996\",\"#4a5196\",\"#d08396\",\"#40d896\",\"#9fca96\",\"#cc7c96\",\"#438296\",\"#648996\",\"#7b9496\",\"#cec096\",\"#5ea996\",\"#bdb796\",\"#9a9a96\",\"#de6696\",\"#95b296\",\"#582496\",\"#93ab96\",\"#3bd996\",\"#b01f96\",\"#d33f96\",\"#9a7d96\",\"#854b96\",\"#d88696\",\"#911e96\",\"#4e2396\",\"#5c6a96\",\"#a26a96\",\"#929096\",\"#5b3a96\",\"#bec196\",\"#e47596\",\"#9a7c96\",\"#f1d496\",\"#5c8196\",\"#9b8a96\",\"#b5b496\",\"#4b6f96\",\"#656a96\",\"#9b9296\",\"#b08096\",\"#dc6596\",\"#c69b96\",\"#d56996\",\"#73d696\",\"#e95696\",\"#693d96\",\"#828a96\",\"#96a796\",\"#f6a096\",\"#d4c596\",\"#461f96\",\"#eaa396\",\"#835396\",\"#434e96\",\"#538896\",\"#745a96\",\"#5fd796\",\"#ba5996\",\"#5d4396\",\"#7d8696\",\"#5d6e96\",\"#d46c96\",\"#e69a96\",\"#9b6196\",\"#3ed796\",\"#bdcd96\",\"#cebb96\",\"#cf4196\",\"#81c596\",\"#883a96\",\"#a87296\",\"#4caa96\",\"#426896\",\"#569596\",\"#772796\",\"#934396\",\"#efbc96\",\"#f85796\",\"#d85096\",\"#d2dd96\",\"#a7d896\",\"#f2b096\",\"#928396\",\"#5c9596\",\"#aea896\",\"#6f8796\",\"#45c096\",\"#345396\",\"#c7da96\",\"#54a196\",\"#42c496\",\"#473496\",\"#684296\",\"#ab5b96\",\"#70bd96\",\"#70d096\",\"#72d596\",\"#77ca96\",\"#b43096\",\"#cacc96\",\"#9cdc96\",\"#622996\",\"#975c96\",\"#593796\",\"#88c396\",\"#624d96\",\"#622896\",\"#bf9196\",\"#81d596\",\"#623496\",\"#378e96\",\"#c3bd96\",\"#c89296\",\"#dc7f96\",\"#653596\",\"#366b96\",\"#458396\",\"#8b7a96\",\"#9fa196\",\"#e37796\",\"#cabf96\",\"#9aae96\",\"#568096\",\"#f73996\",\"#4a2b96\",\"#e09796\",\"#c4e296\",\"#c5e296\",\"#5e7396\",\"#b09396\",\"#a45b96\",\"#d63a96\",\"#aa2496\",\"#8c9c96\",\"#3e2b96\",\"#e84696\",\"#81bb96\",\"#ad3d96\",\"#9f4b96\",\"#9a3996\",\"#586e96\",\"#60ba96\",\"#76d696\",\"#56c396\",\"#dd3596\",\"#eb5196\",\"#be2a96\",\"#aea696\",\"#f5a196\",\"#724a96\",\"#c67896\",\"#95c796\",\"#b35b96\",\"#8a5996\",\"#e33596\",\"#888796\",\"#3da896\",\"#cc9196\",\"#d4c896\",\"#c72796\",\"#963e96\",\"#f95596\",\"#acc096\",\"#8de096\",\"#952a96\",\"#6e3096\",\"#f9ce96\",\"#3d9e96\",\"#945e96\",\"#f75696\",\"#889c96\",\"#712696\",\"#585396\",\"#e73c96\",\"#61a996\",\"#b6b096\",\"#edda96\",\"#776096\",\"#d4c596\",\"#a79396\",\"#9d3a96\",\"#ebd796\",\"#5f3b96\",\"#4cd896\",\"#509196\",\"#553496\",\"#489c96\",\"#749196\",\"#459b96\",\"#622596\",\"#c68a96\",\"#663396\",\"#387a96\",\"#54b696\",\"#826f96\",\"#6be296\",\"#9be296\",\"#dd7096\",\"#c74996\",\"#f65796\",\"#c29596\",\"#9db496\",\"#ce5b96\",\"#a62f96\",\"#65e296\",\"#946396\",\"#57b296\",\"#67d196\",\"#c47896\",\"#81e496\",\"#c47696\",\"#863d96\",\"#aa8496\",\"#325196\",\"#386b96\",\"#3d6596\",\"#959096\",\"#6ba296\",\"#f5e096\",\"#b4b696\",\"#ca7b96\",\"#f47f96\",\"#741e96\",\"#afdc96\",\"#4c4196\",\"#f12496\",\"#db5a96\",\"#485796\",\"#6c6296\",\"#abb496\",\"#792a96\",\"#ef5296\",\"#9e6d96\",\"#438e96\",\"#c9b296\",\"#989796\",\"#ba9c96\",\"#d12096\",\"#6b8096\",\"#6e5b96\",\"#76a296\",\"#ad9396\",\"#4b4f96\",\"#503d96\",\"#b59596\",\"#d1d996\",\"#588d96\",\"#4f5096\",\"#a35c96\",\"#55b996\",\"#702396\",\"#93a896\",\"#4ddf96\",\"#c48996\",\"#d27396\",\"#996f96\",\"#e1dd96\",\"#d05796\",\"#638896\",\"#5da796\",\"#f78196\",\"#e66396\",\"#a17496\",\"#822796\",\"#7d9996\",\"#a44296\",\"#db8596\",\"#c75096\",\"#326f96\",\"#464096\",\"#9b7896\",\"#806296\",\"#f63896\",\"#cdaa96\",\"#842196\",\"#798e96\",\"#ec8696\",\"#5e2996\",\"#c2e296\",\"#333996\",\"#9fe396\",\"#ab8b96\",\"#35cf96\",\"#f3dc96\",\"#50d096\",\"#406396\",\"#563b96\",\"#d57c96\",\"#c1c896\",\"#e52496\",\"#e45b96\",\"#f98d96\",\"#a63196\",\"#b52e96\",\"#499296\",\"#988496\",\"#5f1e96\",\"#658196\",\"#b95896\",\"#a4d996\",\"#adcd96\",\"#732196\",\"#662e96\",\"#9f3d96\",\"#aace96\",\"#6d9796\",\"#7d8696\",\"#742896\",\"#dbc696\",\"#be8396\",\"#546c96\",\"#38db96\",\"#bf8196\",\"#ac9a96\",\"#88b996\",\"#dfe496\",\"#8da096\",\"#78b496\",\"#6b9496\",\"#9a2296\",\"#ddae96\",\"#71aa96\",\"#5d5896\",\"#4fc096\",\"#7e5e96\",\"#5b8b96\",\"#a7a696\",\"#f4ca96\",\"#719396\",\"#a8c896\",\"#394096\",\"#f44896\",\"#5b2c96\",\"#c9a096\",\"#9bb596\",\"#917896\",\"#e62f96\",\"#5a4396\",\"#917e96\",\"#c9ca96\",\"#a0ad96\",\"#ee2096\",\"#3e5c96\",\"#df8d96\",\"#5f9996\",\"#839e96\",\"#385c96\",\"#593696\",\"#884f96\",\"#32b996\",\"#a79d96\",\"#cfcd96\",\"#e79096\",\"#efbb96\",\"#d3c696\",\"#f4bf96\",\"#a86696\",\"#dd4a96\",\"#aacb96\",\"#b7a896\",\"#ecad96\",\"#778d96\",\"#48c196\",\"#978696\",\"#edce96\",\"#553396\",\"#65d096\",\"#9e8796\",\"#c48796\",\"#ba5f96\",\"#dbd296\",\"#3c3396\",\"#b59f96\",\"#c87a96\",\"#88b796\",\"#bfa996\",\"#f13696\",\"#65ab96\",\"#e44996\",\"#542396\",\"#89b596\",\"#458196\",\"#ac6c96\",\"#4c3e96\",\"#8a8796\",\"#93a796\",\"#793a96\",\"#39cf96\",\"#49df96\",\"#b36796\",\"#8e7096\",\"#f02996\",\"#a2ad96\",\"#8cac96\",\"#982996\",\"#677e96\",\"#ba3c96\",\"#f87b96\",\"#59b196\",\"#c09896\",\"#576f96\",\"#5f3196\",\"#a16f96\",\"#b6e596\",\"#a72696\",\"#b84096\",\"#ab7396\",\"#4bcb96\",\"#ea2c96\",\"#f88996\",\"#d13e96\",\"#f09e96\",\"#f32096\",\"#d56696\",\"#6d2196\",\"#402896\",\"#ecd796\",\"#553096\",\"#e3a296\",\"#e55f96\",\"#78bd96\",\"#6d9096\",\"#7c9396\",\"#a56d96\",\"#a8ae96\",\"#3bb496\",\"#482f96\",\"#963396\",\"#9ae496\",\"#c3dc96\",\"#836296\",\"#973a96\",\"#b2d896\",\"#8c5296\",\"#d36696\",\"#3a6196\",\"#dd9596\",\"#d93c96\",\"#e43c96\",\"#e4b696\",\"#3b6a96\",\"#a52396\",\"#61ce96\",\"#3da796\",\"#bfcc96\",\"#69a396\",\"#df6c96\",\"#34c596\",\"#a04396\",\"#90bc96\",\"#4da096\",\"#4a9d96\",\"#cc4996\",\"#678e96\",\"#d62496\",\"#cc2a96\",\"#d83d96\",\"#5a8f96\",\"#a0c096\",\"#b53e96\",\"#d42f96\",\"#b3b696\",\"#539596\",\"#815096\",\"#e8dc96\",\"#f49d96\",\"#d8a896\",\"#f13696\",\"#7c5d96\",\"#80ba96\",\"#503b96\",\"#819a96\",\"#8c6a96\",\"#3d5d96\",\"#3a5f96\",\"#f62696\",\"#752896\",\"#4fe296\",\"#c87696\",\"#359496\",\"#de7d96\",\"#812c96\",\"#e6e296\",\"#599196\",\"#b1ac96\",\"#e6db96\",\"#3e6296\",\"#e53996\",\"#b98996\",\"#bd3296\",\"#ab7696\",\"#8bd596\",\"#f48a96\",\"#3e7c96\",\"#48e496\",\"#cabf96\",\"#698396\",\"#8d6296\",\"#d53796\",\"#535e96\",\"#d99796\",\"#763396\",\"#7f2396\",\"#65d196\",\"#f47f96\",\"#c3af96\",\"#e25196\",\"#cde496\",\"#f9e296\",\"#cdc296\",\"#a22996\",\"#f5a196\",\"#c3e596\",\"#559b96\",\"#79b396\",\"#af8e96\",\"#862596\",\"#463b96\",\"#d86496\",\"#9aca96\",\"#40bc96\",\"#35b196\",\"#b23096\",\"#d47296\",\"#622f96\",\"#359d96\",\"#913e96\",\"#efde96\",\"#aebd96\",\"#8d6996\",\"#884b96\",\"#36e196\",\"#798c96\",\"#803696\",\"#6d7296\",\"#af4d96\",\"#f83f96\",\"#a0ad96\",\"#ea7596\",\"#a09a96\",\"#408d96\",\"#ab1e96\",\"#34a996\",\"#553f96\",\"#f32696\",\"#9aa996\",\"#63ce96\",\"#44b996\",\"#b63a96\",\"#b3c696\",\"#467b96\",\"#862996\",\"#796496\",\"#7da096\",\"#d82096\",\"#39ae96\",\"#efd696\",\"#885096\",\"#38d796\",\"#e03696\",\"#d99596\",\"#bf7e96\",\"#925e96\",\"#3e4596\",\"#755096\",\"#6dc696\",\"#b69396\",\"#a0b996\",\"#c99a96\",\"#433396\",\"#e0c796\",\"#32c696\",\"#914396\",\"#a24096\",\"#df6096\",\"#4e8a96\",\"#5e8296\",\"#48e596\",\"#da6996\",\"#719d96\",\"#b94e96\",\"#7cc396\",\"#cae596\",\"#ead996\",\"#338e96\",\"#f57c96\",\"#587696\",\"#7f8896\",\"#b66096\",\"#596096\",\"#504596\",\"#92d696\",\"#d5e196\",\"#5ab496\",\"#983396\",\"#ec2a96\",\"#98c896\",\"#c46096\",\"#602c96\",\"#d57196\",\"#662296\",\"#a4e596\",\"#a2b496\",\"#b1db96\",\"#4e3496\",\"#857596\",\"#379d96\",\"#742496\",\"#c25596\",\"#efe496\",\"#a4cc96\",\"#709c96\",\"#d2e296\",\"#f86296\",\"#e52096\",\"#718296\",\"#968a96\",\"#56d396\",\"#ec8196\",\"#53af96\",\"#cc8496\",\"#66d196\",\"#a8d796\",\"#a64296\",\"#962c96\",\"#834f96\",\"#357596\",\"#bdb596\",\"#6a9996\",\"#ceda96\",\"#568c96\",\"#6b8096\",\"#6abb96\",\"#379096\",\"#328d96\",\"#b7d596\",\"#c4c196\",\"#e24996\",\"#623496\",\"#b74d96\",\"#ceb896\",\"#40bd96\",\"#557b96\",\"#bb6b96\",\"#f32896\",\"#51ad96\",\"#4dae96\",\"#dd9b96\",\"#b97b96\",\"#e92b96\",\"#9b7b96\",\"#96ba96\",\"#b62996\",\"#4e2496\",\"#bf4996\",\"#e07696\",\"#8ac496\",\"#3c2696\",\"#6f6796\",\"#a79796\",\"#9d7b96\",\"#e23d96\",\"#dade96\",\"#e1b196\",\"#91e396\",\"#88ae96\",\"#5dbd96\",\"#cc3396\",\"#e2da96\",\"#f1b896\",\"#eb9b96\",\"#a0ae96\",\"#eeb096\",\"#902c96\",\"#e55a96\",\"#34a396\",\"#7c4e96\",\"#ed3996\",\"#932796\",\"#b06d96\",\"#f22d96\",\"#9caa96\",\"#e95096\",\"#dd6396\",\"#b9db96\",\"#f09b96\",\"#5f6f96\",\"#518b96\",\"#c4d596\",\"#9ea496\",\"#4b4996\",\"#387896\",\"#599e96\",\"#b46596\",\"#beae96\",\"#92e096\",\"#f6a496\",\"#52d496\",\"#66b196\",\"#96bd96\",\"#b22796\",\"#3f7196\",\"#a43196\",\"#ea4896\",\"#aacd96\",\"#756e96\",\"#861f96\",\"#a76296\",\"#c25f96\",\"#988d96\",\"#889a96\",\"#f5b996\",\"#39b896\",\"#368c96\",\"#625296\",\"#383496\",\"#927796\",\"#c92996\",\"#a4bc96\",\"#ec6196\",\"#5c2396\",\"#975b96\",\"#d74d96\",\"#8d4096\",\"#426596\",\"#5a4796\",\"#497b96\",\"#ada396\",\"#c7ab96\",\"#a36796\",\"#946796\",\"#959496\",\"#bd3096\",\"#79a696\",\"#c83696\",\"#d7b696\",\"#d2a796\",\"#39a596\",\"#558896\",\"#ddc596\",\"#f62896\",\"#64d896\",\"#52af96\",\"#8c7a96\",\"#ca5596\",\"#3de196\",\"#f75e96\",\"#d56096\",\"#6c8596\",\"#632d96\",\"#a32396\",\"#516796\",\"#33b196\",\"#eb7c96\",\"#a16b96\",\"#bbdc96\",\"#717496\",\"#909196\",\"#d6ba96\",\"#e3d796\",\"#e24096\",\"#403296\",\"#68b196\",\"#4aa996\",\"#d7aa96\",\"#a4b796\",\"#e66696\",\"#7d2b96\",\"#345b96\",\"#9b6096\",\"#a7aa96\",\"#e65296\",\"#829196\",\"#d6b496\",\"#a74996\",\"#a91f96\",\"#96c896\",\"#472496\",\"#778896\",\"#72cc96\",\"#4fa396\",\"#cc3296\",\"#479b96\",\"#ec2296\",\"#f45b96\",\"#ee6f96\",\"#5c8996\",\"#8fa896\",\"#b6d096\",\"#9e5296\",\"#4dc896\",\"#a9d496\",\"#5a6f96\",\"#369696\",\"#9d6896\",\"#3ac796\",\"#89a996\",\"#ca4696\",\"#8c9096\",\"#955396\",\"#4c9b96\",\"#d18996\",\"#5e2596\",\"#68d896\",\"#34ba96\",\"#dca196\",\"#993796\",\"#957d96\",\"#a42a96\",\"#bdaa96\",\"#9d2a96\",\"#e5de96\",\"#cc9696\",\"#507696\",\"#e75396\",\"#79d896\",\"#d23a96\",\"#cf2c96\",\"#879996\",\"#349696\",\"#bd4096\",\"#a44f96\",\"#a57f96\",\"#5c2396\",\"#798296\",\"#6ead96\",\"#ef9996\",\"#8c9296\",\"#c3a496\",\"#d7a196\",\"#404196\",\"#bc8b96\",\"#d43f96\",\"#97cd96\",\"#448696\",\"#eccf96\",\"#9ae396\",\"#f25896\",\"#509496\",\"#8e8c96\",\"#61c696\",\"#499396\",\"#6fc296\",\"#d89c96\",\"#c73d96\",\"#656096\",\"#9fe296\",\"#597f96\",\"#f33796\",\"#465e96\",\"#389696\",\"#f2e196\",\"#ec4896\",\"#f06996\",\"#587a96\",\"#4bc496\",\"#e22d96\",\"#646996\",\"#d64196\",\"#a39196\",\"#4f6a96\",\"#d63596\",\"#a89096\",\"#8c1f96\",\"#7c4896\",\"#9b7396\",\"#54bd96\",\"#565296\",\"#f5df96\",\"#f99c96\",\"#a1ae96\",\"#94c496\",\"#4ea496\",\"#f5e196\",\"#76df96\",\"#9caf96\",\"#84ca96\",\"#f4af96\",\"#ed2a96\",\"#e62a96\",\"#de6b96\",\"#97e396\",\"#a66896\",\"#356e96\",\"#a0e096\",\"#742f96\",\"#e37196\",\"#48de96\",\"#e48a96\",\"#b46b96\",\"#8f9196\",\"#3f2c96\",\"#7de196\",\"#5fe196\",\"#ee4396\",\"#3b8696\",\"#b23d96\",\"#664396\",\"#9faa96\",\"#ce3296\",\"#477096\",\"#d5a796\",\"#eaa696\",\"#792596\",\"#6fd896\",\"#654596\",\"#debe96\",\"#987296\",\"#d83c96\",\"#478896\",\"#6e9296\",\"#a67796\",\"#657296\",\"#af8296\",\"#f2c596\",\"#c62c96\",\"#c66d96\",\"#927596\",\"#678696\",\"#e69996\",\"#8d5296\",\"#f17f96\",\"#d3ad96\",\"#cfdb96\",\"#528f96\",\"#c1e496\",\"#409496\",\"#39a596\",\"#de4d96\",\"#724396\",\"#33b496\",\"#ac6996\",\"#a96e96\",\"#a13196\",\"#dcd596\",\"#cdb796\",\"#5fd296\",\"#d6a796\",\"#e96996\",\"#9d8c96\",\"#b5dc96\",\"#6f7e96\",\"#5b5996\",\"#549e96\",\"#a57d96\",\"#9f6c96\",\"#686096\",\"#658f96\",\"#bb6f96\",\"#b8d596\",\"#68dd96\",\"#486896\",\"#a39d96\",\"#9c9796\",\"#5f2596\",\"#905b96\",\"#912b96\",\"#5bc596\",\"#a1a196\",\"#b84896\",\"#9c4a96\",\"#b53a96\",\"#9f7e96\",\"#aa6096\",\"#cee596\",\"#cedd96\",\"#7dcc96\",\"#4d4d96\",\"#69b296\",\"#4ecd96\",\"#bfca96\",\"#635296\",\"#f4d596\",\"#85e196\",\"#5ead96\",\"#51e496\",\"#d73f96\",\"#653196\",\"#d15096\",\"#c66796\",\"#b3e496\",\"#662696\",\"#d7e496\",\"#336f96\",\"#487996\",\"#5bc496\",\"#379196\",\"#e37596\",\"#f4b996\",\"#f09596\",\"#656896\",\"#843696\",\"#b2d396\",\"#d66896\",\"#e03796\",\"#3e3996\",\"#a86496\",\"#689596\",\"#539096\",\"#718396\",\"#606096\",\"#d68196\",\"#9abb96\",\"#e15596\",\"#cf6496\",\"#41a796\",\"#a95196\",\"#b05796\",\"#8b8d96\",\"#3a4e96\",\"#bc8596\",\"#898096\",\"#9c8196\",\"#75a896\",\"#c5b296\",\"#8b4296\",\"#3e5596\",\"#ef9a96\",\"#f44796\",\"#60cc96\",\"#8caf96\",\"#5d9b96\",\"#662696\",\"#435f96\",\"#4d6796\",\"#e13196\",\"#406096\",\"#713a96\",\"#572896\",\"#687c96\",\"#f0ae96\",\"#613a96\",\"#3b7e96\",\"#f77296\",\"#af4a96\",\"#97a896\",\"#83c696\",\"#44c096\",\"#e6a496\",\"#396196\",\"#ad2a96\",\"#579796\",\"#b7bd96\",\"#efa796\",\"#5cc596\",\"#99ad96\",\"#66a596\",\"#b17696\",\"#f59996\",\"#c3a096\",\"#db2b96\",\"#866a96\",\"#eb9196\",\"#d92f96\",\"#3e4d96\",\"#f97196\",\"#957296\",\"#948a96\",\"#836d96\",\"#6ccb96\",\"#d13996\",\"#93d596\",\"#dc5f96\",\"#543a96\",\"#d1b496\",\"#e4de96\",\"#a7c196\",\"#928596\",\"#cd4896\",\"#b9da96\",\"#e44296\",\"#6ee396\",\"#b41f96\",\"#714296\",\"#c4b296\",\"#a68396\",\"#c05796\",\"#a7b996\",\"#be9f96\",\"#e9c396\",\"#83d696\",\"#b76996\",\"#e27e96\",\"#39b496\",\"#e2b696\",\"#bc4f96\",\"#cddd96\",\"#d13d96\",\"#bebe96\",\"#524c96\",\"#bba496\",\"#5f7a96\",\"#cebe96\",\"#98d496\",\"#579f96\",\"#403096\",\"#dd7596\",\"#637096\",\"#c9de96\",\"#4a4096\",\"#ad9596\",\"#9d4b96\",\"#f33f96\",\"#a69196\",\"#43d996\",\"#bf8b96\",\"#a11e96\",\"#f78c96\",\"#3c8996\",\"#609596\",\"#f68496\",\"#9bca96\",\"#cf4696\",\"#c24096\",\"#8f9696\",\"#ba2896\",\"#e3ae96\",\"#80c896\",\"#504496\",\"#40bc96\",\"#48b896\",\"#ca6d96\",\"#e95d96\",\"#e32d96\",\"#61bb96\",\"#ea8a96\",\"#af2196\",\"#e14396\",\"#7b4e96\",\"#c01f96\",\"#637796\",\"#783196\",\"#9a3796\",\"#7a3596\",\"#914e96\",\"#8f8396\",\"#d13f96\",\"#348a96\",\"#dc7996\",\"#608e96\",\"#dd5c96\",\"#579c96\",\"#c87996\",\"#998196\",\"#5da396\",\"#932296\",\"#3cb396\",\"#344596\",\"#dc5996\",\"#e1b696\",\"#e87096\",\"#353f96\",\"#6bb196\",\"#633196\",\"#e3e396\",\"#bb2e96\",\"#f49b96\",\"#79b096\",\"#91cc96\",\"#da2696\",\"#7dcd96\",\"#5c6d96\",\"#808d96\",\"#9ad596\",\"#386796\",\"#b5e496\",\"#a2b996\",\"#62dd96\",\"#f9a696\",\"#394a96\",\"#3d9d96\",\"#482096\",\"#556096\",\"#a43796\",\"#ec5596\",\"#e3be96\",\"#9ebb96\",\"#a9b696\",\"#664d96\",\"#be7e96\",\"#918596\",\"#8ccf96\",\"#dda096\",\"#a82896\",\"#84e096\",\"#c1a096\",\"#a66296\",\"#8ebb96\",\"#b6d596\",\"#7ce596\",\"#553496\",\"#e81e96\",\"#c8be96\",\"#e83b96\",\"#398696\",\"#4c6596\",\"#b7a796\",\"#449d96\",\"#55dd96\",\"#e3ba96\",\"#5eca96\",\"#412d96\",\"#b1c596\",\"#c17d96\",\"#77cb96\",\"#3a8f96\",\"#64ae96\",\"#63a796\",\"#926f96\",\"#b67596\",\"#74d996\",\"#6b6b96\",\"#73d496\",\"#7c1e96\",\"#53a596\",\"#a0c896\",\"#8e3496\",\"#365d96\",\"#3c7496\",\"#cabd96\",\"#85bd96\",\"#48bf96\",\"#ae6996\",\"#ecb196\",\"#74b796\",\"#dd5e96\",\"#96d196\",\"#799b96\",\"#5b8c96\",\"#489b96\",\"#d96f96\",\"#b6a496\",\"#5b4696\",\"#d9a296\",\"#90ba96\",\"#c35a96\",\"#a6d196\",\"#4c8e96\",\"#c43796\",\"#40de96\",\"#8e9296\",\"#c1ad96\",\"#61a896\",\"#b63496\",\"#e82996\",\"#9e9d96\",\"#587496\",\"#743c96\",\"#698296\",\"#3f4296\",\"#604796\",\"#718a96\",\"#cfc296\",\"#738c96\",\"#41d896\",\"#94a296\",\"#905396\",\"#709e96\",\"#d4db96\",\"#8c9796\",\"#e6a696\",\"#898096\",\"#a5c496\",\"#b15896\",\"#4fd896\",\"#f4d996\",\"#3f9396\",\"#719096\",\"#85b996\",\"#554d96\",\"#e99996\",\"#407496\",\"#80ae96\",\"#9a3796\",\"#5ad096\",\"#725496\",\"#633d96\",\"#7d7896\",\"#7c6696\",\"#a86f96\",\"#4a9396\",\"#d35e96\",\"#7f2596\",\"#cda496\",\"#dbb196\",\"#dbd896\",\"#3dc496\",\"#dbd596\",\"#5fe596\",\"#34cc96\",\"#82a896\",\"#9e3b96\",\"#4ac996\",\"#f43b96\",\"#af9096\",\"#84dd96\",\"#f4cd96\",\"#ddca96\",\"#c2d896\",\"#772896\",\"#ce5696\",\"#ca6c96\",\"#dd6196\",\"#b1cf96\",\"#412396\",\"#a36596\",\"#667896\",\"#a63c96\",\"#a42d96\",\"#544c96\",\"#983096\",\"#b82b96\",\"#f26696\",\"#73a196\",\"#98d696\",\"#b87696\",\"#427e96\",\"#462c96\",\"#c3b596\",\"#9fab96\",\"#916f96\",\"#42cf96\",\"#dada96\",\"#e49596\",\"#df5296\",\"#ba6196\",\"#3be396\",\"#4e7896\",\"#cc7e96\",\"#bf8c96\",\"#684596\",\"#db9b96\",\"#ebaf96\",\"#5cbe96\",\"#a65696\",\"#4fc896\",\"#7bb096\",\"#65b896\",\"#69d896\",\"#b3be96\",\"#84d896\",\"#88c696\",\"#865796\",\"#616d96\",\"#442c96\",\"#623696\",\"#c59f96\",\"#dabe96\",\"#c93296\",\"#7a6796\",\"#ed4796\",\"#cca396\",\"#e86f96\",\"#455696\",\"#4f2096\",\"#846596\",\"#41d296\",\"#f85196\",\"#da4d96\",\"#d98296\",\"#885a96\",\"#39c596\",\"#d89196\",\"#6eb996\",\"#c99b96\",\"#582896\",\"#949296\",\"#32c596\",\"#f34996\",\"#5fc196\",\"#708596\",\"#89d496\",\"#f0dc96\",\"#6a1f96\",\"#dbcb96\",\"#f95096\",\"#f0b396\",\"#731f96\",\"#484a96\",\"#bd3d96\",\"#399196\",\"#7cdc96\",\"#384d96\",\"#d24a96\",\"#a16096\",\"#38a296\",\"#db6296\",\"#4c5396\",\"#83c396\",\"#c6a396\",\"#b28896\",\"#bb7e96\",\"#572d96\",\"#ccc396\",\"#e57196\",\"#cf2b96\",\"#d08e96\",\"#39bf96\",\"#6b9296\",\"#6c5d96\",\"#6ecb96\",\"#336f96\",\"#ebb096\",\"#32b196\",\"#a85696\",\"#755496\",\"#de9c96\",\"#36d596\",\"#e3b796\",\"#4bd996\",\"#6c7196\",\"#7c3096\",\"#d94f96\",\"#583696\",\"#c2ae96\",\"#5c8796\",\"#b3bb96\",\"#927996\",\"#35d796\",\"#964296\",\"#a9bb96\",\"#d82796\",\"#f6dd96\",\"#62a296\",\"#d18796\",\"#774196\",\"#aa7f96\",\"#9c8696\",\"#a6c996\",\"#5ae096\",\"#816a96\",\"#93b896\",\"#c37896\",\"#ba2296\",\"#97ab96\",\"#44b296\",\"#382a96\",\"#88dd96\",\"#6ce396\",\"#a5c096\",\"#b67096\",\"#5a3a96\",\"#df8596\",\"#e9dd96\",\"#60a296\",\"#daa896\",\"#9b4b96\",\"#e8d796\",\"#33b996\",\"#cc7896\",\"#9ce296\",\"#e63e96\",\"#684496\",\"#3eda96\",\"#719a96\",\"#e07a96\",\"#8e7796\",\"#4c4a96\",\"#827b96\",\"#3cde96\",\"#849096\",\"#684996\",\"#3f4f96\",\"#54bf96\",\"#94a896\",\"#ab2296\",\"#49c996\",\"#e6ac96\",\"#d5d796\",\"#7f6a96\",\"#9d8e96\",\"#b62796\",\"#7f9c96\",\"#f9c696\",\"#a6ae96\",\"#e25796\",\"#9bb396\",\"#ded296\",\"#ee9996\",\"#4cbb96\",\"#90e496\",\"#b5b796\",\"#684996\",\"#8a5596\",\"#802396\",\"#b5a096\",\"#9f5196\",\"#a33996\",\"#698596\",\"#f34396\",\"#cf1e96\",\"#da4996\",\"#9bc996\",\"#79bb96\",\"#66bd96\",\"#4e8396\",\"#6d2296\",\"#86db96\",\"#35aa96\",\"#d95596\",\"#6ea796\",\"#81bd96\",\"#add896\",\"#6e2496\",\"#3e9896\",\"#eaad96\",\"#b03896\",\"#cf5c96\",\"#64a196\",\"#8f9196\",\"#dbc496\",\"#ddd196\",\"#994696\",\"#e6de96\",\"#f19f96\",\"#3e5296\",\"#5db496\",\"#d3ac96\",\"#b42296\",\"#3b5296\",\"#b82e96\",\"#d9dc96\",\"#71bd96\",\"#b09796\",\"#4c5896\",\"#894996\",\"#9e7496\",\"#78b896\",\"#f16996\",\"#acd196\",\"#662c96\",\"#5db996\",\"#698496\",\"#559296\",\"#d1cc96\",\"#b97d96\",\"#34bf96\",\"#6bb996\",\"#409296\",\"#604196\",\"#4f8196\",\"#f02a96\",\"#50c296\",\"#ee5096\",\"#8dc696\",\"#de5596\",\"#80d096\",\"#506096\",\"#67ce96\",\"#489296\",\"#9d3296\",\"#988496\",\"#b69896\",\"#b9b996\",\"#8b7096\",\"#dc9e96\",\"#485b96\",\"#7daa96\",\"#802896\",\"#a8b396\",\"#e08d96\",\"#ad5796\",\"#653f96\",\"#a32596\",\"#ea8996\",\"#e17196\",\"#c16d96\",\"#362e96\",\"#b86d96\",\"#483c96\",\"#b94396\",\"#b23a96\",\"#754896\",\"#81be96\",\"#8de096\",\"#ed2896\",\"#913196\",\"#812596\",\"#5e3f96\",\"#c97196\",\"#c69696\",\"#aa6a96\",\"#a1d896\",\"#4f4696\",\"#5d2496\",\"#92aa96\",\"#95bd96\",\"#d0b896\",\"#bdcd96\",\"#892396\",\"#86bf96\",\"#9c8596\",\"#b42096\",\"#acc096\",\"#7f8296\",\"#da5e96\",\"#36a496\",\"#b4b896\",\"#6b7196\",\"#e13b96\",\"#4c6e96\",\"#e98696\",\"#eb9696\",\"#526a96\",\"#f98d96\",\"#593096\",\"#899896\",\"#f6c696\",\"#346796\",\"#755a96\",\"#ca7396\",\"#939d96\",\"#465796\",\"#ede396\",\"#dbb996\",\"#588f96\",\"#64c696\",\"#634496\",\"#d2da96\",\"#665f96\",\"#b45496\",\"#80c096\",\"#929a96\",\"#46b096\",\"#337096\",\"#dc4a96\",\"#bb9996\",\"#f6d896\",\"#e6a796\",\"#f0c296\",\"#32ce96\",\"#d22196\",\"#493f96\",\"#bfe296\",\"#49a896\",\"#db8196\",\"#aa2396\",\"#b94c96\",\"#eb4d96\",\"#456596\",\"#aec096\",\"#ef2596\",\"#e49b96\",\"#f2a296\",\"#e02d96\",\"#5dba96\",\"#3dd796\",\"#e5ca96\",\"#ef6896\",\"#4cba96\",\"#958296\",\"#557a96\",\"#9b7c96\",\"#465296\",\"#839896\",\"#99e396\",\"#996296\",\"#665f96\",\"#a6a596\",\"#ad3896\",\"#6f6a96\",\"#6ec596\",\"#5cd696\",\"#749d96\",\"#737596\",\"#e85696\",\"#4ecb96\",\"#46ba96\",\"#474996\",\"#4cb696\",\"#f06596\",\"#7d4a96\",\"#657796\",\"#bf3796\",\"#d9d196\",\"#f5c396\",\"#7b4c96\",\"#4c9496\",\"#5a4496\",\"#dec596\",\"#549b96\",\"#798d96\",\"#d75296\",\"#493796\",\"#5c9796\",\"#375596\",\"#7ea596\",\"#774e96\",\"#dc4196\",\"#9e7d96\",\"#a49996\",\"#787496\",\"#f39096\",\"#909396\",\"#50ca96\",\"#afd996\",\"#ab7396\",\"#55d496\",\"#837696\",\"#c45196\",\"#376a96\",\"#7e5296\",\"#857b96\",\"#936396\",\"#914796\",\"#9f3596\",\"#385e96\",\"#bb6796\",\"#9f9a96\",\"#d2e396\",\"#8a6496\",\"#6a5296\",\"#3a5c96\",\"#cba796\",\"#c65596\",\"#6fa096\",\"#e78296\",\"#8b3296\",\"#ab7596\",\"#6abb96\",\"#666396\",\"#9daf96\",\"#82dd96\",\"#7d7e96\",\"#c99996\",\"#b92c96\",\"#649996\",\"#f89f96\",\"#602996\",\"#e59396\",\"#496496\",\"#5e2f96\",\"#7f3596\",\"#3ea796\",\"#b68f96\",\"#546e96\",\"#33ba96\",\"#c6ac96\",\"#86e396\",\"#da3a96\",\"#903396\",\"#a07e96\",\"#914f96\",\"#e64796\",\"#96aa96\",\"#ebb996\",\"#774496\",\"#36c296\",\"#e5cb96\",\"#c56e96\",\"#f6a696\",\"#e81f96\",\"#50c196\",\"#5bd796\",\"#df9496\",\"#64bf96\",\"#83ac96\",\"#bbc896\",\"#35a196\",\"#6fc096\",\"#69ae96\",\"#418a96\",\"#c59396\",\"#4fd996\",\"#8e9396\",\"#624996\",\"#516b96\",\"#c3de96\",\"#7e1f96\",\"#ea8296\",\"#99df96\",\"#be3896\",\"#4ea396\",\"#f56e96\",\"#336496\",\"#418196\",\"#938e96\",\"#c04d96\",\"#363f96\",\"#af2a96\",\"#c78f96\",\"#70ce96\",\"#bee596\",\"#5ecc96\",\"#785596\",\"#ec6e96\",\"#4e2b96\",\"#94ca96\",\"#5b6a96\",\"#cab196\",\"#964f96\",\"#c74596\",\"#e52d96\",\"#dbe396\",\"#c9dc96\",\"#e5a796\",\"#ae5396\",\"#55bb96\",\"#35a296\",\"#779e96\",\"#c07896\",\"#4f3496\",\"#3e9d96\",\"#a3d696\",\"#77a396\",\"#d4a796\",\"#559b96\",\"#779696\",\"#598996\",\"#75c296\",\"#ada496\",\"#f6e396\",\"#b98496\",\"#adda96\",\"#d27c96\",\"#37d296\",\"#7d7896\",\"#8c4596\",\"#6e5396\",\"#79c496\",\"#58a796\",\"#bf2496\",\"#79b696\",\"#772c96\",\"#acdb96\",\"#b1c396\",\"#39a196\",\"#bdb596\",\"#778396\",\"#aca896\",\"#6d7296\",\"#667b96\",\"#ddde96\",\"#837696\",\"#bf6d96\",\"#d95996\",\"#4ab196\",\"#3aab96\",\"#ed3896\",\"#415296\",\"#a38196\",\"#b2ca96\",\"#c0af96\",\"#932e96\",\"#e66e96\",\"#e85496\",\"#eaa296\",\"#3c4696\",\"#77e096\",\"#7f7396\",\"#d32996\",\"#f0a296\",\"#de8c96\",\"#43db96\",\"#e4c296\",\"#3de096\",\"#76d596\",\"#6b5f96\",\"#bd8696\",\"#dba896\",\"#909996\",\"#88b496\",\"#bb4c96\",\"#e5c996\",\"#b26b96\",\"#5a3396\",\"#54ca96\",\"#6dcc96\",\"#bb4d96\",\"#c7c596\",\"#eee596\",\"#af6596\",\"#f59b96\",\"#416896\",\"#668f96\",\"#929e96\",\"#b0c996\",\"#9ea996\",\"#c32096\",\"#5aad96\",\"#825596\",\"#cc9696\",\"#c4c596\",\"#897496\",\"#be7d96\",\"#78af96\",\"#66e196\",\"#83be96\",\"#eeac96\",\"#e73c96\",\"#87c196\",\"#4e2c96\",\"#324096\",\"#ec5d96\",\"#ec2996\",\"#bac796\",\"#79dc96\",\"#4b3e96\",\"#625096\",\"#7d5396\",\"#6da196\",\"#935396\",\"#63a196\",\"#cf5196\",\"#b84696\",\"#454296\",\"#d1c396\",\"#91b396\",\"#dbaf96\",\"#bc9496\",\"#ac3b96\",\"#da2096\",\"#e6a696\",\"#36df96\",\"#5d2996\",\"#d12796\",\"#78dc96\",\"#433b96\",\"#ce9f96\",\"#e4bf96\",\"#45b396\",\"#c28896\",\"#702096\",\"#3aa596\",\"#718096\",\"#5a8296\",\"#ec9196\",\"#5d5a96\",\"#62de96\",\"#f2b296\",\"#914a96\",\"#3f7396\",\"#e67296\",\"#552096\",\"#f4de96\",\"#a85896\",\"#6d8c96\",\"#7c2f96\",\"#59b196\",\"#cf4996\",\"#41c396\",\"#849296\"],\"radius\":{\"__ndarray__\":\"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\",\"dtype\":\"float64\",\"shape\":[4000]},\"x\":{\"__ndarray__\":\"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\",\"dtype\":\"float64\",\"shape\":[4000]},\"y\":{\"__ndarray__\":\"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\",\"dtype\":\"float64\",\"shape\":[4000]}}},\"id\":\"2db3a8e2-5cf3-4790-8071-876dd78ff1a9\",\"type\":\"ColumnDataSource\"},{\"attributes\":{},\"id\":\"a4de97e1-fca6-4fe2-8bb2-77308b213184\",\"type\":\"ToolEvents\"},{\"attributes\":{\"active_drag\":\"auto\",\"active_scroll\":\"auto\",\"active_tap\":\"auto\",\"tools\":[{\"id\":\"c8a9f6e2-6248-46bc-9a87-2134d143ce7a\",\"type\":\"PanTool\"},{\"id\":\"8fbb0d4b-cb93-40ad-8a22-e3281f5d3fed\",\"type\":\"WheelZoomTool\"},{\"id\":\"c7383935-3725-4c29-b8e1-e5e7315be8eb\",\"type\":\"BoxZoomTool\"},{\"id\":\"5fdac8bf-bf96-4ef5-9d86-d9c3d4d49b2a\",\"type\":\"SaveTool\"},{\"id\":\"e4bdf602-eed8-469b-a821-85e660f65525\",\"type\":\"ResetTool\"},{\"id\":\"9d711d2a-2156-4fc8-8782-cc2c3aee6569\",\"type\":\"HelpTool\"}]},\"id\":\"e7df8607-6817-4d42-8af1-455aa445fc75\",\"type\":\"Toolbar\"},{\"attributes\":{},\"id\":\"95f32c8e-92c6-4b76-8e4f-cdcbebbeac31\",\"type\":\"BasicTicker\"},{\"attributes\":{\"callback\":null,\"end\":100},\"id\":\"4445343f-0eaa-4e48-98f4-ea01a4f09585\",\"type\":\"Range1d\"},{\"attributes\":{\"bottom_units\":\"screen\",\"fill_alpha\":{\"value\":0.5},\"fill_color\":{\"value\":\"lightgrey\"},\"left_units\":\"screen\",\"level\":\"overlay\",\"line_alpha\":{\"value\":1.0},\"line_color\":{\"value\":\"black\"},\"line_dash\":[4,4],\"line_width\":{\"value\":2},\"plot\":null,\"render_mode\":\"css\",\"right_units\":\"screen\",\"top_units\":\"screen\"},\"id\":\"14a1186c-44b4-4290-8492-47a1472824a8\",\"type\":\"BoxAnnotation\"},{\"attributes\":{\"fill_alpha\":{\"value\":0.6},\"fill_color\":{\"field\":\"fill_color\"},\"line_color\":{\"value\":null},\"radius\":{\"field\":\"radius\",\"units\":\"data\"},\"x\":{\"field\":\"x\"},\"y\":{\"field\":\"y\"}},\"id\":\"4b8f4b7a-e3f9-4369-bb1f-e5818ce1f96e\",\"type\":\"Circle\"},{\"attributes\":{\"plot\":{\"id\":\"704ca8e1-fc50-49af-8531-5dbda09a1e8c\",\"subtype\":\"Figure\",\"type\":\"Plot\"}},\"id\":\"9d711d2a-2156-4fc8-8782-cc2c3aee6569\",\"type\":\"HelpTool\"}],\"root_ids\":[\"704ca8e1-fc50-49af-8531-5dbda09a1e8c\"]},\"title\":\"Bokeh Application\",\"version\":\"0.12.5\"}};\n",
       "            var render_items = [{\"docid\":\"c8e9afb5-4a34-49a8-8838-0c79ca3f83ea\",\"elementid\":\"10ce9b70-fcfa-44ed-a011-9f2eba195ca7\",\"modelid\":\"704ca8e1-fc50-49af-8531-5dbda09a1e8c\"}];\n",
       "            \n",
       "            Bokeh.embed.embed_items(docs_json, render_items);\n",
       "          };\n",
       "          if (document.readyState != \"loading\") fn();\n",
       "          else document.addEventListener(\"DOMContentLoaded\", fn);\n",
       "        })();\n",
       "      },\n",
       "      function(Bokeh) {\n",
       "      }\n",
       "    ];\n",
       "  \n",
       "    function run_inline_js() {\n",
       "      \n",
       "      if ((window.Bokeh !== undefined) || (force === true)) {\n",
       "        for (var i = 0; i < inline_js.length; i++) {\n",
       "          inline_js[i](window.Bokeh);\n",
       "        }if (force === true) {\n",
       "          display_loaded();\n",
       "        }} else if (Date.now() < window._bokeh_timeout) {\n",
       "        setTimeout(run_inline_js, 100);\n",
       "      } else if (!window._bokeh_failed_load) {\n",
       "        console.log(\"Bokeh: BokehJS failed to load within specified timeout.\");\n",
       "        window._bokeh_failed_load = true;\n",
       "      } else if (force !== true) {\n",
       "        var cell = $(document.getElementById(\"10ce9b70-fcfa-44ed-a011-9f2eba195ca7\")).parents('.cell').data().cell;\n",
       "        cell.output_area.append_execute_result(NB_LOAD_WARNING)\n",
       "      }\n",
       "  \n",
       "    }\n",
       "  \n",
       "    if (window._bokeh_is_loading === 0) {\n",
       "      console.log(\"Bokeh: BokehJS loaded, going straight to plotting\");\n",
       "      run_inline_js();\n",
       "    } else {\n",
       "      load_libs(js_urls, function() {\n",
       "        console.log(\"Bokeh: BokehJS plotting callback run at\", now());\n",
       "        run_inline_js();\n",
       "      });\n",
       "    }\n",
       "  }(this));\n",
       "</script>"
      ]
     },
     "metadata": {},
     "output_type": "display_data"
    }
   ],
   "source": [
    "# genera la figura, grafica los puntos y visualiza la gráfica\n",
    "p = figure(x_range=(0,100), y_range=(0,100))\n",
    "p.circle(x,y, radius=radii, fill_color=colors, fill_alpha=0.6, line_color=None)\n",
    "show(p)"
   ]
  },
  {
   "cell_type": "markdown",
   "metadata": {},
   "source": [
    "---\n",
    "# Seaborn"
   ]
  },
  {
   "cell_type": "markdown",
   "metadata": {},
   "source": [
    "[Contenido](#Contenido)"
   ]
  },
  {
   "cell_type": "markdown",
   "metadata": {},
   "source": [
    "> [Seaborn](https://web.stanford.edu/~mwaskom/software/seaborn/) by Michael Waskom.  "
   ]
  },
  {
   "cell_type": "markdown",
   "metadata": {},
   "source": [
    "Seaborn es una librería para la visualización de datos estadísticos desarrollada en matplotlib por M. Waskom. El sitio web indicado en la bibliografía contiene información detallada incluyendo la [guía de instalación](https://web.stanford.edu/~mwaskom/software/seaborn/installing.html#installing), [notas introductorias](https://web.stanford.edu/~mwaskom/software/seaborn/introduction.html#introduction), un [tutorial](https://web.stanford.edu/~mwaskom/software/seaborn/tutorial.html#tutorial) y el [manual de referencia](https://web.stanford.edu/~mwaskom/software/seaborn/api.html#api-ref).\n",
    "\n",
    "A continuación se realiza un gráfico (del tutorial) en Jupyter para verificar que `seaborn` funciona correctamente.\n",
    "\n"
   ]
  },
  {
   "cell_type": "code",
   "execution_count": 12,
   "metadata": {},
   "outputs": [
    {
     "name": "stdout",
     "output_type": "stream",
     "text": [
      "Fetching package metadata .........\n",
      "Solving package specifications: .\n",
      "\n",
      "Package plan for installation in environment /Users/jdvelasq/anaconda:\n",
      "\n",
      "The following packages will be UPDATED:\n",
      "\n",
      "    anaconda: 4.4.0-np112py36_0 --> custom-py36_0\n",
      "    conda:    4.3.21-py36_0     --> 4.3.24-py36_0\n",
      "    seaborn:  0.7.1-py36_0      --> 0.8-py36_0   \n",
      "\n",
      "Proceed ([y]/n)? \n",
      "anaconda-custo   0% |                              | ETA:  --:--:--   0.00  B/s\r",
      "anaconda-custo 100% |###############################| ETA:  0:00:00   3.87 MB/s\r",
      "anaconda-custo 100% |###############################| Time: 0:00:00   2.86 MB/s\r\n",
      "conda-4.3.24-p   0% |                              | ETA:  --:--:--   0.00  B/s\r",
      "conda-4.3.24-p   3% |                               | Time: 0:00:01  13.88 kB/s\r",
      "conda-4.3.24-p   6% |#                              | Time: 0:00:02  15.73 kB/s\r",
      "conda-4.3.24-p   9% |##                             | Time: 0:00:02  17.41 kB/s\r",
      "conda-4.3.24-p  12% |###                            | Time: 0:00:03  18.04 kB/s\r",
      "conda-4.3.24-p  15% |####                           | Time: 0:00:04  20.46 kB/s\r",
      "conda-4.3.24-p  18% |#####                          | Time: 0:00:04  21.43 kB/s\r",
      "conda-4.3.24-p  21% |######                         | Time: 0:00:04  23.56 kB/s\r",
      "conda-4.3.24-p  25% |#######                        | Time: 0:00:05  25.92 kB/s\r",
      "conda-4.3.24-p  28% |########                       | Time: 0:00:05  27.30 kB/s\r",
      "conda-4.3.24-p  31% |#########                      | Time: 0:00:05  28.59 kB/s\r",
      "conda-4.3.24-p  34% |##########                     | Time: 0:00:05  30.08 kB/s\r",
      "conda-4.3.24-p  37% |###########                    | Time: 0:00:06  32.23 kB/s\r",
      "conda-4.3.24-p  40% |############                   | Time: 0:00:06  32.33 kB/s\r",
      "conda-4.3.24-p  43% |#############                  | Time: 0:00:06  33.79 kB/s\r",
      "conda-4.3.24-p  47% |##############                 | Time: 0:00:06  35.92 kB/s\r",
      "conda-4.3.24-p  50% |###############                | Time: 0:00:07  37.40 kB/s\r",
      "conda-4.3.24-p  53% |################               | Time: 0:00:07  39.32 kB/s\r",
      "conda-4.3.24-p  56% |#################              | Time: 0:00:07  41.30 kB/s\r",
      "conda-4.3.24-p  59% |##################             | Time: 0:00:07  43.09 kB/s\r",
      "conda-4.3.24-p  62% |###################            | Time: 0:00:07  43.72 kB/s\r",
      "conda-4.3.24-p  65% |####################           | Time: 0:00:07  45.31 kB/s\r",
      "conda-4.3.24-p  69% |#####################          | Time: 0:00:07  47.31 kB/s\r",
      "conda-4.3.24-p  72% |######################         | Time: 0:00:07  49.07 kB/s\r",
      "conda-4.3.24-p  75% |#######################        | Time: 0:00:07  50.80 kB/s\r",
      "conda-4.3.24-p  78% |########################       | Time: 0:00:07  52.55 kB/s\r",
      "conda-4.3.24-p  81% |#########################      | Time: 0:00:07  54.48 kB/s\r",
      "conda-4.3.24-p  84% |##########################     | Time: 0:00:07  55.66 kB/s\r",
      "conda-4.3.24-p  87% |###########################    | Time: 0:00:08  56.89 kB/s\r",
      "conda-4.3.24-p  91% |############################   | Time: 0:00:08  58.33 kB/s\r",
      "conda-4.3.24-p  94% |#############################  | Time: 0:00:08  59.65 kB/s\r",
      "conda-4.3.24-p  97% |############################## | Time: 0:00:08  61.31 kB/s\r",
      "conda-4.3.24-p 100% |###############################| Time: 0:00:08  62.99 kB/s\r",
      "conda-4.3.24-p 100% |###############################| Time: 0:00:08  62.99 kB/s\r\n",
      "seaborn-0.8-py   0% |                              | ETA:  --:--:--   0.00  B/s\r",
      "seaborn-0.8-py   4% |#                              | Time: 0:00:00 981.78 kB/s\r",
      "seaborn-0.8-py   9% |##                             | Time: 0:00:00 729.55 kB/s\r",
      "seaborn-0.8-py  14% |####                           | Time: 0:00:00 710.20 kB/s\r",
      "seaborn-0.8-py  19% |#####                          | Time: 0:00:00 777.31 kB/s\r",
      "seaborn-0.8-py  23% |#######                        | Time: 0:00:00 670.83 kB/s\r",
      "seaborn-0.8-py  28% |########                       | Time: 0:00:00 688.61 kB/s\r",
      "seaborn-0.8-py  33% |##########                     | Time: 0:00:00 594.61 kB/s\r",
      "seaborn-0.8-py  38% |###########                    | Time: 0:00:00 472.02 kB/s\r",
      "seaborn-0.8-py  42% |#############                  | Time: 0:00:00 505.39 kB/s\r",
      "seaborn-0.8-py  47% |##############                 | Time: 0:00:00 536.15 kB/s\r",
      "seaborn-0.8-py  52% |################               | Time: 0:00:00 564.16 kB/s\r",
      "seaborn-0.8-py  57% |#################              | Time: 0:00:00 589.17 kB/s\r",
      "seaborn-0.8-py  61% |###################            | Time: 0:00:00 600.59 kB/s\r",
      "seaborn-0.8-py  66% |####################           | Time: 0:00:00 446.63 kB/s\r",
      "seaborn-0.8-py  71% |######################         | Time: 0:00:00 461.17 kB/s\r",
      "seaborn-0.8-py  76% |#######################        | Time: 0:00:00 460.76 kB/s\r",
      "seaborn-0.8-py  80% |#########################      | Time: 0:00:00 474.83 kB/s\r",
      "seaborn-0.8-py  85% |##########################     | Time: 0:00:00 485.13 kB/s\r",
      "seaborn-0.8-py  90% |###########################    | Time: 0:00:00 492.71 kB/s\r",
      "seaborn-0.8-py  95% |#############################  | Time: 0:00:00 501.79 kB/s\r",
      "seaborn-0.8-py  99% |############################## | Time: 0:00:00 524.15 kB/s\r",
      "seaborn-0.8-py 100% |###############################| Time: 0:00:00 525.06 kB/s\r",
      "seaborn-0.8-py 100% |###############################| Time: 0:00:00 524.79 kB/s\r\n"
     ]
    }
   ],
   "source": [
    "%%sh\n",
    "conda install seaborn"
   ]
  },
  {
   "cell_type": "code",
   "execution_count": 13,
   "metadata": {
    "collapsed": true
   },
   "outputs": [],
   "source": [
    "# Se procede igual que cuando se realizan gráficos en matplotlib.\n",
    "import matplotlib.pyplot as plt\n",
    "import numpy as np\n",
    "\n",
    "# para que los gráficos se hagan en línea.\n",
    "%matplotlib inline    \n",
    "\n",
    "# se generan los puntos aleatorios.\n",
    "x = np.random.normal(size=100)"
   ]
  },
  {
   "cell_type": "code",
   "execution_count": 14,
   "metadata": {
    "scrolled": true
   },
   "outputs": [
    {
     "data": {
      "image/png": "[encoded data removed]",
      "text/plain": [
       "<matplotlib.figure.Figure at 0x107295a90>"
      ]
     },
     "metadata": {},
     "output_type": "display_data"
    }
   ],
   "source": [
    "# se importa la librería.\n",
    "import seaborn as sns\n",
    "sns.set_style(\"white\") # se quita la malla (grid).\n",
    "sns.distplot(x)        # distribution plot (histograma)\n",
    "sns.despine(offset=10) # se modifican los ejes"
   ]
  },
  {
   "cell_type": "markdown",
   "metadata": {},
   "source": [
    "---\n",
    "# Lightning"
   ]
  },
  {
   "cell_type": "markdown",
   "metadata": {},
   "source": [
    "[Contenido](#Contenido)"
   ]
  },
  {
   "cell_type": "markdown",
   "metadata": {},
   "source": [
    "> [Lightning](https://nbviewer.jupyter.org/github/lightning-viz/lightning-example-notebooks/blob/master/index.ipynb)  "
   ]
  },
  {
   "cell_type": "markdown",
   "metadata": {},
   "source": [
    "Lighting es otra librería gráfica que puede usarse en varios lenguajes incluyendo Python.\n",
    "\n",
    "Para poder instalar la librería debe ejecutar los siguientes comandos:"
   ]
  },
  {
   "cell_type": "code",
   "execution_count": 15,
   "metadata": {},
   "outputs": [
    {
     "name": "stdout",
     "output_type": "stream",
     "text": [
      "Collecting lightning-python\n",
      "  Downloading lightning-python-1.2.1.tar.gz (522kB)\n",
      "Requirement already satisfied: setuptools in /Users/jdvelasq/anaconda/lib/python3.6/site-packages/setuptools-27.2.0-py3.6.egg (from lightning-python)\n",
      "Requirement already satisfied: requests in /Users/jdvelasq/anaconda/lib/python3.6/site-packages (from lightning-python)\n",
      "Requirement already satisfied: numpy in /Users/jdvelasq/anaconda/lib/python3.6/site-packages (from lightning-python)\n",
      "Requirement already satisfied: pytest in /Users/jdvelasq/anaconda/lib/python3.6/site-packages (from lightning-python)\n",
      "Requirement already satisfied: matplotlib in /Users/jdvelasq/anaconda/lib/python3.6/site-packages (from lightning-python)\n",
      "Requirement already satisfied: six in /Users/jdvelasq/anaconda/lib/python3.6/site-packages (from lightning-python)\n",
      "Requirement already satisfied: jinja2 in /Users/jdvelasq/anaconda/lib/python3.6/site-packages (from lightning-python)\n",
      "Requirement already satisfied: py>=1.4.29 in /Users/jdvelasq/anaconda/lib/python3.6/site-packages (from pytest->lightning-python)\n",
      "Requirement already satisfied: python-dateutil in /Users/jdvelasq/anaconda/lib/python3.6/site-packages (from matplotlib->lightning-python)\n",
      "Requirement already satisfied: pytz in /Users/jdvelasq/anaconda/lib/python3.6/site-packages (from matplotlib->lightning-python)\n",
      "Requirement already satisfied: cycler>=0.10 in /Users/jdvelasq/anaconda/lib/python3.6/site-packages (from matplotlib->lightning-python)\n",
      "Requirement already satisfied: pyparsing!=2.0.4,!=2.1.2,!=2.1.6,>=1.5.6 in /Users/jdvelasq/anaconda/lib/python3.6/site-packages (from matplotlib->lightning-python)\n",
      "Requirement already satisfied: MarkupSafe>=0.23 in /Users/jdvelasq/anaconda/lib/python3.6/site-packages (from jinja2->lightning-python)\n",
      "Building wheels for collected packages: lightning-python\n",
      "  Running setup.py bdist_wheel for lightning-python: started\n",
      "  Running setup.py bdist_wheel for lightning-python: finished with status 'done'\n",
      "  Stored in directory: /Users/jdvelasq/Library/Caches/pip/wheels/07/01/a3/e6e94fcd0a4977c18c62aafb0c423017b59b31591936c434c6\n",
      "Successfully built lightning-python\n",
      "Installing collected packages: lightning-python\n",
      "Successfully installed lightning-python-1.2.1\n"
     ]
    }
   ],
   "source": [
    "%%sh\n",
    "pip install lightning-python"
   ]
  },
  {
   "cell_type": "code",
   "execution_count": 16,
   "metadata": {},
   "outputs": [],
   "source": [
    "import lightning \n",
    "\n",
    "from numpy import random, asarray, sqrt, arctan2, pi, clip\n",
    "from seaborn import color_palette\n",
    "from sklearn import datasets\n",
    "from colorsys import hsv_to_rgb"
   ]
  },
  {
   "cell_type": "code",
   "execution_count": 21,
   "metadata": {},
   "outputs": [],
   "source": [
    "from lightning import Lightning"
   ]
  },
  {
   "cell_type": "code",
   "execution_count": 19,
   "metadata": {},
   "outputs": [
    {
     "data": {
      "text/html": [
       "<div style='margin-top:8px'><img src='data:image/png;base64,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' width='30px' height='35px' style='display: inline-block; padding-right: 10px'></img><span>Lightning initialized</span></div>"
      ],
      "text/plain": [
       "<IPython.core.display.HTML object>"
      ]
     },
     "metadata": {},
     "output_type": "display_data"
    },
    {
     "name": "stdout",
     "output_type": "stream",
     "text": [
      "Connected to server at http://public.lightning-viz.org\n"
     ]
    },
    {
     "data": {
      "application/javascript": [
       "(function e(t,n,r){function s(o,u){if(!n[o]){if(!t[o]){var a=typeof require==\"function\"&&require;if(!u&&a)return a(o,!0);if(i)return i(o,!0);throw new Error(\"Cannot find module '\"+o+\"'\")}var f=n[o]={exports:{}};t[o][0].call(f.exports,function(e){var n=t[o][1][e];return s(n?n:e)},f,f.exports,e,t,n,r)}return n[o].exports}var i=typeof require==\"function\"&&require;for(var o=0;o<r.length;o++)s(r[o]);return s})({1:[function(require,module,exports){\n",
       "window.lightning = window.lightning || {};\n",
       "var lightningCommMap = {};\n",
       "var IPython = window.IPython;\n",
       "\n",
       "var readCommData = function(commData, field) {\n",
       "    try {\n",
       "        return commData.content.data[field];\n",
       "    } catch (err) {\n",
       "        return;\n",
       "    }\n",
       "};\n",
       "\n",
       "\n",
       "var init_comm = function() {\n",
       "    IPython.notebook.kernel.comm_manager.register_target('lightning', function(comm, data) {\n",
       "        var id = readCommData(data, 'id');\n",
       "        lightningCommMap[id] = comm;\n",
       "    });\n",
       "\n",
       "    window.lightning.comm_map = lightningCommMap;\n",
       "}\n",
       "\n",
       "\n",
       "if(IPython && IPython.notebook) {\n",
       "\n",
       "    if(IPython.notebook.kernel) {\n",
       "        init_comm();\n",
       "    }\n",
       "\n",
       "    IPython.notebook.events.on('kernel_connected.Kernel', init_comm);\n",
       "\n",
       "}\n",
       "\n",
       "\n",
       "},{}]},{},[1])\n",
       "//# sourceMappingURL=data:application/json;base64,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\n"
      ],
      "text/plain": [
       "<IPython.core.display.Javascript object>"
      ]
     },
     "metadata": {},
     "output_type": "display_data"
    }
   ],
   "source": [
    "lgn = lightning.Lightning(ipython=True, host='http://public.lightning-viz.org')"
   ]
  },
  {
   "cell_type": "code",
   "execution_count": 22,
   "metadata": {},
   "outputs": [
    {
     "name": "stderr",
     "output_type": "stream",
     "text": [
      "/Users/jdvelasq/anaconda/lib/python3.6/site-packages/IPython/kernel/__init__.py:13: ShimWarning:\n",
      "\n",
      "The `IPython.kernel` package has been deprecated since IPython 4.0.You should import from ipykernel or jupyter_client instead.\n",
      "\n"
     ]
    },
    {
     "data": {
      "text/html": [
       "<meta name=\"viewport\" content=\"width=device-width, initial-scale=1, maximum-scale=1\"/><meta http-equiv=\"X-UA-Compatible\" content=\"IE=10; IE=9; IE=8; IE=7; IE=EDGE\"/><meta charset=\"UTF-8\"/><link href=\"//fonts.googleapis.com/css?family=Open+Sans:400,700\" rel=\"stylesheet\" type=\"text/css\"/><link rel=\"stylesheet\" href=\"http://public.lightning-viz.org/css/app.css\"/><div id=\"lightning-body\" class=\"container content wrap push\"><div class=\"feed-container\"><div data-model=\"visualization\" data-model-id=\"724555e5-df9b-4c58-a455-a3afaa6d5e07\" class=\"feed-item-container\"><div data-type=\"lightning-scatter\" data-data=\"{&quot;points&quot;:[[-0.30508239022997546,0.6844819058043515],[-1.666260564986059,0.7576130126026935],[0.3700737970069658,0.4177507059552193],[-1.4774381785874788,1.0283761302398648],[-0.5564527050141632,1.8022012098146858],[0.9728430061639244,-2.0100162772147434],[0.42971052975282403,-0.23677731209079192],[0.3997844481366406,-0.29758024745649514],[0.4972242924876075,1.0586843215836947],[0.025784691648602025,2.0903342667429956],[0.9803437130521412,-0.6382121796136012],[1.2713991436367718,0.512051090445494],[-1.7882172159937781,0.18473189499950446],[0.40472908918899086,0.36138809319610704],[-0.15300805116352661,-1.111622441961022],[1.4128801095818035,0.583175784265927],[0.8752765900095447,1.445120051532077],[-0.2112508512916986,0.7549218262947305],[-0.6050131205837275,-0.22444381850563092],[-0.42893934540755535,1.2023988637695362],[1.149351583534937,1.4303781146151457],[0.3399977610064397,1.9478030997837543],[0.5073647559458138,-1.1092680386583056],[0.3870471789401231,0.841254632439906],[0.1174290662437383,-0.17339456537115358],[0.8312084913232886,0.2571345558293103],[1.9385463331949053,-0.7118690404795953],[-0.4791475410061422,-0.7466652625704454],[-0.0007610358228689423,1.4588838226141547],[-1.8165626326416209,0.011165630730919108],[-2.2975756974655854,0.7430610929190931],[1.1063235326240763,0.769148882073978],[-1.7487021455822085,-0.478977484321142],[0.9197954463617739,0.9223341915718151],[-0.8689896363415869,-0.7615148226451488],[-0.357546914459838,1.2508094056576295],[0.6309849018441048,0.17110557977162422],[0.02307680122701683,-0.4395126662752897],[0.0675975835326831,-0.8272533250351521],[1.1005603599522413,-0.7762883229810651],[-1.8414496198786803,1.07483790588112],[-1.1628545359455509,-0.39392796047724865],[0.3256860600404675,0.38317760174471616],[1.1847677854792968,1.9612492810606978],[1.1274150168083379,-0.817766059563143],[-0.4316929324930007,0.16290899116208654],[2.378996536592532,-0.13712097817051042],[-0.5282900925599981,1.0451296473192657],[0.8407011856443579,-2.0324981179797974],[1.220404509022536,-0.8380420746857334],[-0.01850032283634976,-0.381222751965958],[-0.868424324013975,0.4031714734576313],[-0.7359892402079822,1.6355526094214785],[0.44838348716844073,-0.2273965352059439],[-0.9670119933204061,-0.5916137972901103],[-0.008855143017405535,-0.8544147177446968],[-0.29221774115266785,-0.2896892890403351],[0.49138522225642844,0.2881035424465493],[2.1677426114197256,0.846826907997472],[-2.020078539821222,1.396317692690822],[0.9019329062819113,0.20858004426233365],[1.0292017095830652,-0.7258814402140438],[-0.5583498664900715,-0.08674457307945167],[0.5399788342611246,-1.5253819089953515],[-0.10837352341875862,0.20384495966940475],[-1.294086703342644,-1.626892088708072],[0.48147774784369274,1.58054884905843],[-0.5292385322879272,-1.7763735688734674],[0.6802920357807201,0.7568793134508845],[1.4690032760015461,-0.13567270680273236],[-0.3506547159561795,-1.3536454110652776],[-2.7246235991370344,0.38994303768129657],[-0.9043058488472359,-0.5905809299892097],[-1.0003130552713282,0.05028132943080715],[0.1643195100900057,-0.10500027891793447],[-0.08612242971251682,1.0260436107880941],[-0.4115541629031678,-0.27501267440430144],[-0.7777732059710318,1.5251247624176136],[1.1292550136246624,0.34843237150603357],[-0.29026231472569936,0.018571866707744532],[0.1198636303606434,1.0459405633629397],[-0.5412940801771631,0.3386083133155588],[1.3808699103653796,-0.8211361376665343],[-0.5612472027365643,1.0752923007237805],[-1.0280093267892576,1.6495710864705206],[-0.5693850595271263,0.8481827327110617],[0.4529575563142859,-1.43694600542912],[0.9606174803485074,0.11221543406178769],[-0.3110489247354177,-0.4190370008032392],[1.6170504537314279,0.06782494667230364],[0.7995918571286841,-0.5746775075696968],[1.0558262526863664,-0.3343905108128649],[-1.3850883657573414,-0.052492454978271985],[-0.3061842909420935,1.458242655945466],[-0.027881272277645877,0.4608125318138767],[0.3388121040327429,-0.0877039898407304],[-0.6868091873892815,-0.6795478455997528],[-0.23450646638764155,-0.6462425621539897],[0.507831736594797,-1.1895671411173439],[1.1236524160705694,1.498006539997977]],&quot;color&quot;:[[213.6235294117647,229.4156862745098,244.2078431372549],[8,75.95294117647062,148.50588235294123],[109.40000000000002,175.31764705882352,214.5176470588235],[176.35294117647058,209.8,231.4235294117647],[8,53.17647058823529,114.68627450980392],[8,55.24705882352941,117.7607843137255],[8,50.07058823529412,110.07450980392157],[198.56470588235297,219.37647058823526,239.18823529411765],[128.60000000000002,185.85882352941178,218.65882352941176],[63.28235294117648,143.28235294117647,196.6],[233.66666666666666,242.46666666666667,250.73333333333332],[8,55.24705882352941,117.7607843137255],[157.4,201.6705882352941,224.8705882352941],[20.647058823529413,97.18823529411763,168.64705882352942],[192.66666666666666,216.73333333333332,237.13333333333333],[223.47058823529412,235.94117647058823,247.47058823529412],[141.40000000000003,192.88627450980394,221.41960784313724],[206.09411764705882,224.39607843137253,241.69803921568626],[8.098039215686276,81.12549019607842,156.0980392156863],[8,70.7764705882353,140.81960784313725],[61.21176470588239,141.21176470588236,195.53333333333336],[217.38823529411766,231.9254901960784,245.46274509803922],[8,65.60000000000001,133.13333333333333],[125.40000000000002,184.10196078431375,217.9686274509804],[157.4,201.6705882352941,224.8705882352941],[217.38823529411766,231.9254901960784,245.46274509803922],[138.20000000000002,191.12941176470588,220.7294117647059],[79.3450980392157,155.11372549019606,203.2078431372549],[149.4,197.27843137254902,223.1450980392157],[213.6235294117647,229.4156862745098,244.2078431372549],[102.49803921568628,170.9254901960784,212.24313725490194],[8,65.60000000000001,133.13333333333333],[235.23529411764707,243.4705882352941,251.23529411764707],[45.682352941176475,125.68235294117646,187.53333333333333],[149.4,197.27843137254902,223.1450980392157],[56.03529411764706,136.03529411764706,192.86666666666667],[154.20000000000005,199.9137254901961,224.18039215686275],[8,79.05882352941175,153.11764705882354],[75.48627450980392,152.478431372549,201.7019607843137],[58.10588235294118,138.10588235294117,193.93333333333334],[14.372549019607844,89.15686274509802,162.37254901960785],[190.15686274509804,215.66666666666666,236.25490196078434],[225.82352941176472,237.4470588235294,248.2235294117647],[45.682352941176475,125.68235294117646,187.53333333333333],[8,79.05882352941175,153.11764705882354],[8,73.88235294117646,145.4313725490196],[206.09411764705882,224.39607843137253,241.69803921568626],[61.21176470588239,141.21176470588236,195.53333333333336],[213.6235294117647,229.4156862745098,244.2078431372549],[22.215686274509807,99.19607843137254,170.2156862745098],[28.490196078431374,107.22745098039215,176.49019607843138],[146.20000000000002,195.52156862745096,222.4549019607843],[61.21176470588239,141.21176470588236,195.53333333333336],[98.63921568627451,168.29019607843136,210.7372549019608],[102.49803921568628,170.9254901960784,212.24313725490194],[237.58823529411765,244.9764705882353,251.98823529411763],[186.3921568627451,214.06666666666663,234.93725490196078],[209.85882352941175,226.90588235294118,242.95294117647057],[8,58.35294117647059,122.37254901960785],[92.2078431372549,163.89803921568628,208.22745098039215],[219.64705882352942,233.4313725490196,246.2156862745098],[45.682352941176475,125.68235294117646,187.53333333333333],[138.20000000000002,191.12941176470588,220.7294117647059],[208.35294117647058,225.9019607843137,242.45098039215685],[8,58.35294117647059,122.37254901960785],[186.3921568627451,214.06666666666663,234.93725490196078],[231.31372549019608,240.96078431372547,249.98039215686276],[72.91372549019609,150.72156862745098,200.69803921568626],[26.137254901960787,104.2156862745098,174.13725490196077],[146.20000000000002,195.52156862745096,222.4549019607843],[217.38823529411766,231.9254901960784,245.46274509803922],[146.20000000000002,195.52156862745096,222.4549019607843],[112.60000000000001,177.0745098039216,215.2078431372549],[105.07058823529412,172.68235294117648,213.24705882352941],[221.90588235294118,234.93725490196078,246.9686274509804],[192.66666666666666,216.73333333333332,237.13333333333333],[176.35294117647058,209.8,231.4235294117647],[225.82352941176472,237.4470588235294,248.2235294117647],[204.58823529411765,223.39215686274508,241.19607843137254],[204.58823529411765,223.39215686274508,241.19607843137254],[24.56862745098039,102.2078431372549,172.5686274509804],[69.0549019607843,148.08627450980393,199.1921568627451],[8,75.95294117647062,148.50588235294123],[39.47058823529412,119.4705882352941,184.33333333333334],[225.82352941176472,237.4470588235294,248.2235294117647],[58.10588235294118,138.10588235294117,193.93333333333334],[72.91372549019609,150.72156862745098,200.69803921568626],[8,68.70588235294117,137.7450980392157],[217.38823529411766,231.9254901960784,245.46274509803922],[227.3921568627451,238.45098039215685,248.72549019607843],[149.4,197.27843137254902,223.1450980392157],[50.85882352941177,130.85882352941175,190.2],[81.91764705882353,156.87058823529412,204.21176470588233],[217.38823529411766,231.9254901960784,245.46274509803922],[72.91372549019609,150.72156862745098,200.69803921568626],[8,75.95294117647062,148.50588235294123],[128.60000000000002,185.85882352941178,218.65882352941176],[69.0549019607843,148.08627450980393,199.1921568627451],[32.411764705882355,112.24705882352941,180.41176470588235],[109.40000000000002,175.31764705882352,214.5176470588235]],&quot;size&quot;:[22.04383380237371,19.66321614687739,14.191400251154151,8.443263029980422,8.2497805703637,22.5232158866284,13.638445584787267,13.377632479325744,17.814012489412022,21.399957688456816,19.95291309141792,8.635059192135815,9.627732471575438,15.601174435909925,15.87971292462258,14.616523643712448,18.234614829609672,16.72625299841156,16.662560112224785,14.247827756864481,18.258841978549132,18.381225872773825,22.281127318595818,18.48095174374898,17.2033725689786,20.669724788056193,21.004014180002375,15.110961218124867,11.672764793380132,22.006535109685228,15.697248119103808,8.603574971749286,13.431798555725976,13.806821925203641,13.110878890716128,18.440912375245702,22.190559578682816,9.349203530238398,17.6486052905964,18.28229485302449,16.074322877546777,20.690349326179778,20.660743641472294,13.704519104775235,18.514215252426425,9.794281303807818,21.72139461935624,19.45630723083798,15.385375779818668,9.95224922730522,17.991021804079942,11.285087783774607,11.835580241040113,17.588078786717816,17.483934788831373,17.76791148643998,22.736086129219096,11.912165346495923,12.862301034451125,11.108092151665709,10.35809606829261,8.670392852632629,21.487894656607274,17.792348116883005,10.161024544192154,22.113554899428703,22.823867771604796,9.422115475665915,10.11431329234711,22.4015818488188,14.773803353636648,15.457734056814928,12.703299322690475,8.167359140848815,11.904044413518626,12.552495717504861,8.923289639953543,19.79278208358258,21.33493195989942,10.630760363018926,13.450763778228907,19.046183454196758,21.003637787537695,18.934680327312883,20.05086838720702,9.01972903818429,18.359010676048275,20.53462385390612,15.820561514135246,22.093846796065975,15.758310549650158,8.841133883829796,13.347784038385708,21.5451234208998,17.522467852460057,14.847942376591167,12.30242384374883,19.6011019774953,8.57230969312115,22.056185468997544],&quot;alpha&quot;:[0.5815955066571786,0.9262834381158628,0.9762546588812443,0.015001339544691628,0.6460049176776934,0.6719476270804425,0.9448456750203468,0.6094197992788342,0.49259621831408684,0.6447727977592654,0.9376909669899137,0.13923288879421147,0.9704184277063265,0.3167102208060115,0.9343604452224965,0.8561780752627344,0.9891209198997748,0.6000293046890005,0.643437593342547,0.2730209377213373,0.8042548254005103,0.8967419311584911,0.605862653074105,0.8503727281358379,0.7448003851429325,0.11482520527038853,0.6344735243907164,0.47841755830409194,0.9583124583272139,0.031237179767628742,0.28543707844857913,0.7983781831807424,0.4277878280907741,0.4450279719048076,0.9917240005524607,0.31599188312660853,0.3108842030713086,0.7214704049862551,0.06825198106076436,0.7474560028025463,0.17395913175209277,0.04088173729739386,0.38871776153800264,0.8682875393157073,0.719182277693399,0.22773544329746476,0.5743864436221459,0.1536933442813584,0.301355163525705,0.11063014292986106,0.4170215050120849,0.38364081580552767,0.3042157834577043,0.6438225404331512,0.7919629133469843,0.548564324572853,0.4357025124879562,0.70319147453396,0.4201348128778982,0.948637939104481,0.015082435777288405,0.22970581444626603,0.5637034847119016,0.5885796819781896,0.09888566164930634,0.2973873919399995,0.09439126706823175,0.819467739407955,0.9104636740246402,0.09947983680815187,0.8999424250097535,0.04043038630656104,0.038516196872075414,0.8995448446708222,0.435829593459215,0.962338103495829,0.7995535371540576,0.1763570645760385,0.9777355600989883,0.8945633826371122,0.19673094216040432,0.7301742623900142,0.2448145349106431,0.6052384368160146,0.5273919213556222,0.7089963367904502,0.5238216802500641,0.3147291560782608,0.9167220188560413,0.730463269662651,0.6120397281244372,0.1454146414288534,0.8912429965586914,0.5050626638382508,0.966123244733825,0.8352119719056256,0.5350439442201291,0.19095165078717335,0.3590420439202515,0.6413404729539968]}\" data-images=\"null\" data-options=\"{&quot;width&quot;:600,&quot;height&quot;:null,&quot;description&quot;:null,&quot;tooltips&quot;:true,&quot;zoom&quot;:true,&quot;brush&quot;:true}\" id=\"viz-724555e5-df9b-4c58-a455-a3afaa6d5e07\" data-initialized=\"false\" class=\"feed-item\"></div></div></div></div><script>window.lightning = window.lightning || {};\n",
       "window.lightning.host = \"http://public.lightning-viz.org/\" || 'http://127.0.0.1:3000/';\n",
       "window.lightning.vizCount = (window.lightning.vizCount + 1) || 1;\n",
       "window.lightning.requiredVizTypes = window.lightning.requiredVizTypes || [];\n",
       "if(window.lightning.requiredVizTypes.indexOf(\"scatter\") === -1) {\n",
       "    window.lightning.requiredVizTypes.push(\"scatter\");\n",
       "}\n",
       "window._require = window.require;\n",
       "window.require = undefined;\n",
       "window._define = window.define;\n",
       "window.define = undefined;</script><script src=\"http://public.lightning-viz.org/js/embed.js\"></script>"
      ],
      "text/plain": [
       "<lightning.types.plots.Scatter at 0x11789d550>"
      ]
     },
     "execution_count": 22,
     "metadata": {},
     "output_type": "execute_result"
    }
   ],
   "source": [
    "n = 100\n",
    "x = random.randn(n)\n",
    "y = random.randn(n)\n",
    "c = [asarray(color_palette('Blues', 100)[random.choice(range(100))])*255 for i in range(n)]\n",
    "a = random.rand(n)\n",
    "s = random.rand(n)*15+8\n",
    "lgn.scatter(x, y, color=c, alpha=a, size=s)"
   ]
  },
  {
   "cell_type": "markdown",
   "metadata": {},
   "source": [
    "---\n",
    "# Vincent: A Python to Vega Translator"
   ]
  },
  {
   "cell_type": "markdown",
   "metadata": {},
   "source": [
    "[Contenido](#Contenido)"
   ]
  },
  {
   "cell_type": "markdown",
   "metadata": {},
   "source": [
    "> [Vicent](https://github.com/wrobstory/vincent)  "
   ]
  },
  {
   "cell_type": "markdown",
   "metadata": {},
   "source": [
    "Permite hacer gráficos en Python usando Javascript."
   ]
  },
  {
   "cell_type": "markdown",
   "metadata": {},
   "source": [
    "La documentación se encuentra disponible [aquí](https://vincent.readthedocs.io/en/latest/)"
   ]
  },
  {
   "cell_type": "markdown",
   "metadata": {
    "collapsed": true
   },
   "source": [
    "---\n",
    "# Veusz -- A scientific plotting package"
   ]
  },
  {
   "cell_type": "markdown",
   "metadata": {},
   "source": [
    "[Contenido](#Contenido)"
   ]
  },
  {
   "cell_type": "markdown",
   "metadata": {},
   "source": [
    "> [Veusz](http://home.gna.org/veusz/)"
   ]
  },
  {
   "cell_type": "markdown",
   "metadata": {
    "collapsed": true
   },
   "source": [
    "Es una herramienta escrita en Python para la visualización interactiva de datos.\n",
    "\n",
    "<img src=\"images/veusz_mac_mainwin.png\" width=\"750\" >"
   ]
  },
  {
   "cell_type": "markdown",
   "metadata": {},
   "source": [
    "---\n",
    "# PyQtGraph -- Scientific Graphics and GUI Library for Python"
   ]
  },
  {
   "cell_type": "markdown",
   "metadata": {},
   "source": [
    "[Contenido](#Contenido)"
   ]
  },
  {
   "cell_type": "markdown",
   "metadata": {},
   "source": [
    "Sitio web: http://www.pyqtgraph.org\n",
    "\n"
   ]
  },
  {
   "cell_type": "markdown",
   "metadata": {},
   "source": [
    "---\n",
    "# PhosphorJS\n",
    "Sitio web: https://phosphorjs.github.io"
   ]
  },
  {
   "cell_type": "markdown",
   "metadata": {},
   "source": [
    "[Contenido](#Contenido)"
   ]
  },
  {
   "cell_type": "markdown",
   "metadata": {},
   "source": [
    "---\n",
    "# Networkx"
   ]
  },
  {
   "cell_type": "markdown",
   "metadata": {},
   "source": [
    "[Contenido](#Contenido)"
   ]
  },
  {
   "cell_type": "markdown",
   "metadata": {},
   "source": [
    "Sitio web: https://networkx.github.io/download.html\n",
    "\n",
    "Instalación:\n",
    "```\n",
    "conda install networkx\n",
    "```"
   ]
  },
  {
   "cell_type": "markdown",
   "metadata": {},
   "source": [
    "---\n",
    "# MPLD3: Bringing Matplotlib to the Browser"
   ]
  },
  {
   "cell_type": "markdown",
   "metadata": {},
   "source": [
    "[Contenido](#Contenido)"
   ]
  },
  {
   "cell_type": "markdown",
   "metadata": {},
   "source": [
    "Sitio web: http://mpld3.github.io\n",
    "\n",
    "Instalación:"
   ]
  },
  {
   "cell_type": "code",
   "execution_count": 46,
   "metadata": {},
   "outputs": [
    {
     "name": "stdout",
     "output_type": "stream",
     "text": [
      "Fetching package metadata .........\n",
      "Solving package specifications: .\n"
     ]
    },
    {
     "name": "stderr",
     "output_type": "stream",
     "text": [
      "\n",
      "UnsatisfiableError: The following specifications were found to be in conflict:\n",
      "  - mpld3 -> python 2.7* -> openssl 1.0.1*\n",
      "  - python 3.6*\n",
      "Use \"conda info <package>\" to see the dependencies for each package.\n",
      "\n"
     ]
    }
   ],
   "source": [
    "%%sh\n",
    "conda install mpld3"
   ]
  },
  {
   "cell_type": "code",
   "execution_count": 47,
   "metadata": {},
   "outputs": [
    {
     "ename": "ModuleNotFoundError",
     "evalue": "No module named 'mpld3'",
     "output_type": "error",
     "traceback": [
      "\u001b[0;31m---------------------------------------------------------------------------\u001b[0m",
      "\u001b[0;31mModuleNotFoundError\u001b[0m                       Traceback (most recent call last)",
      "\u001b[0;32m<ipython-input-47-4e27208730e8>\u001b[0m in \u001b[0;36m<module>\u001b[0;34m()\u001b[0m\n\u001b[1;32m      2\u001b[0m \u001b[0;32mimport\u001b[0m \u001b[0mnumpy\u001b[0m \u001b[0;32mas\u001b[0m \u001b[0mnp\u001b[0m\u001b[0;34m\u001b[0m\u001b[0m\n\u001b[1;32m      3\u001b[0m \u001b[0;32mimport\u001b[0m \u001b[0mmatplotlib\u001b[0m\u001b[0;34m.\u001b[0m\u001b[0mpyplot\u001b[0m \u001b[0;32mas\u001b[0m \u001b[0mplt\u001b[0m\u001b[0;34m\u001b[0m\u001b[0m\n\u001b[0;32m----> 4\u001b[0;31m \u001b[0;32mimport\u001b[0m \u001b[0mmpld3\u001b[0m\u001b[0;34m\u001b[0m\u001b[0m\n\u001b[0m\u001b[1;32m      5\u001b[0m \u001b[0mmpld3\u001b[0m\u001b[0;34m.\u001b[0m\u001b[0menable_notebook\u001b[0m\u001b[0;34m(\u001b[0m\u001b[0;34m)\u001b[0m\u001b[0;34m\u001b[0m\u001b[0m\n",
      "\u001b[0;31mModuleNotFoundError\u001b[0m: No module named 'mpld3'"
     ]
    }
   ],
   "source": [
    "%matplotlib inline\n",
    "import numpy as np\n",
    "import matplotlib.pyplot as plt\n",
    "import mpld3\n",
    "mpld3.enable_notebook()"
   ]
  },
  {
   "cell_type": "code",
   "execution_count": 48,
   "metadata": {},
   "outputs": [
    {
     "ename": "ModuleNotFoundError",
     "evalue": "No module named 'mpld3'",
     "output_type": "error",
     "traceback": [
      "\u001b[0;31m---------------------------------------------------------------------------\u001b[0m",
      "\u001b[0;31mModuleNotFoundError\u001b[0m                       Traceback (most recent call last)",
      "\u001b[0;32m<ipython-input-48-e1495bd5107d>\u001b[0m in \u001b[0;36m<module>\u001b[0;34m()\u001b[0m\n\u001b[0;32m----> 1\u001b[0;31m \u001b[0;32mfrom\u001b[0m \u001b[0mmpld3\u001b[0m \u001b[0;32mimport\u001b[0m \u001b[0mplugins\u001b[0m\u001b[0;34m\u001b[0m\u001b[0m\n\u001b[0m\u001b[1;32m      2\u001b[0m \u001b[0mfig\u001b[0m\u001b[0;34m,\u001b[0m \u001b[0max\u001b[0m \u001b[0;34m=\u001b[0m \u001b[0mplt\u001b[0m\u001b[0;34m.\u001b[0m\u001b[0msubplots\u001b[0m\u001b[0;34m(\u001b[0m\u001b[0;34m)\u001b[0m\u001b[0;34m\u001b[0m\u001b[0m\n\u001b[1;32m      3\u001b[0m points = ax.scatter(np.random.rand(40), np.random.rand(40),\n\u001b[1;32m      4\u001b[0m                     s=300, alpha=0.3)\n\u001b[1;32m      5\u001b[0m \u001b[0;34m\u001b[0m\u001b[0m\n",
      "\u001b[0;31mModuleNotFoundError\u001b[0m: No module named 'mpld3'"
     ]
    }
   ],
   "source": [
    "from mpld3 import plugins\n",
    "fig, ax = plt.subplots()\n",
    "points = ax.scatter(np.random.rand(40), np.random.rand(40),\n",
    "                    s=300, alpha=0.3)\n",
    "\n",
    "labels = [\"Point {0}\".format(i) for i in range(40)]\n",
    "tooltip = plugins.PointLabelTooltip(points, labels)\n",
    "\n",
    "plugins.connect(fig, tooltip)"
   ]
  },
  {
   "cell_type": "markdown",
   "metadata": {},
   "source": [
    "---\n",
    "# VisPy"
   ]
  },
  {
   "cell_type": "markdown",
   "metadata": {},
   "source": [
    "[Contenido](#Contenido)"
   ]
  },
  {
   "cell_type": "markdown",
   "metadata": {},
   "source": [
    "Sitio web: http://vispy.org/index.html"
   ]
  },
  {
   "cell_type": "markdown",
   "metadata": {},
   "source": [
    "---\n",
    "# PyNGL & PyNIO"
   ]
  },
  {
   "cell_type": "markdown",
   "metadata": {},
   "source": [
    "[Contenido](#Contenido)"
   ]
  },
  {
   "cell_type": "markdown",
   "metadata": {},
   "source": [
    "Sitio web: https://www.pyngl.ucar.edu/Examples/index.shtml"
   ]
  },
  {
   "cell_type": "markdown",
   "metadata": {},
   "source": [
    "---\n",
    "# PyQwt plots data with Numerical Python and PyQt"
   ]
  },
  {
   "cell_type": "markdown",
   "metadata": {},
   "source": [
    "[Contenido](#Contenido)"
   ]
  },
  {
   "cell_type": "markdown",
   "metadata": {},
   "source": [
    "Sitio web: http://pyqwt.sourceforge.net"
   ]
  },
  {
   "cell_type": "markdown",
   "metadata": {
    "collapsed": true
   },
   "source": [
    "---"
   ]
  },
  {
   "cell_type": "markdown",
   "metadata": {},
   "source": [
    "Gráficos Interactivos\n",
    "===\n",
    "\n",
    "**Juan David Velásquez Henao**  \n",
    "jdvelasq@unal.edu.co   \n",
    "Universidad Nacional de Colombia, Sede Medellín  \n",
    "Facultad de Minas  \n",
    "Medellín, Colombia\n",
    "\n",
    "---\n",
    "\n",
    "Haga click [aquí](https://github.com/jdvelasq/IPy-for-data-science/blob/master/IPy-08-graficos-interactivos.ipynb) para acceder a la última versión online\n",
    "\n",
    "Haga click [aquí](http://nbviewer.jupyter.org/github/jdvelasq/IPy-for-data-science/blob/master/IPy-08-graficos-interactivos.ipynb) para ver la última versión online en `nbviewer`. \n",
    "\n",
    "---"
   ]
  }
 ],
 "metadata": {
  "anaconda-cloud": {},
  "kernelspec": {
   "display_name": "Python 3",
   "language": "python",
   "name": "python3"
  },
  "language_info": {
   "codemirror_mode": {
    "name": "ipython",
    "version": 3
   },
   "file_extension": ".py",
   "mimetype": "text/x-python",
   "name": "python",
   "nbconvert_exporter": "python",
   "pygments_lexer": "ipython3",
   "version": "3.6.1"
  }
 },
 "nbformat": 4,
 "nbformat_minor": 1
}
