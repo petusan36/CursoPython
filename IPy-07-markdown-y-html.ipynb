{
 "cells": [
  {
   "cell_type": "markdown",
   "metadata": {},
   "source": [
    "Markdown y html en Jupyter notebooks\n",
    "===\n",
    "\n",
    "**Juan David Velásquez Henao**  \n",
    "jdvelasq@unal.edu.co   \n",
    "Universidad Nacional de Colombia, Sede Medellín  \n",
    "Facultad de Minas  \n",
    "Medellín, Colombia\n",
    "\n",
    "---\n",
    "\n",
    "Haga click [aquí](https://github.com/jdvelasq/IPy-for-data-science/blob/master/IPy-07-markdown-y-html.ipynb) para acceder a la última versión online\n",
    "\n",
    "Haga click [aquí](http://nbviewer.jupyter.org/github/jdvelasq/IPy-for-data-science/blob/master/IPy-07-markdown-y-html.ipynb) para ver la última versión online en `nbviewer`. \n",
    "\n",
    "---"
   ]
  },
  {
   "cell_type": "markdown",
   "metadata": {},
   "source": [
    "#### Contenido"
   ]
  },
  {
   "cell_type": "markdown",
   "metadata": {},
   "source": [
    "> * [Parágrafos, encabezados y citas](#Parágrafos,-encabezados-y-citas)\n",
    "* [Enfasis](#Enfasis)\n",
    "* [Listas sin numeración](#Listas-sin-numeración)\n",
    "* [Listas enumeradas](#Listas-enumeradas)\n",
    "* [Vínculos](#Vínculos)\n",
    "* [Vínculos tipo referencia ](#Vínculos-tipo-referencia)\n",
    "* [Vínculos internos](#Vínculos-internos)\n",
    "* [Imágenes](#Imágenes)\n",
    "* [Código fuente y salida de programas](#Código-fuente-y-salida-de-programas)\n",
    "* [Latex](#Latex)\n",
    "* [Tablas](#Tablas)\n",
    "* [Lineas horizontales](#Lineas-horizontales)\n",
    "* [Ejemplos de HTML sin equivalentes en Markdown](#Ejemplos-de-HTML-sin-equivalentes-en-Markdown)"
   ]
  },
  {
   "cell_type": "markdown",
   "metadata": {},
   "source": [
    "**Bibliografía**.\n",
    "\n",
    "> La misma sintaxis se aplica a los documentos de RStudio  \n",
    "\n",
    "> Basado en el sitio https://daringfireball.net/projects/markdown/basics  y  http://jupyter-notebook.readthedocs.org/en/latest/examples/Notebook/rstversions/Working%20With%20Markdown%20Cells.html\n",
    "\n",
    "> Para aprender más sobre html y páginas web haga click [aquí](http://www.w3schools.com)\n",
    "\n",
    "> Los notebooks pueden hacerse disponibles en internet (solo lectura) usando: http://nbviewer.jupyter.org"
   ]
  },
  {
   "cell_type": "markdown",
   "metadata": {},
   "source": [
    "**Nota.**\n",
    "> IPython tiene opciones para visualizar salidas en latex y html (entre otros). Haga click [aquí](https://github.com/ipython/ipython-in-depth/blob/1905adca735c567884c5db8c1b6295b0e1d7a218/examples/IPython%20Kernel/Rich%20Output.ipynb) para acceder a un tutorial. "
   ]
  },
  {
   "cell_type": "markdown",
   "metadata": {},
   "source": [
    "<hr style=\"height:3px\">\n",
    "# Parágrafos, encabezados y citas"
   ]
  },
  {
   "cell_type": "markdown",
   "metadata": {},
   "source": [
    "[Contenido](#Contenido)"
   ]
  },
  {
   "cell_type": "markdown",
   "metadata": {},
   "source": [
    "<center>**Markdown**</center>"
   ]
  },
  {
   "cell_type": "raw",
   "metadata": {},
   "source": [
    "Encabezado de primer nivel\n",
    "==\n",
    "\n",
    "Encabezado de segundo nivel\n",
    "--\n",
    "\n",
    "### Encabezado de tercer nivel"
   ]
  },
  {
   "cell_type": "markdown",
   "metadata": {},
   "source": [
    "<center>**HTML**</center>"
   ]
  },
  {
   "cell_type": "raw",
   "metadata": {},
   "source": [
    "<h1>Encabezado de primer nivel</h1>\n",
    "\n",
    "<h2>Encabezado de segundo nivel</h2>\n",
    "\n",
    "<h3>Encabezado de tercer nivel</h3>"
   ]
  },
  {
   "cell_type": "markdown",
   "metadata": {},
   "source": [
    "<center> **Resultado**"
   ]
  },
  {
   "cell_type": "markdown",
   "metadata": {},
   "source": [
    "Encabezado de primer nivel\n",
    "==\n",
    "\n",
    "\n",
    "Encabezado de segundo nivel\n",
    "--\n",
    "\n",
    "### Encabezado de tercer nivel"
   ]
  },
  {
   "cell_type": "markdown",
   "metadata": {},
   "source": [
    "---\n",
    "<center>**Markdown**</center>"
   ]
  },
  {
   "cell_type": "raw",
   "metadata": {},
   "source": [
    "Markdown es un lenguaje de marcado ligero creado por John Gruber que \n",
    "trata de conseguir la máxima legibilidad y facilidad de publicación \n",
    "tanto en sus forma de entrada como de salida, inspirándose en \n",
    "muchas convenciones existentes para marcar mensajes de correo \n",
    "electrónico usando texto plano. \n",
    "\n",
    "> Markdown es un lenguaje de marcado ligero creado por John Gruber que \n",
    "trata de conseguir la máxima legibilidad y facilidad de publicación \n",
    "tanto en sus forma de entrada como de salida, inspirándose en \n",
    "muchas convenciones existentes para marcar mensajes de correo \n",
    "electrónico usando texto plano. "
   ]
  },
  {
   "cell_type": "markdown",
   "metadata": {},
   "source": [
    "<center>**HTML**</center>"
   ]
  },
  {
   "cell_type": "raw",
   "metadata": {
    "collapsed": true
   },
   "source": [
    "<p>Markdown es un lenguaje de marcado ligero creado por John Gruber que \n",
    "trata de conseguir la máxima legibilidad y facilidad de publicación \n",
    "tanto en sus forma de entrada como de salida, inspirándose en \n",
    "muchas convenciones existentes para marcar mensajes de correo \n",
    "electrónico usando texto plano. </p>\n",
    "\n",
    "<blockquote>Markdown es un lenguaje de marcado ligero creado por John Gruber que \n",
    "trata de conseguir la máxima legibilidad y facilidad de publicación \n",
    "tanto en sus forma de entrada como de salida, inspirándose en \n",
    "muchas convenciones existentes para marcar mensajes de correo \n",
    "electrónico usando texto plano.\n",
    "</blockquote>\n",
    "\n",
    "<blockquote><div style=\"background-color:#DCDCDC; color:#000000; font-style: normal; font-family: Georgia;\">\n",
    "Markdown es un lenguaje de marcado ligero creado por John Gruber que \n",
    "trata de conseguir la máxima legibilidad y facilidad de publicación \n",
    "tanto en sus forma de entrada como de salida, inspirándose en \n",
    "muchas convenciones existentes para marcar mensajes de correo \n",
    "electrónico usando texto plano.\n",
    "</div></blockquote>\n"
   ]
  },
  {
   "cell_type": "markdown",
   "metadata": {},
   "source": [
    "<center> **Resultado**"
   ]
  },
  {
   "cell_type": "markdown",
   "metadata": {},
   "source": [
    "<p>Markdown es un lenguaje de marcado ligero creado por John Gruber que \n",
    "trata de conseguir la máxima legibilidad y facilidad de publicación \n",
    "tanto en sus forma de entrada como de salida, inspirándose en \n",
    "muchas convenciones existentes para marcar mensajes de correo \n",
    "electrónico usando texto plano. </p>\n",
    "\n",
    "<blockquote>Markdown es un lenguaje de marcado ligero creado por John Gruber que \n",
    "trata de conseguir la máxima legibilidad y facilidad de publicación \n",
    "tanto en sus forma de entrada como de salida, inspirándose en \n",
    "muchas convenciones existentes para marcar mensajes de correo \n",
    "electrónico usando texto plano.\n",
    "</blockquote>\n",
    "\n",
    "<blockquote><div style=\"background-color:#DCDCDC; color:#000000; font-style: normal; font-family: Georgia;\">\n",
    "Markdown es un lenguaje de marcado ligero creado por John Gruber que \n",
    "trata de conseguir la máxima legibilidad y facilidad de publicación \n",
    "tanto en sus forma de entrada como de salida, inspirándose en \n",
    "muchas convenciones existentes para marcar mensajes de correo \n",
    "electrónico usando texto plano.\n",
    "</div></blockquote>"
   ]
  },
  {
   "cell_type": "markdown",
   "metadata": {},
   "source": [
    "<hr style=\"height:3px\">\n",
    "# Enfasis"
   ]
  },
  {
   "cell_type": "markdown",
   "metadata": {},
   "source": [
    "[Contenido](#Contenido)"
   ]
  },
  {
   "cell_type": "markdown",
   "metadata": {},
   "source": [
    "<center>**Markdown**</center>"
   ]
  },
  {
   "cell_type": "raw",
   "metadata": {},
   "source": [
    "Algunas de estas palabras son *enfatizadas*.\n",
    "\n",
    "Algunas de estas palabras también son _enfatizadas_.\n",
    "\n",
    "Use dos asteriscos para **énfasis fuerte**.\n",
    "\n",
    "O si lo prefiere dos __guiones bajos__.\n",
    "\n",
    "También se puede ~~tachar~~ palabras"
   ]
  },
  {
   "cell_type": "markdown",
   "metadata": {},
   "source": [
    "<center>**HTML**</center>"
   ]
  },
  {
   "cell_type": "raw",
   "metadata": {},
   "source": [
    "<p>Algunas de estas palabras son <em>enfatizadas</em>.</p>\n",
    "\n",
    "<p>Algunas de estas palabras también son <em>enfatizadas</em>.</p>\n",
    "\n",
    "<p>Use dos asteriscos para <strong>énfasis fuerte</strong>.</p>\n",
    "\n",
    "<p>O si lo prefiere dos <strong>guiones bajos</strong>.</p>"
   ]
  },
  {
   "cell_type": "markdown",
   "metadata": {},
   "source": [
    "<center> **Resultado**"
   ]
  },
  {
   "cell_type": "markdown",
   "metadata": {},
   "source": [
    "<p>Algunas de estas palabras son <em>enfatizadas</em>.</p>\n",
    "\n",
    "<p>Algunas de estas palabras también son <em>enfatizadas</em>.</p>\n",
    "\n",
    "<p>Use dos asteriscos para <strong>énfasis fuerte</strong>.</p>\n",
    "\n",
    "<p>O si lo prefiere dos <strong>guiones bajos</strong>.</p>"
   ]
  },
  {
   "cell_type": "markdown",
   "metadata": {},
   "source": [
    "<hr style=\"height:3px\">\n",
    "# Listas sin numeración"
   ]
  },
  {
   "cell_type": "markdown",
   "metadata": {},
   "source": [
    "[Contenido](#Contenido)"
   ]
  },
  {
   "cell_type": "markdown",
   "metadata": {},
   "source": [
    "<center>**Markdown**</center>"
   ]
  },
  {
   "cell_type": "raw",
   "metadata": {},
   "source": [
    "* Uno\n",
    "    + a\n",
    "    + b\n",
    "    + c\n",
    "* Dos\n",
    "* Tres"
   ]
  },
  {
   "cell_type": "markdown",
   "metadata": {},
   "source": [
    "* Uno\n",
    "    + a\n",
    "    + b\n",
    "    + c\n",
    "* Dos\n",
    "* Tres"
   ]
  },
  {
   "cell_type": "raw",
   "metadata": {},
   "source": [
    "+ Uno\n",
    "+ Dos \n",
    "+ Tres"
   ]
  },
  {
   "cell_type": "markdown",
   "metadata": {},
   "source": [
    "+ Uno\n",
    "+ Dos \n",
    "+ Tres"
   ]
  },
  {
   "cell_type": "raw",
   "metadata": {},
   "source": [
    "- Uno\n",
    "- Dos \n",
    "- Tres"
   ]
  },
  {
   "cell_type": "markdown",
   "metadata": {},
   "source": [
    "- Uno\n",
    "- Dos \n",
    "- Tres"
   ]
  },
  {
   "cell_type": "markdown",
   "metadata": {},
   "source": [
    "<center>**HTML**</center>"
   ]
  },
  {
   "cell_type": "raw",
   "metadata": {},
   "source": [
    "<ul>     \n",
    "  <li>Uno</li>  \n",
    "  <li>Dos</li>   \n",
    "  <li>Tres</li> \n",
    "</ul>"
   ]
  },
  {
   "cell_type": "markdown",
   "metadata": {},
   "source": [
    "<ul>   \n",
    "  <li>Uno</li>   \n",
    "  <li>Dos</li>    \n",
    "  <li>Tres</li> \n",
    " </ul>"
   ]
  },
  {
   "cell_type": "markdown",
   "metadata": {},
   "source": [
    "<hr style=\"height:3px\">\n",
    "# Listas enumeradas"
   ]
  },
  {
   "cell_type": "markdown",
   "metadata": {},
   "source": [
    "[Contenido](#Contenido)"
   ]
  },
  {
   "cell_type": "markdown",
   "metadata": {},
   "source": [
    "<center>**Markdown**</center>"
   ]
  },
  {
   "cell_type": "raw",
   "metadata": {},
   "source": [
    "1. Uno\n",
    "25. Dos\n",
    "3. Tres"
   ]
  },
  {
   "cell_type": "markdown",
   "metadata": {},
   "source": [
    "1. Uno\n",
    "25. Dos\n",
    "3. Tres"
   ]
  },
  {
   "cell_type": "raw",
   "metadata": {},
   "source": [
    "1. Uno  \n",
    "texto texto texto\n",
    "  \n",
    "1. Dos  \n",
    "texto texto texto\n",
    "\n",
    "3. Tres  \n",
    "texto texto texto"
   ]
  },
  {
   "cell_type": "markdown",
   "metadata": {},
   "source": [
    "1. Uno  \n",
    "texto texto texto\n",
    "  \n",
    "1. Dos  \n",
    "texto texto texto\n",
    "\n",
    "3. Tres  \n",
    "texto texto texto"
   ]
  },
  {
   "cell_type": "markdown",
   "metadata": {},
   "source": [
    "<center>**HTML**</center>"
   ]
  },
  {
   "cell_type": "raw",
   "metadata": {},
   "source": [
    "<ol> \n",
    "  <li>Uno</li>  \n",
    "  <li>Dos</li>   \n",
    "  <li>Tres</li> \n",
    " </ol>"
   ]
  },
  {
   "cell_type": "markdown",
   "metadata": {},
   "source": [
    "<ol>\n",
    "  <li>Uno</li>\n",
    "  <li>Dos</li>\n",
    "  <li>Tres</li> \n",
    "</ol>"
   ]
  },
  {
   "cell_type": "raw",
   "metadata": {},
   "source": [
    "<ol>\n",
    "<li> <p>Uno </p>  <p>texto texto texto</p>  </li>\n",
    "<li> <p>Dos </p>  <p>texto texto texto</p>  </li>\n",
    "<li> <p>Tres</p>  <p>texto texto texto</p>  </li>\n",
    "</ol>"
   ]
  },
  {
   "cell_type": "markdown",
   "metadata": {},
   "source": [
    "<ol>\n",
    "<li> <p>Uno </p>  <p>texto texto texto</p>  </li>\n",
    "<li> <p>Dos </p>  <p>texto texto texto</p>  </li>\n",
    "<li> <p>Tres</p>  <p>texto texto texto</p>  </li>\n",
    "</ol>"
   ]
  },
  {
   "cell_type": "markdown",
   "metadata": {},
   "source": [
    "<hr style=\"height:3px\">\n",
    "# Vínculos"
   ]
  },
  {
   "cell_type": "markdown",
   "metadata": {},
   "source": [
    "[Contenido](#Contenido)"
   ]
  },
  {
   "cell_type": "markdown",
   "metadata": {},
   "source": [
    "<center>**Markdown**</center>"
   ]
  },
  {
   "cell_type": "raw",
   "metadata": {},
   "source": [
    "Este es un vínculo a [GOOGLE](http://www.google.com)."
   ]
  },
  {
   "cell_type": "markdown",
   "metadata": {},
   "source": [
    "<center>**HTML**</center>"
   ]
  },
  {
   "cell_type": "raw",
   "metadata": {},
   "source": [
    "<p>Este es un vínculo a <a href=\"http://www.google.com\">GOOGLE</a>.</p>"
   ]
  },
  {
   "cell_type": "markdown",
   "metadata": {},
   "source": [
    "<center> **Resultado**"
   ]
  },
  {
   "cell_type": "markdown",
   "metadata": {},
   "source": [
    "<p>Este es un vínculo a <a href=\"http://www.google.com\">GOOGLE</a>.</p>"
   ]
  },
  {
   "cell_type": "markdown",
   "metadata": {},
   "source": [
    "<hr style=\"height:3px\">\n",
    "# Vínculos tipo referencia "
   ]
  },
  {
   "cell_type": "markdown",
   "metadata": {},
   "source": [
    "[Contenido](#Contenido)"
   ]
  },
  {
   "cell_type": "markdown",
   "metadata": {},
   "source": [
    "<center>**Markdown**</center>"
   ]
  },
  {
   "cell_type": "raw",
   "metadata": {},
   "source": [
    "Estos son vinculos referenciados a [Anaconda][1]  y [Python][2].\n",
    "\n",
    "[1]: https://www.continuum.io \"Continuum Analytics\"\n",
    "[2]: https://www.python.org \"Python Software Fundation\""
   ]
  },
  {
   "cell_type": "markdown",
   "metadata": {},
   "source": [
    "Estos son vinculos referenciados a [Anaconda][1]  y [Python][2].\n",
    "\n",
    "[1]: https://www.continuum.io \"Continuum Analytics\"\n",
    "[2]: https://www.python.org \"Python Software Fundation\""
   ]
  },
  {
   "cell_type": "markdown",
   "metadata": {},
   "source": [
    "<center>**HTML**</center>"
   ]
  },
  {
   "cell_type": "raw",
   "metadata": {},
   "source": [
    "<p>Estos son vinculos referenciados a <a href=\"https://www.continuum.io\" title=\"Anaconda\">Continuum Analytics</a> y <a href=\"https://www.python.org \" title=\"Python\"> Python Software Fundation</a>. <p>"
   ]
  },
  {
   "cell_type": "markdown",
   "metadata": {},
   "source": [
    "<p>Estos son vinculos referenciados a <a href=\"https://www.continuum.io\" title=\"Anaconda\">Continuum Analytics</a> y <a href=\"https://www.python.org \" title=\"Python\"> Python Software Fundation</a>. <p>"
   ]
  },
  {
   "cell_type": "raw",
   "metadata": {},
   "source": [
    "Written by <a href=\"mailto:webmaster@example.com\">Jon Doe</a>."
   ]
  },
  {
   "cell_type": "markdown",
   "metadata": {},
   "source": [
    "Written by <a href=\"mailto:webmaster@example.com\">Jon Doe</a>."
   ]
  },
  {
   "cell_type": "markdown",
   "metadata": {},
   "source": [
    "<hr style=\"height:3px\">\n",
    "# Vínculos internos"
   ]
  },
  {
   "cell_type": "markdown",
   "metadata": {},
   "source": [
    "[Contenido](#Contenido)"
   ]
  },
  {
   "cell_type": "markdown",
   "metadata": {},
   "source": [
    "<center>**Markdown**</center>"
   ]
  },
  {
   "cell_type": "raw",
   "metadata": {},
   "source": [
    "[vínculo a la seccion de abajo](#Imágenes)"
   ]
  },
  {
   "cell_type": "markdown",
   "metadata": {},
   "source": [
    "[vínculo a la seccion de abajo](#Imágenes)"
   ]
  },
  {
   "cell_type": "raw",
   "metadata": {},
   "source": [
    "blah blah blah  \n",
    "blah blah blah  \n",
    "blah blah blah  \n",
    "blah blah blah  \n",
    "blah blah blah  "
   ]
  },
  {
   "cell_type": "markdown",
   "metadata": {},
   "source": [
    "<hr style=\"height:3px\">\n",
    "# Imágenes"
   ]
  },
  {
   "cell_type": "markdown",
   "metadata": {},
   "source": [
    "[Contenido](#Contenido)"
   ]
  },
  {
   "cell_type": "markdown",
   "metadata": {},
   "source": [
    "<center>**Markdown**</center>"
   ]
  },
  {
   "cell_type": "raw",
   "metadata": {},
   "source": [
    "![alt text](by-nc-nd.png \"Titulo\")  "
   ]
  },
  {
   "cell_type": "markdown",
   "metadata": {},
   "source": [
    "![alt text](by-nc-nd.png \"Titulo\")  "
   ]
  },
  {
   "cell_type": "markdown",
   "metadata": {},
   "source": [
    "<center>**HTML**</center>"
   ]
  },
  {
   "cell_type": "raw",
   "metadata": {},
   "source": [
    "<img src=\"by-nc-nd.png\" alt=\"alt text\" title=\"Titulo\" />  "
   ]
  },
  {
   "cell_type": "markdown",
   "metadata": {},
   "source": [
    "<img src=\"by-nc-nd.png\" alt=\"alt text\" title=\"Titulo\" />  "
   ]
  },
  {
   "cell_type": "raw",
   "metadata": {},
   "source": [
    "<img src=\"by-nc-nd.png\" alt=\"alt face\" height=\"42\" width=\"42\">"
   ]
  },
  {
   "cell_type": "markdown",
   "metadata": {},
   "source": [
    "<img src=\"by-nc-nd.png\" alt=\"alt face\" height=\"42\" width=\"42\">"
   ]
  },
  {
   "cell_type": "markdown",
   "metadata": {},
   "source": [
    "**PDF enbebido usando HTML**"
   ]
  },
  {
   "cell_type": "raw",
   "metadata": {},
   "source": [
    "![alt text](rmarkdown-cheatsheet.pdf) "
   ]
  },
  {
   "cell_type": "markdown",
   "metadata": {},
   "source": [
    "![alt text](rmarkdown-cheatsheet.pdf)"
   ]
  },
  {
   "cell_type": "markdown",
   "metadata": {},
   "source": [
    "<hr style=\"height:3px\">\n",
    "# Código fuente y salida de programas"
   ]
  },
  {
   "cell_type": "markdown",
   "metadata": {},
   "source": [
    "[Contenido](#Contenido)"
   ]
  },
  {
   "cell_type": "markdown",
   "metadata": {},
   "source": [
    "<center>**Markdown**</center>"
   ]
  },
  {
   "cell_type": "raw",
   "metadata": {},
   "source": [
    "Se pueden crear bloques de código:\n",
    "\n",
    "    # agregar cuatro espacios al principio de linea\n",
    "    for (i = 1; i < 5; i++)\n",
    "    {\n",
    "        printf('%d', i)\n",
    "    }\n",
    "    \n",
    "O se puede colocar código en linea `cat out.1 out.2`.\n",
    "\n",
    "```\n",
    "Sample output from a computer program\n",
    "```"
   ]
  },
  {
   "cell_type": "markdown",
   "metadata": {},
   "source": [
    "<center>**HTML**</center>"
   ]
  },
  {
   "cell_type": "raw",
   "metadata": {},
   "source": [
    "<p>Se pueden crear bloques de código:</p>\n",
    "\n",
    "<code>\n",
    "    # agregar cuatro espacios al principio de linea\n",
    "    for (i = 1; i < 5; i++)\n",
    "    {\n",
    "        printf('%d', i)\n",
    "    }\n",
    "</code>\n",
    "\n",
    "O se puede colocar código en linea <code>cat out.1 out.2</code>.\n",
    "\n",
    "<samp>Sample output from a computer program</samp>"
   ]
  },
  {
   "cell_type": "markdown",
   "metadata": {},
   "source": [
    "<center> **Resultado**"
   ]
  },
  {
   "cell_type": "markdown",
   "metadata": {},
   "source": [
    "<p>Se pueden crear bloques de código:</p>\n",
    "\n",
    "<code>\n",
    "    # agregar cuatro espacios al principio de linea\n",
    "    for (i = 1; i < 5; i++)\n",
    "    {\n",
    "        printf('%d', i)\n",
    "    }\n",
    "</code>\n",
    "\n",
    "\n",
    "\n",
    "O se puede colocar código en linea <code>cat out.1 out.2</code>.\n",
    "\n",
    "\n",
    "<samp>Sample output from a computer program</samp>"
   ]
  },
  {
   "cell_type": "markdown",
   "metadata": {},
   "source": [
    "---"
   ]
  },
  {
   "cell_type": "markdown",
   "metadata": {},
   "source": [
    "<center>**GitHub Flavored Markdown**\n",
    "\n",
    "Se puede indicar el lenguaje y el sistema agrega sintaxis de colores."
   ]
  },
  {
   "cell_type": "raw",
   "metadata": {},
   "source": [
    "Ejemplo de código en linea:\n",
    "```javascript\n",
    "function fancyAlert(arg) {\n",
    "  if(arg) {\n",
    "    $.facebox({div:'#foo'})\n",
    "  }\n",
    "}\n",
    "```"
   ]
  },
  {
   "cell_type": "markdown",
   "metadata": {},
   "source": [
    "<center>**Resultado**"
   ]
  },
  {
   "cell_type": "markdown",
   "metadata": {},
   "source": [
    "Ejemplo de código en línea:\n",
    "```javascript\n",
    "function fancyAlert(arg) {\n",
    "  if(arg) {\n",
    "    $.facebox({div:'#foo'})\n",
    "  }\n",
    "}\n",
    "```"
   ]
  },
  {
   "cell_type": "markdown",
   "metadata": {},
   "source": [
    "<hr style=\"height:3px\">\n",
    "# Latex"
   ]
  },
  {
   "cell_type": "markdown",
   "metadata": {},
   "source": [
    "[Contenido](#Contenido)"
   ]
  },
  {
   "cell_type": "markdown",
   "metadata": {},
   "source": [
    "Una guía completa sobre latex puede ser encontrada [aquí](http://ftp.ams.org/pub/tex/doc/amsmath/short-math-guide.pdf)."
   ]
  },
  {
   "cell_type": "markdown",
   "metadata": {},
   "source": [
    "<center>**Markdown**</center>"
   ]
  },
  {
   "cell_type": "raw",
   "metadata": {},
   "source": [
    "$$x^2$$"
   ]
  },
  {
   "cell_type": "markdown",
   "metadata": {},
   "source": [
    "$$x^2$$"
   ]
  },
  {
   "cell_type": "raw",
   "metadata": {},
   "source": [
    "$$\\frac{1}{x^2} \\int{\\exp{x^n}} dx$$"
   ]
  },
  {
   "cell_type": "markdown",
   "metadata": {},
   "source": [
    "$$\\frac{1}{x^2} \\int{\\exp{x^n}} dx$$"
   ]
  },
  {
   "cell_type": "markdown",
   "metadata": {},
   "source": [
    "<hr style=\"height:3px\">\n",
    "# Tablas"
   ]
  },
  {
   "cell_type": "markdown",
   "metadata": {},
   "source": [
    "[Contenido](#Contenido)"
   ]
  },
  {
   "cell_type": "markdown",
   "metadata": {},
   "source": [
    "<center>**Markdown**</center>"
   ]
  },
  {
   "cell_type": "raw",
   "metadata": {},
   "source": [
    "titulo 1 MUY MUY LARGO | titulo 2\n",
    ":--------: | -------\n",
    "celda 1-1 | celda 1-2\n",
    "celda 2-1 | celda 2-2"
   ]
  },
  {
   "cell_type": "markdown",
   "metadata": {},
   "source": [
    "titulo 1 MUY MUY LARGO | titulo 2\n",
    ":--------: | -------\n",
    "celda 1-1 | celda 1-2\n",
    "celda 2-1 | celda 2-2"
   ]
  },
  {
   "cell_type": "markdown",
   "metadata": {},
   "source": [
    "<center>**HTML**</center>"
   ]
  },
  {
   "cell_type": "raw",
   "metadata": {},
   "source": [
    "<table>\n",
    "<tr>\n",
    "  <th>January <dialog open>This is an open dialog window</dialog></th>\n",
    "  <th>February</th>\n",
    "  <th>March</th>\n",
    "</tr>\n",
    "<tr>\n",
    "  <td>31</td>\n",
    "  <td>28</td>\n",
    "  <td>31</td>\n",
    "</tr>\n",
    "</table>"
   ]
  },
  {
   "cell_type": "markdown",
   "metadata": {},
   "source": [
    "<table>\n",
    "<tr>\n",
    "  <th>January <dialog open>This is an open dialog window</dialog></th>\n",
    "  <th>February</th>\n",
    "  <th>March</th>\n",
    "</tr>\n",
    "<tr>\n",
    "  <td>31</td>\n",
    "  <td>28</td>\n",
    "  <td>31</td>\n",
    "</tr>\n",
    "</table>"
   ]
  },
  {
   "cell_type": "raw",
   "metadata": {},
   "source": [
    "<table>\n",
    "  <colgroup>\n",
    "    <col span=\"2\" style=\"background-color:red\">\n",
    "    <col style=\"background-color:yellow\">\n",
    "  </colgroup>\n",
    "  <tr>\n",
    "    <th>ISBN</th>\n",
    "    <th>Title</th>\n",
    "    <th>Price</th>\n",
    "  </tr>\n",
    "  <tr>\n",
    "    <td>3476896</td>\n",
    "    <td>My first HTML</td>\n",
    "    <td>$53</td>\n",
    "  </tr>\n",
    "</table>"
   ]
  },
  {
   "cell_type": "markdown",
   "metadata": {},
   "source": [
    "<table>\n",
    "  <colgroup>\n",
    "    <col span=\"2\" style=\"background-color:red\">\n",
    "    <col style=\"background-color:yellow\">\n",
    "  </colgroup>\n",
    "  <tr>\n",
    "    <th>ISBN</th>\n",
    "    <th>Title</th>\n",
    "    <th>Price</th>\n",
    "  </tr>\n",
    "  <tr>\n",
    "    <td>3476896</td>\n",
    "    <td>My first HTML</td>\n",
    "    <td>$53</td>\n",
    "  </tr>\n",
    "</table>"
   ]
  },
  {
   "cell_type": "raw",
   "metadata": {},
   "source": [
    "<table>\n",
    "  <caption>Monthly savings</caption>\n",
    "  <tr>\n",
    "    <th>Month</th>\n",
    "    <th>Savings</th>\n",
    "  </tr>\n",
    "  <tr>\n",
    "    <td>January</td>\n",
    "    <td>$100</td>\n",
    "  </tr>\n",
    "</table>"
   ]
  },
  {
   "cell_type": "markdown",
   "metadata": {},
   "source": [
    "<table>\n",
    "  <caption>Monthly savings</caption>\n",
    "  <tr>\n",
    "    <th>Month</th>\n",
    "    <th>Savings</th>\n",
    "  </tr>\n",
    "  <tr>\n",
    "    <td>January</td>\n",
    "    <td>$100</td>\n",
    "  </tr>\n",
    "</table>"
   ]
  },
  {
   "cell_type": "markdown",
   "metadata": {},
   "source": [
    "<hr style=\"height:3px\">\n",
    "# Lineas horizontales"
   ]
  },
  {
   "cell_type": "markdown",
   "metadata": {},
   "source": [
    "[Contenido](#Contenido)"
   ]
  },
  {
   "cell_type": "markdown",
   "metadata": {},
   "source": [
    "<center>**Markdown**</center>"
   ]
  },
  {
   "cell_type": "raw",
   "metadata": {},
   "source": [
    "***\n",
    "\n",
    "---"
   ]
  },
  {
   "cell_type": "markdown",
   "metadata": {},
   "source": [
    "***\n",
    "\n",
    "---"
   ]
  },
  {
   "cell_type": "markdown",
   "metadata": {},
   "source": [
    "<center>**HTML**</center>"
   ]
  },
  {
   "cell_type": "raw",
   "metadata": {},
   "source": [
    "<hr style=\"height:1px\">\n",
    "\n",
    "<hr style=\"height:1px;background-color:red\">\n",
    "\n",
    "<hr style=\"height:3px;border:3px dotted;color:black;background-color:red;\">"
   ]
  },
  {
   "cell_type": "markdown",
   "metadata": {},
   "source": [
    "<hr style=\"height:1px\">\n",
    "\n",
    "<hr style=\"height:1px;background-color:red\">\n",
    "\n",
    "<hr style=\"height:3px;border:3px dotted;color:black;background-color:red;\">"
   ]
  },
  {
   "cell_type": "markdown",
   "metadata": {},
   "source": [
    "<hr style=\"height:3px\">\n",
    "# Ejemplos de HTML sin equivalentes en Markdown"
   ]
  },
  {
   "cell_type": "markdown",
   "metadata": {},
   "source": [
    "[Contenido](#Contenido)"
   ]
  },
  {
   "cell_type": "raw",
   "metadata": {},
   "source": [
    "<center> Texto centrado </center>"
   ]
  },
  {
   "cell_type": "markdown",
   "metadata": {},
   "source": [
    "<center> Texto centrado </center>"
   ]
  },
  {
   "cell_type": "markdown",
   "metadata": {},
   "source": [
    "---"
   ]
  },
  {
   "cell_type": "raw",
   "metadata": {},
   "source": [
    "<left>text</left>"
   ]
  },
  {
   "cell_type": "markdown",
   "metadata": {},
   "source": [
    "<left>text</left>"
   ]
  },
  {
   "cell_type": "markdown",
   "metadata": {},
   "source": [
    "---"
   ]
  },
  {
   "cell_type": "raw",
   "metadata": {},
   "source": [
    "<br>\n",
    "<br>\n",
    "texto\n",
    "<br>\n",
    "<br>"
   ]
  },
  {
   "cell_type": "markdown",
   "metadata": {},
   "source": [
    "<br>\n",
    "<br>\n",
    "texto\n",
    "<br>\n",
    "<br>"
   ]
  },
  {
   "cell_type": "markdown",
   "metadata": {},
   "source": [
    "---"
   ]
  },
  {
   "cell_type": "raw",
   "metadata": {},
   "source": [
    "<small><small><small> texto pequeño</small></small></small>"
   ]
  },
  {
   "cell_type": "markdown",
   "metadata": {},
   "source": [
    "<small><small><small> texto pequeño</small></small></small>"
   ]
  },
  {
   "cell_type": "markdown",
   "metadata": {},
   "source": [
    "---"
   ]
  },
  {
   "cell_type": "raw",
   "metadata": {},
   "source": [
    "<p> Texto<sub>Texto</sub>   Texto<sup>Texto</sup>  </p>"
   ]
  },
  {
   "cell_type": "markdown",
   "metadata": {},
   "source": [
    "<p> Texto<sub>Texto</sub>   Texto<sup>Texto</sup>  </p>"
   ]
  },
  {
   "cell_type": "markdown",
   "metadata": {},
   "source": [
    "<!-- comentario -->"
   ]
  },
  {
   "cell_type": "markdown",
   "metadata": {},
   "source": [
    "---"
   ]
  },
  {
   "cell_type": "raw",
   "metadata": {},
   "source": [
    "<big> BIG </big>"
   ]
  },
  {
   "cell_type": "markdown",
   "metadata": {},
   "source": [
    "<big> BIG </big>"
   ]
  },
  {
   "cell_type": "markdown",
   "metadata": {},
   "source": [
    "---"
   ]
  },
  {
   "cell_type": "raw",
   "metadata": {},
   "source": [
    "texto <del>XXX</del>"
   ]
  },
  {
   "cell_type": "markdown",
   "metadata": {},
   "source": [
    "texto <del>XXX</del>"
   ]
  },
  {
   "cell_type": "markdown",
   "metadata": {},
   "source": [
    "---"
   ]
  },
  {
   "cell_type": "raw",
   "metadata": {},
   "source": [
    "texto <ins>XXX</ins>  \n",
    "texto <u>XXX</u>"
   ]
  },
  {
   "cell_type": "markdown",
   "metadata": {},
   "source": [
    "texto <ins>XXX</ins>  \n",
    "texto <u>XXX</u>"
   ]
  },
  {
   "cell_type": "markdown",
   "metadata": {},
   "source": [
    "---"
   ]
  },
  {
   "cell_type": "raw",
   "metadata": {},
   "source": [
    "texto <mark> highlighted </mark>"
   ]
  },
  {
   "cell_type": "markdown",
   "metadata": {},
   "source": [
    "texto <mark> highlighted </mark>"
   ]
  },
  {
   "cell_type": "markdown",
   "metadata": {},
   "source": [
    "---"
   ]
  },
  {
   "cell_type": "raw",
   "metadata": {},
   "source": [
    "<div align=\"right\">Texto alineado a la derecha.</div>"
   ]
  },
  {
   "cell_type": "markdown",
   "metadata": {},
   "source": [
    "<div align=\"right\">Texto alineado a la derecha.</div>"
   ]
  },
  {
   "cell_type": "markdown",
   "metadata": {},
   "source": [
    "---"
   ]
  },
  {
   "cell_type": "raw",
   "metadata": {},
   "source": [
    "<dl>\n",
    "  <dt>Coffee</dt>\n",
    "  <dd>Black hot drink</dd>\n",
    "  <dt>Milk</dt>\n",
    "  <dd>White cold drink</dd>\n",
    "</dl>"
   ]
  },
  {
   "cell_type": "markdown",
   "metadata": {},
   "source": [
    "<dl>\n",
    "  <dt>Coffee</dt>\n",
    "  <dd>Black hot drink</dd>\n",
    "  <dt>Milk</dt>\n",
    "  <dd>White cold drink</dd>\n",
    "</dl>"
   ]
  },
  {
   "cell_type": "markdown",
   "metadata": {},
   "source": [
    "---"
   ]
  },
  {
   "cell_type": "raw",
   "metadata": {},
   "source": [
    "<footer>\n",
    "  <p>Posted by: Hege Refsnes</p>\n",
    "  <p>Contact information: <a href=\"mailto:someone@example.com\">\n",
    "  someone@example.com</a>.</p>\n",
    "</footer>"
   ]
  },
  {
   "cell_type": "markdown",
   "metadata": {},
   "source": [
    "<footer>\n",
    "  <p>Posted by: Hege Refsnes</p>\n",
    "  <p>Contact information: <a href=\"mailto:someone@example.com\">\n",
    "  someone@example.com</a>.</p>\n",
    "</footer>"
   ]
  },
  {
   "cell_type": "markdown",
   "metadata": {},
   "source": [
    "---"
   ]
  },
  {
   "cell_type": "raw",
   "metadata": {},
   "source": [
    "<p>Do not forget to buy <mark>milk</mark> today.</p>"
   ]
  },
  {
   "cell_type": "markdown",
   "metadata": {},
   "source": [
    "<p>Do not forget to buy <mark>milk</mark> today.</p>"
   ]
  },
  {
   "cell_type": "markdown",
   "metadata": {},
   "source": [
    "---"
   ]
  },
  {
   "cell_type": "raw",
   "metadata": {},
   "source": [
    "<p>My mother has <span style=\"color:blue\">blue</span> eyes.</p>"
   ]
  },
  {
   "cell_type": "markdown",
   "metadata": {},
   "source": [
    "<p>My mother has <span style=\"color:blue\">blue</span> eyes.</p>"
   ]
  },
  {
   "cell_type": "markdown",
   "metadata": {},
   "source": [
    "---"
   ]
  },
  {
   "cell_type": "raw",
   "metadata": {},
   "source": [
    "<div style=\"width:200px;height:100px;padding:10px;border:1px dotted black;\">\n",
    "Box with a border\n",
    "</div>"
   ]
  },
  {
   "cell_type": "markdown",
   "metadata": {},
   "source": [
    "<div style=\"width:200px;height:100px;padding:10px;border:1px dotted black;\">\n",
    "Box with a border\n",
    "</div>"
   ]
  },
  {
   "cell_type": "markdown",
   "metadata": {},
   "source": [
    "---"
   ]
  },
  {
   "cell_type": "raw",
   "metadata": {},
   "source": [
    "<div style=\"width:200px;height:100px;padding:10px;border:1px dashed yellowgreen;\">\n",
    "Box with a border\n",
    "</div>"
   ]
  },
  {
   "cell_type": "markdown",
   "metadata": {},
   "source": [
    "<div style=\"width:200px;height:100px;padding:10px;border:1px dashed yellowgreen;\">\n",
    "Box with a border\n",
    "</div>"
   ]
  },
  {
   "cell_type": "markdown",
   "metadata": {},
   "source": [
    "---"
   ]
  },
  {
   "cell_type": "raw",
   "metadata": {},
   "source": [
    "<div style=\"width:200px;height:100px;padding:10px;border:10px double yellowgreen;\">\n",
    "Box with a border\n",
    "</div>"
   ]
  },
  {
   "cell_type": "markdown",
   "metadata": {},
   "source": [
    "<div style=\"width:200px;height:100px;padding:10px;border:10px double yellowgreen;\">\n",
    "Box with a border\n",
    "</div>"
   ]
  },
  {
   "cell_type": "markdown",
   "metadata": {},
   "source": [
    "---"
   ]
  },
  {
   "cell_type": "raw",
   "metadata": {},
   "source": [
    "<details>\n",
    "  <summary>Copyright 1999-2014.</summary>\n",
    "  <p> - by Refsnes Data. All Rights Reserved.</p>\n",
    "  <p>All content and graphics on this web site are the property of the company Refsnes Data.</p>\n",
    "</details>"
   ]
  },
  {
   "cell_type": "markdown",
   "metadata": {},
   "source": [
    "<details>\n",
    "  <summary>Copyright 1999-2014.</summary>\n",
    "  <p> - by Refsnes Data. All Rights Reserved.</p>\n",
    "  <p>All content and graphics on this web site are the property of the company Refsnes Data.</p>\n",
    "</details>"
   ]
  },
  {
   "cell_type": "markdown",
   "metadata": {},
   "source": [
    "---"
   ]
  },
  {
   "cell_type": "raw",
   "metadata": {},
   "source": [
    "<h1>HTML</h1>\n",
    "<p>HTML is a language for describing web pages.....</p>\n",
    "<h1>CSS</h1>\n",
    "<p>CSS defines how to display HTML elements.....</p>"
   ]
  },
  {
   "cell_type": "markdown",
   "metadata": {},
   "source": [
    "<h1>HTML</h1>\n",
    "<p>HTML is a language for describing web pages.....</p>\n",
    "<h1>CSS</h1>\n",
    "<p>CSS defines how to display HTML elements.....</p>"
   ]
  },
  {
   "cell_type": "raw",
   "metadata": {},
   "source": [
    "<p>He named his car <i>The lightning</i>, because it was very fast.</p>"
   ]
  },
  {
   "cell_type": "markdown",
   "metadata": {},
   "source": [
    "<p>He named his car <i>The lightning</i>, because it was very fast.</p>"
   ]
  },
  {
   "cell_type": "markdown",
   "metadata": {},
   "source": [
    "---"
   ]
  },
  {
   "cell_type": "raw",
   "metadata": {},
   "source": [
    "<kbd>Keyboard input</kbd>"
   ]
  },
  {
   "cell_type": "markdown",
   "metadata": {},
   "source": [
    "<kbd>Keyboard input</kbd>"
   ]
  },
  {
   "cell_type": "markdown",
   "metadata": {},
   "source": [
    "---"
   ]
  },
  {
   "cell_type": "raw",
   "metadata": {},
   "source": [
    "<nav>\n",
    "  <a href=\"/html/\">HTML</a> |\n",
    "  <a href=\"/css/\">CSS</a> |\n",
    "  <a href=\"/js/\">JavaScript</a> |\n",
    "  <a href=\"/jquery/\">jQuery</a>\n",
    "</nav>"
   ]
  },
  {
   "cell_type": "markdown",
   "metadata": {},
   "source": [
    "<nav>\n",
    "  <a href=\"/html/\">HTML</a> |\n",
    "  <a href=\"/css/\">CSS</a> |\n",
    "  <a href=\"/js/\">JavaScript</a> |\n",
    "  <a href=\"/jquery/\">jQuery</a>\n",
    "</nav>"
   ]
  },
  {
   "cell_type": "markdown",
   "metadata": {},
   "source": [
    "---"
   ]
  },
  {
   "cell_type": "raw",
   "metadata": {},
   "source": [
    "<ol>\n",
    "  <li>Coffee</li>\n",
    "  <li>Tea</li>\n",
    "  <li>Milk</li>\n",
    "</ol>\n",
    "\n",
    "<ol start=\"50\">\n",
    "  <li>Coffee</li>\n",
    "  <li>Tea</li>\n",
    "  <li>Milk</li>\n",
    "</ol>"
   ]
  },
  {
   "cell_type": "markdown",
   "metadata": {},
   "source": [
    "<ol>\n",
    "  <li>Coffee</li>\n",
    "  <li>Tea</li>\n",
    "  <li>Milk</li>\n",
    "</ol>\n",
    "\n",
    "<ol start=\"50\">\n",
    "  <li>Coffee</li>\n",
    "  <li>Tea</li>\n",
    "  <li>Milk</li>\n",
    "</ol>"
   ]
  },
  {
   "cell_type": "markdown",
   "metadata": {},
   "source": [
    "---"
   ]
  },
  {
   "cell_type": "raw",
   "metadata": {},
   "source": [
    "<select>\n",
    "  <optgroup label=\"Swedish Cars\">\n",
    "    <option value=\"volvo\">Volvo</option>\n",
    "    <option value=\"saab\">Saab</option>\n",
    "  </optgroup>\n",
    "  <optgroup label=\"German Cars\">\n",
    "    <option value=\"mercedes\">Mercedes</option>\n",
    "    <option value=\"audi\">Audi</option>\n",
    "  </optgroup>\n",
    "</select>"
   ]
  },
  {
   "cell_type": "markdown",
   "metadata": {},
   "source": [
    "<select>\n",
    "  <optgroup label=\"Swedish Cars\">\n",
    "    <option value=\"volvo\">Volvo</option>\n",
    "    <option value=\"saab\">Saab</option>\n",
    "  </optgroup>\n",
    "  <optgroup label=\"German Cars\">\n",
    "    <option value=\"mercedes\">Mercedes</option>\n",
    "    <option value=\"audi\">Audi</option>\n",
    "  </optgroup>\n",
    "</select>"
   ]
  },
  {
   "cell_type": "markdown",
   "metadata": {},
   "source": [
    "---"
   ]
  },
  {
   "cell_type": "raw",
   "metadata": {},
   "source": [
    "<select>\n",
    "  <option value=\"volvo\">Volvo</option>\n",
    "  <option value=\"saab\">Saab</option>\n",
    "  <option value=\"opel\">Opel</option>\n",
    "  <option value=\"audi\">Audi</option>\n",
    "</select>"
   ]
  },
  {
   "cell_type": "markdown",
   "metadata": {},
   "source": [
    "<select>\n",
    "  <option value=\"volvo\">Volvo</option>\n",
    "  <option value=\"saab\">Saab</option>\n",
    "  <option value=\"opel\">Opel</option>\n",
    "  <option value=\"audi\">Audi</option>\n",
    "</select>"
   ]
  },
  {
   "cell_type": "raw",
   "metadata": {},
   "source": [
    "<form oninput=\"x.value=parseInt(a.value)+parseInt(b.value)\">0\n",
    "  <input type=\"range\" id=\"a\" value=\"50\">100\n",
    "  +<input type=\"number\" id=\"b\" value=\"50\">\n",
    "  =<output name=\"x\" for=\"a b\"></output>\n",
    "</form>"
   ]
  },
  {
   "cell_type": "markdown",
   "metadata": {},
   "source": [
    "<form oninput=\"x.value=parseInt(a.value)+parseInt(b.value)\">0\n",
    "  <input type=\"range\" id=\"a\" value=\"50\">100\n",
    "  +<input type=\"number\" id=\"b\" value=\"50\">\n",
    "  =<output name=\"x\" for=\"a b\"></output>\n",
    "</form>"
   ]
  },
  {
   "cell_type": "raw",
   "metadata": {},
   "source": [
    "<progress value=\"22\" max=\"100\"></progress>"
   ]
  },
  {
   "cell_type": "markdown",
   "metadata": {},
   "source": [
    "<progress value=\"22\" max=\"100\"></progress>"
   ]
  },
  {
   "cell_type": "markdown",
   "metadata": {},
   "source": [
    "[Contenido](#Contenido)"
   ]
  },
  {
   "cell_type": "markdown",
   "metadata": {},
   "source": [
    "---"
   ]
  },
  {
   "cell_type": "markdown",
   "metadata": {},
   "source": [
    "Markdown y html en Jupyter notebooks\n",
    "===\n",
    "\n",
    "**Juan David Velásquez Henao**  \n",
    "jdvelasq@unal.edu.co   \n",
    "Universidad Nacional de Colombia, Sede Medellín  \n",
    "Facultad de Minas  \n",
    "Medellín, Colombia\n",
    "\n",
    "---\n",
    "\n",
    "Haga click [aquí](https://github.com/jdvelasq/IPy-for-data-science/blob/master/IPy-07-markdown-y-html.ipynb) para acceder a la última versión online\n",
    "\n",
    "Haga click [aquí](http://nbviewer.jupyter.org/github/jdvelasq/IPy-for-data-science/blob/master/IPy-07-markdown-y-html.ipynb) para ver la última versión online en `nbviewer`. \n",
    "\n",
    "---"
   ]
  }
 ],
 "metadata": {
  "kernelspec": {
   "display_name": "Python 3",
   "language": "python",
   "name": "python3"
  },
  "language_info": {
   "codemirror_mode": {
    "name": "ipython",
    "version": 3
   },
   "file_extension": ".py",
   "mimetype": "text/x-python",
   "name": "python",
   "nbconvert_exporter": "python",
   "pygments_lexer": "ipython3",
   "version": "3.6.1"
  }
 },
 "nbformat": 4,
 "nbformat_minor": 1
}
