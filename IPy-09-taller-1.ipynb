{
 "cells": [
  {
   "cell_type": "markdown",
   "metadata": {},
   "source": [
    "Taller sobre mercados de energía - 1\n",
    "===\n",
    "\n",
    "**Juan David Velásquez Henao**  \n",
    "jdvelasq@unal.edu.co   \n",
    "Universidad Nacional de Colombia, Sede Medellín  \n",
    "Facultad de Minas  \n",
    "Medellín, Colombia\n",
    "\n",
    "---\n",
    "\n",
    "Haga click [aquí](https://github.com/jdvelasq/IPy-for-data-science/blob/master/IPy-09-taller-1.ipynb) para acceder a la última versión online\n",
    "\n",
    "Haga click [aquí](http://nbviewer.jupyter.org/github/jdvelasq/IPy-for-data-science/blob/master/IPy-09-taller-1.ipynb) para ver la última versión online en `nbviewer`. \n",
    "\n",
    "---"
   ]
  },
  {
   "cell_type": "markdown",
   "metadata": {},
   "source": [
    "Para el archivo `AportesDiario_2015.csv`, responda las siguientes preguntas usando IPython."
   ]
  },
  {
   "cell_type": "code",
   "execution_count": 1,
   "metadata": {
    "collapsed": true
   },
   "outputs": [],
   "source": [
    "import pandas as pd"
   ]
  },
  {
   "cell_type": "code",
   "execution_count": 3,
   "metadata": {},
   "outputs": [
    {
     "data": {
      "text/html": [
       "<div>\n",
       "<table border=\"1\" class=\"dataframe\">\n",
       "  <thead>\n",
       "    <tr style=\"text-align: right;\">\n",
       "      <th></th>\n",
       "      <th>Fecha</th>\n",
       "      <th>Region Hidrologica</th>\n",
       "      <th>Nombre Rio</th>\n",
       "      <th>Aportes Caudal m3/s</th>\n",
       "      <th>Aportes Energia kWh</th>\n",
       "      <th>Aportes %</th>\n",
       "    </tr>\n",
       "  </thead>\n",
       "  <tbody>\n",
       "    <tr>\n",
       "      <th>0</th>\n",
       "      <td>2015-01-01</td>\n",
       "      <td>ANTIOQUIA</td>\n",
       "      <td>A. SAN LORENZO</td>\n",
       "      <td>19.39</td>\n",
       "      <td>4431100.0</td>\n",
       "      <td>79,70%</td>\n",
       "    </tr>\n",
       "    <tr>\n",
       "      <th>1</th>\n",
       "      <td>2015-01-01</td>\n",
       "      <td>ANTIOQUIA</td>\n",
       "      <td>CONCEPCION</td>\n",
       "      <td>4.64</td>\n",
       "      <td>1266200.0</td>\n",
       "      <td>90,44%</td>\n",
       "    </tr>\n",
       "    <tr>\n",
       "      <th>2</th>\n",
       "      <td>2015-01-01</td>\n",
       "      <td>ANTIOQUIA</td>\n",
       "      <td>DESV. EEPPM (NEC,PAJ,DOL)</td>\n",
       "      <td>6.10</td>\n",
       "      <td>1666400.0</td>\n",
       "      <td>76,09%</td>\n",
       "    </tr>\n",
       "    <tr>\n",
       "      <th>3</th>\n",
       "      <td>2015-01-01</td>\n",
       "      <td>ANTIOQUIA</td>\n",
       "      <td>DESV. MANSO</td>\n",
       "      <td>0.00</td>\n",
       "      <td>NaN</td>\n",
       "      <td>NaN</td>\n",
       "    </tr>\n",
       "    <tr>\n",
       "      <th>4</th>\n",
       "      <td>2015-01-01</td>\n",
       "      <td>ANTIOQUIA</td>\n",
       "      <td>GRANDE</td>\n",
       "      <td>14.79</td>\n",
       "      <td>4638900.0</td>\n",
       "      <td>63,20%</td>\n",
       "    </tr>\n",
       "  </tbody>\n",
       "</table>\n",
       "</div>"
      ],
      "text/plain": [
       "        Fecha Region Hidrologica                 Nombre Rio  \\\n",
       "0  2015-01-01          ANTIOQUIA             A. SAN LORENZO   \n",
       "1  2015-01-01          ANTIOQUIA                 CONCEPCION   \n",
       "2  2015-01-01          ANTIOQUIA  DESV. EEPPM (NEC,PAJ,DOL)   \n",
       "3  2015-01-01          ANTIOQUIA                DESV. MANSO   \n",
       "4  2015-01-01          ANTIOQUIA                     GRANDE   \n",
       "\n",
       "   Aportes Caudal m3/s  Aportes Energia kWh Aportes %  \n",
       "0                19.39            4431100.0    79,70%  \n",
       "1                 4.64            1266200.0    90,44%  \n",
       "2                 6.10            1666400.0    76,09%  \n",
       "3                 0.00                  NaN       NaN  \n",
       "4                14.79            4638900.0    63,20%  "
      ]
     },
     "execution_count": 3,
     "metadata": {},
     "output_type": "execute_result"
    }
   ],
   "source": [
    "x = pd.read_csv('files/AportesDiario_2015.csv', sep=';', decimal=',', thousands='.', skiprows=3)\n",
    "x.head()"
   ]
  },
  {
   "cell_type": "markdown",
   "metadata": {},
   "source": [
    "**1.--** Cuántos registros tiene el archivo?"
   ]
  },
  {
   "cell_type": "code",
   "execution_count": null,
   "metadata": {
    "collapsed": true
   },
   "outputs": [],
   "source": []
  },
  {
   "cell_type": "markdown",
   "metadata": {},
   "source": [
    "**2.--** Cuántas regiones hidrológicas diferentes hay?"
   ]
  },
  {
   "cell_type": "code",
   "execution_count": null,
   "metadata": {
    "collapsed": true
   },
   "outputs": [],
   "source": []
  },
  {
   "cell_type": "markdown",
   "metadata": {},
   "source": [
    "**3.--** Cuántos rios hay?"
   ]
  },
  {
   "cell_type": "code",
   "execution_count": null,
   "metadata": {
    "collapsed": true
   },
   "outputs": [],
   "source": []
  },
  {
   "cell_type": "markdown",
   "metadata": {},
   "source": [
    "**4.--** Cuántos registros hay por región hidrológica?"
   ]
  },
  {
   "cell_type": "code",
   "execution_count": null,
   "metadata": {
    "collapsed": true
   },
   "outputs": [],
   "source": []
  },
  {
   "cell_type": "markdown",
   "metadata": {},
   "source": [
    "**5.--** Cuál es el promedio de aportes en energía kWh por región?"
   ]
  },
  {
   "cell_type": "code",
   "execution_count": null,
   "metadata": {
    "collapsed": true
   },
   "outputs": [],
   "source": []
  },
  {
   "cell_type": "markdown",
   "metadata": {},
   "source": [
    "**6.--** Cuáles registros no tienen datos?"
   ]
  },
  {
   "cell_type": "code",
   "execution_count": null,
   "metadata": {
    "collapsed": true
   },
   "outputs": [],
   "source": []
  },
  {
   "cell_type": "markdown",
   "metadata": {},
   "source": [
    "**7.--** Grafique (gráfico de barras) la producción promedio por región hidrológica?"
   ]
  },
  {
   "cell_type": "code",
   "execution_count": null,
   "metadata": {
    "collapsed": true
   },
   "outputs": [],
   "source": []
  },
  {
   "cell_type": "markdown",
   "metadata": {},
   "source": [
    "---"
   ]
  },
  {
   "cell_type": "markdown",
   "metadata": {},
   "source": [
    "Taller sobre mercados de energía - 1\n",
    "===\n",
    "\n",
    "**Juan David Velásquez Henao**  \n",
    "jdvelasq@unal.edu.co   \n",
    "Universidad Nacional de Colombia, Sede Medellín  \n",
    "Facultad de Minas  \n",
    "Medellín, Colombia\n",
    "\n",
    "---\n",
    "\n",
    "Haga click [aquí](https://github.com/jdvelasq/IPy-for-data-science/blob/master/IPy-09-taller-1.ipynb) para acceder a la última versión online\n",
    "\n",
    "Haga click [aquí](http://nbviewer.jupyter.org/github/jdvelasq/IPy-for-data-science/blob/master/IPy-09-taller-1.ipynb) para ver la última versión online en `nbviewer`. \n",
    "\n",
    "---"
   ]
  }
 ],
 "metadata": {
  "kernelspec": {
   "display_name": "Python 3",
   "language": "python",
   "name": "python3"
  },
  "language_info": {
   "codemirror_mode": {
    "name": "ipython",
    "version": 3
   },
   "file_extension": ".py",
   "mimetype": "text/x-python",
   "name": "python",
   "nbconvert_exporter": "python",
   "pygments_lexer": "ipython3",
   "version": "3.6.1"
  }
 },
 "nbformat": 4,
 "nbformat_minor": 1
}
